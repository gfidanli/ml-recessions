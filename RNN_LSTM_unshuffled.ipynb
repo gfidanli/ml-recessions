{
 "cells": [
  {
   "cell_type": "markdown",
   "metadata": {},
   "source": [
    "### Import dependencies"
   ]
  },
  {
   "cell_type": "code",
   "execution_count": 1,
   "metadata": {},
   "outputs": [],
   "source": [
    "import pandas as pd\n",
    "import numpy as np\n",
    "from functools import reduce\n",
    "from tensorflow.keras.models import Sequential\n",
    "from tensorflow.keras.layers import Dense, Dropout, LSTM, BatchNormalization\n",
    "from sklearn.model_selection import train_test_split\n",
    "from sklearn.preprocessing import StandardScaler\n",
    "import datetime as dt\n",
    "from sklearn.metrics import confusion_matrix, classification_report"
   ]
  },
  {
   "cell_type": "markdown",
   "metadata": {},
   "source": [
    "### Merge datasets"
   ]
  },
  {
   "cell_type": "code",
   "execution_count": 2,
   "metadata": {},
   "outputs": [],
   "source": [
    "# Read in data\n",
    "cpi = pd.read_csv(\"resources/cpi_final.csv\")\n",
    "gdp = pd.read_csv(\"resources/gdp_final.csv\")\n",
    "gdp_pct = pd.read_csv(\"resources/gdp_pct_chg_final.csv\")\n",
    "houst = pd.read_csv(\"resources/housing_starts_final.csv\")\n",
    "opg = pd.read_csv(\"resources/output_gap_final.csv\")\n",
    "rec_dt = pd.read_csv(\"resources/recession_dates_final.csv\")\n",
    "unrate = pd.read_csv(\"resources/unemployment_rate_final.csv\")\n",
    "fed_funds = pd.read_csv(\"resources/fed_funds_final.csv\")\n",
    "yield10_2 = pd.read_csv(\"resources/10YT_minus_2YT_final.csv\")\n",
    "fred = pd.read_csv(\"resources/FRED_data.csv\")"
   ]
  },
  {
   "cell_type": "code",
   "execution_count": 3,
   "metadata": {},
   "outputs": [],
   "source": [
    "# Combine all data sets into one data frame\n",
    "dfs = [cpi, gdp, gdp_pct, houst, opg, rec_dt, unrate, fed_funds, yield10_2, fred]\n",
    "df = reduce(lambda left,right: pd.merge(left,right,on=['quarter'],how='outer'), dfs)"
   ]
  },
  {
   "cell_type": "code",
   "execution_count": 4,
   "metadata": {},
   "outputs": [],
   "source": [
    "# Sort data frame by quarter\n",
    "df = df.sort_values(by=['quarter'])"
   ]
  },
  {
   "cell_type": "code",
   "execution_count": 5,
   "metadata": {},
   "outputs": [],
   "source": [
    "# Drop date columns\n",
    "df = df.drop(columns=['date_x','date_y'])\n",
    "\n",
    "# Rename target column\n",
    "df = df.rename(columns={'target':'recession_actual'})"
   ]
  },
  {
   "cell_type": "code",
   "execution_count": 6,
   "metadata": {},
   "outputs": [],
   "source": [
    "# Set index to quarter\n",
    "df = df.set_index('quarter')"
   ]
  },
  {
   "cell_type": "code",
   "execution_count": 7,
   "metadata": {
    "scrolled": false
   },
   "outputs": [
    {
     "data": {
      "text/html": [
       "<div>\n",
       "<style scoped>\n",
       "    .dataframe tbody tr th:only-of-type {\n",
       "        vertical-align: middle;\n",
       "    }\n",
       "\n",
       "    .dataframe tbody tr th {\n",
       "        vertical-align: top;\n",
       "    }\n",
       "\n",
       "    .dataframe thead th {\n",
       "        text-align: right;\n",
       "    }\n",
       "</style>\n",
       "<table border=\"1\" class=\"dataframe\">\n",
       "  <thead>\n",
       "    <tr style=\"text-align: right;\">\n",
       "      <th></th>\n",
       "      <th>avg_consumer_price_index</th>\n",
       "      <th>gdp</th>\n",
       "      <th>gdp_pct_change</th>\n",
       "      <th>avg_housing_starts</th>\n",
       "      <th>output_gap</th>\n",
       "      <th>avg_unemployment_rate</th>\n",
       "      <th>fed_funds_avg_rate</th>\n",
       "      <th>fed_funds_percent_change_prev_quarter</th>\n",
       "      <th>fed_funds_st_dev_rate</th>\n",
       "      <th>10YT_minus_2YT_avg</th>\n",
       "      <th>10YT_minus_2YT_percent_change_prev_quarter</th>\n",
       "      <th>real_disp_pers_inc</th>\n",
       "      <th>personal_consumption_exp_excl_food_energy</th>\n",
       "      <th>cpi_US_total</th>\n",
       "      <th>tot_public_debt_as_pct_of_gdp</th>\n",
       "      <th>gross_private_domestic_invest</th>\n",
       "      <th>M2_velocity</th>\n",
       "      <th>median_sls_price_houses_sold_US</th>\n",
       "      <th>nat_rate_of_unemp_long_term</th>\n",
       "      <th>personal_consumption_expenditures</th>\n",
       "    </tr>\n",
       "    <tr>\n",
       "      <th>quarter</th>\n",
       "      <th></th>\n",
       "      <th></th>\n",
       "      <th></th>\n",
       "      <th></th>\n",
       "      <th></th>\n",
       "      <th></th>\n",
       "      <th></th>\n",
       "      <th></th>\n",
       "      <th></th>\n",
       "      <th></th>\n",
       "      <th></th>\n",
       "      <th></th>\n",
       "      <th></th>\n",
       "      <th></th>\n",
       "      <th></th>\n",
       "      <th></th>\n",
       "      <th></th>\n",
       "      <th></th>\n",
       "      <th></th>\n",
       "      <th></th>\n",
       "    </tr>\n",
       "  </thead>\n",
       "  <tbody>\n",
       "    <tr>\n",
       "      <th>2019Q1</th>\n",
       "      <td>253.311333</td>\n",
       "      <td>21098.827</td>\n",
       "      <td>3.9</td>\n",
       "      <td>1213.000000</td>\n",
       "      <td>0.848147</td>\n",
       "      <td>4.133333</td>\n",
       "      <td>2.401311</td>\n",
       "      <td>0.083088</td>\n",
       "      <td>0.004646</td>\n",
       "      <td>0.170000</td>\n",
       "      <td>-0.271429</td>\n",
       "      <td>4.5</td>\n",
       "      <td>1.6</td>\n",
       "      <td>1.644936</td>\n",
       "      <td>104.40334</td>\n",
       "      <td>3783.364</td>\n",
       "      <td>1.458</td>\n",
       "      <td>313000.0</td>\n",
       "      <td>4.577</td>\n",
       "      <td>14266.250</td>\n",
       "    </tr>\n",
       "    <tr>\n",
       "      <th>2019Q2</th>\n",
       "      <td>255.139333</td>\n",
       "      <td>21340.267</td>\n",
       "      <td>4.7</td>\n",
       "      <td>1255.666667</td>\n",
       "      <td>0.828815</td>\n",
       "      <td>3.500000</td>\n",
       "      <td>2.397813</td>\n",
       "      <td>-0.001457</td>\n",
       "      <td>0.024002</td>\n",
       "      <td>0.213333</td>\n",
       "      <td>0.254902</td>\n",
       "      <td>2.4</td>\n",
       "      <td>1.6</td>\n",
       "      <td>1.811376</td>\n",
       "      <td>103.20060</td>\n",
       "      <td>3749.471</td>\n",
       "      <td>1.457</td>\n",
       "      <td>322500.0</td>\n",
       "      <td>4.572</td>\n",
       "      <td>14511.176</td>\n",
       "    </tr>\n",
       "  </tbody>\n",
       "</table>\n",
       "</div>"
      ],
      "text/plain": [
       "         avg_consumer_price_index        gdp  gdp_pct_change  \\\n",
       "quarter                                                        \n",
       "2019Q1                 253.311333  21098.827             3.9   \n",
       "2019Q2                 255.139333  21340.267             4.7   \n",
       "\n",
       "         avg_housing_starts  output_gap  avg_unemployment_rate  \\\n",
       "quarter                                                          \n",
       "2019Q1          1213.000000    0.848147               4.133333   \n",
       "2019Q2          1255.666667    0.828815               3.500000   \n",
       "\n",
       "         fed_funds_avg_rate  fed_funds_percent_change_prev_quarter  \\\n",
       "quarter                                                              \n",
       "2019Q1             2.401311                               0.083088   \n",
       "2019Q2             2.397813                              -0.001457   \n",
       "\n",
       "         fed_funds_st_dev_rate  10YT_minus_2YT_avg  \\\n",
       "quarter                                              \n",
       "2019Q1                0.004646            0.170000   \n",
       "2019Q2                0.024002            0.213333   \n",
       "\n",
       "         10YT_minus_2YT_percent_change_prev_quarter  real_disp_pers_inc  \\\n",
       "quarter                                                                   \n",
       "2019Q1                                    -0.271429                 4.5   \n",
       "2019Q2                                     0.254902                 2.4   \n",
       "\n",
       "         personal_consumption_exp_excl_food_energy  cpi_US_total  \\\n",
       "quarter                                                            \n",
       "2019Q1                                         1.6      1.644936   \n",
       "2019Q2                                         1.6      1.811376   \n",
       "\n",
       "         tot_public_debt_as_pct_of_gdp  gross_private_domestic_invest  \\\n",
       "quarter                                                                 \n",
       "2019Q1                       104.40334                       3783.364   \n",
       "2019Q2                       103.20060                       3749.471   \n",
       "\n",
       "         M2_velocity  median_sls_price_houses_sold_US  \\\n",
       "quarter                                                 \n",
       "2019Q1         1.458                         313000.0   \n",
       "2019Q2         1.457                         322500.0   \n",
       "\n",
       "         nat_rate_of_unemp_long_term  personal_consumption_expenditures  \n",
       "quarter                                                                  \n",
       "2019Q1                         4.577                          14266.250  \n",
       "2019Q2                         4.572                          14511.176  "
      ]
     },
     "execution_count": 7,
     "metadata": {},
     "output_type": "execute_result"
    }
   ],
   "source": [
    "# Save 2019 Q1 & Q2\n",
    "df_2019 = df.iloc[[-4,-3],:]\n",
    "df_2019 = df_2019.drop(columns=['recession_actual'])\n",
    "df_2019"
   ]
  },
  {
   "cell_type": "code",
   "execution_count": 8,
   "metadata": {
    "scrolled": true
   },
   "outputs": [
    {
     "data": {
      "text/html": [
       "<div>\n",
       "<style scoped>\n",
       "    .dataframe tbody tr th:only-of-type {\n",
       "        vertical-align: middle;\n",
       "    }\n",
       "\n",
       "    .dataframe tbody tr th {\n",
       "        vertical-align: top;\n",
       "    }\n",
       "\n",
       "    .dataframe thead th {\n",
       "        text-align: right;\n",
       "    }\n",
       "</style>\n",
       "<table border=\"1\" class=\"dataframe\">\n",
       "  <thead>\n",
       "    <tr style=\"text-align: right;\">\n",
       "      <th></th>\n",
       "      <th>avg_consumer_price_index</th>\n",
       "      <th>gdp</th>\n",
       "      <th>gdp_pct_change</th>\n",
       "      <th>avg_housing_starts</th>\n",
       "      <th>output_gap</th>\n",
       "      <th>recession_actual</th>\n",
       "      <th>avg_unemployment_rate</th>\n",
       "      <th>fed_funds_avg_rate</th>\n",
       "      <th>fed_funds_percent_change_prev_quarter</th>\n",
       "      <th>fed_funds_st_dev_rate</th>\n",
       "      <th>...</th>\n",
       "      <th>10YT_minus_2YT_percent_change_prev_quarter</th>\n",
       "      <th>real_disp_pers_inc</th>\n",
       "      <th>personal_consumption_exp_excl_food_energy</th>\n",
       "      <th>cpi_US_total</th>\n",
       "      <th>tot_public_debt_as_pct_of_gdp</th>\n",
       "      <th>gross_private_domestic_invest</th>\n",
       "      <th>M2_velocity</th>\n",
       "      <th>median_sls_price_houses_sold_US</th>\n",
       "      <th>nat_rate_of_unemp_long_term</th>\n",
       "      <th>personal_consumption_expenditures</th>\n",
       "    </tr>\n",
       "    <tr>\n",
       "      <th>quarter</th>\n",
       "      <th></th>\n",
       "      <th></th>\n",
       "      <th></th>\n",
       "      <th></th>\n",
       "      <th></th>\n",
       "      <th></th>\n",
       "      <th></th>\n",
       "      <th></th>\n",
       "      <th></th>\n",
       "      <th></th>\n",
       "      <th></th>\n",
       "      <th></th>\n",
       "      <th></th>\n",
       "      <th></th>\n",
       "      <th></th>\n",
       "      <th></th>\n",
       "      <th></th>\n",
       "      <th></th>\n",
       "      <th></th>\n",
       "      <th></th>\n",
       "      <th></th>\n",
       "    </tr>\n",
       "  </thead>\n",
       "  <tbody>\n",
       "    <tr>\n",
       "      <th>2018Q1</th>\n",
       "      <td>249.250333</td>\n",
       "      <td>20163.159</td>\n",
       "      <td>5.0</td>\n",
       "      <td>1320.666667</td>\n",
       "      <td>0.202456</td>\n",
       "      <td>0.0</td>\n",
       "      <td>4.333333</td>\n",
       "      <td>1.448966</td>\n",
       "      <td>0.204683</td>\n",
       "      <td>0.083902</td>\n",
       "      <td>...</td>\n",
       "      <td>-0.113861</td>\n",
       "      <td>6.9</td>\n",
       "      <td>1.8</td>\n",
       "      <td>2.214194</td>\n",
       "      <td>104.59493</td>\n",
       "      <td>3542.412</td>\n",
       "      <td>1.451</td>\n",
       "      <td>331800.0</td>\n",
       "      <td>4.597</td>\n",
       "      <td>13728.357</td>\n",
       "    </tr>\n",
       "    <tr>\n",
       "      <th>2018Q2</th>\n",
       "      <td>250.578667</td>\n",
       "      <td>20510.177</td>\n",
       "      <td>7.1</td>\n",
       "      <td>1259.666667</td>\n",
       "      <td>0.589182</td>\n",
       "      <td>0.0</td>\n",
       "      <td>3.833333</td>\n",
       "      <td>1.727176</td>\n",
       "      <td>0.192007</td>\n",
       "      <td>0.075492</td>\n",
       "      <td>...</td>\n",
       "      <td>-0.251397</td>\n",
       "      <td>2.7</td>\n",
       "      <td>2.0</td>\n",
       "      <td>2.711887</td>\n",
       "      <td>103.33928</td>\n",
       "      <td>3561.592</td>\n",
       "      <td>1.461</td>\n",
       "      <td>315600.0</td>\n",
       "      <td>4.592</td>\n",
       "      <td>13939.828</td>\n",
       "    </tr>\n",
       "    <tr>\n",
       "      <th>2018Q3</th>\n",
       "      <td>251.828667</td>\n",
       "      <td>20749.752</td>\n",
       "      <td>4.8</td>\n",
       "      <td>1233.000000</td>\n",
       "      <td>0.821959</td>\n",
       "      <td>0.0</td>\n",
       "      <td>3.866667</td>\n",
       "      <td>1.923492</td>\n",
       "      <td>0.113663</td>\n",
       "      <td>0.047184</td>\n",
       "      <td>...</td>\n",
       "      <td>-0.432836</td>\n",
       "      <td>3.3</td>\n",
       "      <td>2.0</td>\n",
       "      <td>2.640940</td>\n",
       "      <td>103.69309</td>\n",
       "      <td>3683.981</td>\n",
       "      <td>1.462</td>\n",
       "      <td>330900.0</td>\n",
       "      <td>4.587</td>\n",
       "      <td>14114.559</td>\n",
       "    </tr>\n",
       "    <tr>\n",
       "      <th>2018Q4</th>\n",
       "      <td>252.759000</td>\n",
       "      <td>20897.804</td>\n",
       "      <td>2.9</td>\n",
       "      <td>1185.000000</td>\n",
       "      <td>0.592021</td>\n",
       "      <td>0.0</td>\n",
       "      <td>3.566667</td>\n",
       "      <td>2.217097</td>\n",
       "      <td>0.152641</td>\n",
       "      <td>0.066218</td>\n",
       "      <td>...</td>\n",
       "      <td>-0.078947</td>\n",
       "      <td>2.8</td>\n",
       "      <td>1.9</td>\n",
       "      <td>2.203131</td>\n",
       "      <td>105.15026</td>\n",
       "      <td>3725.234</td>\n",
       "      <td>1.462</td>\n",
       "      <td>322800.0</td>\n",
       "      <td>4.582</td>\n",
       "      <td>14211.920</td>\n",
       "    </tr>\n",
       "    <tr>\n",
       "      <th>2019Q1</th>\n",
       "      <td>253.311333</td>\n",
       "      <td>21098.827</td>\n",
       "      <td>3.9</td>\n",
       "      <td>1213.000000</td>\n",
       "      <td>0.848147</td>\n",
       "      <td>0.0</td>\n",
       "      <td>4.133333</td>\n",
       "      <td>2.401311</td>\n",
       "      <td>0.083088</td>\n",
       "      <td>0.004646</td>\n",
       "      <td>...</td>\n",
       "      <td>-0.271429</td>\n",
       "      <td>4.5</td>\n",
       "      <td>1.6</td>\n",
       "      <td>1.644936</td>\n",
       "      <td>104.40334</td>\n",
       "      <td>3783.364</td>\n",
       "      <td>1.458</td>\n",
       "      <td>313000.0</td>\n",
       "      <td>4.577</td>\n",
       "      <td>14266.250</td>\n",
       "    </tr>\n",
       "  </tbody>\n",
       "</table>\n",
       "<p>5 rows × 21 columns</p>\n",
       "</div>"
      ],
      "text/plain": [
       "         avg_consumer_price_index        gdp  gdp_pct_change  \\\n",
       "quarter                                                        \n",
       "2018Q1                 249.250333  20163.159             5.0   \n",
       "2018Q2                 250.578667  20510.177             7.1   \n",
       "2018Q3                 251.828667  20749.752             4.8   \n",
       "2018Q4                 252.759000  20897.804             2.9   \n",
       "2019Q1                 253.311333  21098.827             3.9   \n",
       "\n",
       "         avg_housing_starts  output_gap  recession_actual  \\\n",
       "quarter                                                     \n",
       "2018Q1          1320.666667    0.202456               0.0   \n",
       "2018Q2          1259.666667    0.589182               0.0   \n",
       "2018Q3          1233.000000    0.821959               0.0   \n",
       "2018Q4          1185.000000    0.592021               0.0   \n",
       "2019Q1          1213.000000    0.848147               0.0   \n",
       "\n",
       "         avg_unemployment_rate  fed_funds_avg_rate  \\\n",
       "quarter                                              \n",
       "2018Q1                4.333333            1.448966   \n",
       "2018Q2                3.833333            1.727176   \n",
       "2018Q3                3.866667            1.923492   \n",
       "2018Q4                3.566667            2.217097   \n",
       "2019Q1                4.133333            2.401311   \n",
       "\n",
       "         fed_funds_percent_change_prev_quarter  fed_funds_st_dev_rate  ...  \\\n",
       "quarter                                                                ...   \n",
       "2018Q1                                0.204683               0.083902  ...   \n",
       "2018Q2                                0.192007               0.075492  ...   \n",
       "2018Q3                                0.113663               0.047184  ...   \n",
       "2018Q4                                0.152641               0.066218  ...   \n",
       "2019Q1                                0.083088               0.004646  ...   \n",
       "\n",
       "         10YT_minus_2YT_percent_change_prev_quarter  real_disp_pers_inc  \\\n",
       "quarter                                                                   \n",
       "2018Q1                                    -0.113861                 6.9   \n",
       "2018Q2                                    -0.251397                 2.7   \n",
       "2018Q3                                    -0.432836                 3.3   \n",
       "2018Q4                                    -0.078947                 2.8   \n",
       "2019Q1                                    -0.271429                 4.5   \n",
       "\n",
       "         personal_consumption_exp_excl_food_energy  cpi_US_total  \\\n",
       "quarter                                                            \n",
       "2018Q1                                         1.8      2.214194   \n",
       "2018Q2                                         2.0      2.711887   \n",
       "2018Q3                                         2.0      2.640940   \n",
       "2018Q4                                         1.9      2.203131   \n",
       "2019Q1                                         1.6      1.644936   \n",
       "\n",
       "         tot_public_debt_as_pct_of_gdp  gross_private_domestic_invest  \\\n",
       "quarter                                                                 \n",
       "2018Q1                       104.59493                       3542.412   \n",
       "2018Q2                       103.33928                       3561.592   \n",
       "2018Q3                       103.69309                       3683.981   \n",
       "2018Q4                       105.15026                       3725.234   \n",
       "2019Q1                       104.40334                       3783.364   \n",
       "\n",
       "         M2_velocity  median_sls_price_houses_sold_US  \\\n",
       "quarter                                                 \n",
       "2018Q1         1.451                         331800.0   \n",
       "2018Q2         1.461                         315600.0   \n",
       "2018Q3         1.462                         330900.0   \n",
       "2018Q4         1.462                         322800.0   \n",
       "2019Q1         1.458                         313000.0   \n",
       "\n",
       "         nat_rate_of_unemp_long_term  personal_consumption_expenditures  \n",
       "quarter                                                                  \n",
       "2018Q1                         4.597                          13728.357  \n",
       "2018Q2                         4.592                          13939.828  \n",
       "2018Q3                         4.587                          14114.559  \n",
       "2018Q4                         4.582                          14211.920  \n",
       "2019Q1                         4.577                          14266.250  \n",
       "\n",
       "[5 rows x 21 columns]"
      ]
     },
     "execution_count": 8,
     "metadata": {},
     "output_type": "execute_result"
    }
   ],
   "source": [
    "# Drop rows with missing values\n",
    "df = df.dropna()\n",
    "df.tail()"
   ]
  },
  {
   "cell_type": "markdown",
   "metadata": {},
   "source": [
    "### Shift data with sliding window technique"
   ]
  },
  {
   "cell_type": "code",
   "execution_count": 9,
   "metadata": {},
   "outputs": [],
   "source": [
    "df['recession_1q_out'] = df['recession_actual'].shift(-1)\n",
    "df['recession_2q_out'] = df['recession_actual'].shift(-2)\n",
    "df['recession_4q_out'] = df['recession_actual'].shift(-4)"
   ]
  },
  {
   "cell_type": "code",
   "execution_count": 10,
   "metadata": {},
   "outputs": [],
   "source": [
    "# Create three datasets -- 1 for each model (recession 1Qtr out, 2Qtrs out, 4Qtrs out)\n",
    "df_q1 = df.drop(columns=['recession_2q_out','recession_4q_out','recession_actual'])\n",
    "df_q2 = df.drop(columns=['recession_4q_out','recession_1q_out','recession_actual'])\n",
    "df_q4 = df.drop(columns=['recession_1q_out','recession_2q_out','recession_actual'])"
   ]
  },
  {
   "cell_type": "code",
   "execution_count": 11,
   "metadata": {},
   "outputs": [],
   "source": [
    "# Delete missing values\n",
    "df_q1 = df_q1.dropna()\n",
    "df_q2 = df_q2.dropna()\n",
    "df_q4 = df_q4.dropna()"
   ]
  },
  {
   "cell_type": "code",
   "execution_count": 12,
   "metadata": {},
   "outputs": [],
   "source": [
    "# Define y variables\n",
    "y1 = df_q1['recession_1q_out']\n",
    "y2 = df_q2['recession_2q_out']\n",
    "y3 = df_q4['recession_4q_out']"
   ]
  },
  {
   "cell_type": "code",
   "execution_count": 13,
   "metadata": {},
   "outputs": [],
   "source": [
    "# Drop target\n",
    "df_q1 = df_q1.drop(columns=['recession_1q_out'])\n",
    "df_q2 = df_q2.drop(columns=['recession_2q_out'])\n",
    "df_q4 = df_q4.drop(columns=['recession_4q_out'])"
   ]
  },
  {
   "cell_type": "code",
   "execution_count": 14,
   "metadata": {},
   "outputs": [],
   "source": [
    "# Define X\n",
    "X_q1 = df_q1\n",
    "X_q2 = df_q2\n",
    "X_q4 = df_q4"
   ]
  },
  {
   "cell_type": "markdown",
   "metadata": {},
   "source": [
    "### Split and scale data"
   ]
  },
  {
   "cell_type": "code",
   "execution_count": 15,
   "metadata": {},
   "outputs": [],
   "source": [
    "# Split data into training and testing (stratify=None, shuffle=False)\n",
    "X1_train, X1_test, y1_train, y1_test=train_test_split(X_q1, y1, train_size=0.8, random_state=42, shuffle=False)\n",
    "X2_train, X2_test, y2_train, y2_test=train_test_split(X_q2, y2, train_size=0.8, random_state=42, shuffle=False)\n",
    "X3_train, X3_test, y3_train, y3_test=train_test_split(X_q4, y3, train_size=0.8, random_state=42, shuffle=False)"
   ]
  },
  {
   "cell_type": "code",
   "execution_count": 16,
   "metadata": {
    "scrolled": true
   },
   "outputs": [],
   "source": [
    "# Create scaler object\n",
    "X1_scaler = StandardScaler().fit(X1_train)\n",
    "X2_scaler = StandardScaler().fit(X2_train)\n",
    "X3_scaler = StandardScaler().fit(X3_train)\n",
    "\n",
    "# X full scaler\n",
    "X1_full_scaler = StandardScaler().fit(X_q1)\n",
    "X2_full_scaler = StandardScaler().fit(X_q2)\n",
    "X3_full_scaler = StandardScaler().fit(X_q4)"
   ]
  },
  {
   "cell_type": "code",
   "execution_count": 17,
   "metadata": {},
   "outputs": [],
   "source": [
    "# Scale training data\n",
    "X1_train_scaled = X1_scaler.transform(X1_train)\n",
    "X2_train_scaled = X2_scaler.transform(X2_train)\n",
    "X3_train_scaled = X3_scaler.transform(X3_train)\n",
    "\n",
    "# Scale testing data\n",
    "X1_test_scaled = X1_scaler.transform(X1_test)\n",
    "X2_test_scaled = X2_scaler.transform(X2_test)\n",
    "X3_test_scaled = X3_scaler.transform(X3_test)\n",
    "\n",
    "# Scale full X data (no splits)\n",
    "X1_full_scaled = X1_full_scaler.transform(X_q1)\n",
    "X2_full_scaled = X2_full_scaler.transform(X_q2)\n",
    "X3_full_scaled = X3_full_scaler.transform(X_q4)"
   ]
  },
  {
   "cell_type": "markdown",
   "metadata": {},
   "source": [
    "### Reshape data to fit LSTM format"
   ]
  },
  {
   "cell_type": "code",
   "execution_count": 18,
   "metadata": {},
   "outputs": [],
   "source": [
    "# Method to reshape data\n",
    "def reshape_data(obj):\n",
    "    reshaped_obj = np.reshape(obj, (obj.shape[0], obj.shape[1], 1))\n",
    "    return reshaped_obj"
   ]
  },
  {
   "cell_type": "code",
   "execution_count": 19,
   "metadata": {},
   "outputs": [],
   "source": [
    "# Reshape training data\n",
    "reshaped_X1_train_scaled = reshape_data(X1_train_scaled)\n",
    "reshaped_X2_train_scaled = reshape_data(X2_train_scaled)\n",
    "reshaped_X3_train_scaled = reshape_data(X3_train_scaled)"
   ]
  },
  {
   "cell_type": "code",
   "execution_count": 20,
   "metadata": {},
   "outputs": [],
   "source": [
    "# Reshape testing data\n",
    "reshaped_X1_test_scaled = reshape_data(X1_test_scaled)\n",
    "reshaped_X2_test_scaled = reshape_data(X2_test_scaled)\n",
    "reshaped_X3_test_scaled = reshape_data(X3_test_scaled)"
   ]
  },
  {
   "cell_type": "code",
   "execution_count": 21,
   "metadata": {},
   "outputs": [],
   "source": [
    "# Reshape X_full\n",
    "reshaped_X1_full = reshape_data(X1_full_scaled)\n",
    "reshaped_X2_full = reshape_data(X2_full_scaled)\n",
    "reshaped_X3_full = reshape_data(X3_full_scaled)"
   ]
  },
  {
   "cell_type": "markdown",
   "metadata": {},
   "source": [
    "# Build Model"
   ]
  },
  {
   "cell_type": "code",
   "execution_count": 22,
   "metadata": {},
   "outputs": [],
   "source": [
    "# Initialize model\n",
    "model = Sequential()"
   ]
  },
  {
   "cell_type": "code",
   "execution_count": 23,
   "metadata": {},
   "outputs": [
    {
     "name": "stdout",
     "output_type": "stream",
     "text": [
      "WARNING:tensorflow:From /anaconda3/lib/python3.7/site-packages/tensorflow/python/ops/init_ops.py:1251: calling VarianceScaling.__init__ (from tensorflow.python.ops.init_ops) with dtype is deprecated and will be removed in a future version.\n",
      "Instructions for updating:\n",
      "Call initializer instance with the dtype argument instead of passing it to the constructor\n"
     ]
    }
   ],
   "source": [
    "# Add layers\n",
    "model.add(LSTM(128, input_shape=(reshaped_X1_train_scaled.shape[1],1), return_sequences=True))\n",
    "model.add(Dropout(0.4))\n",
    "model.add(BatchNormalization())  # Normalize activation outputs\n",
    "\n",
    "model.add(LSTM(128, return_sequences=True))\n",
    "model.add(Dropout(0.4))\n",
    "model.add(BatchNormalization())\n",
    "\n",
    "model.add(LSTM(128))\n",
    "model.add(Dropout(0.4))\n",
    "model.add(BatchNormalization())\n",
    "\n",
    "model.add(Dense(32, activation='relu'))\n",
    "model.add(Dropout(0.4))\n",
    "\n",
    "model.add(Dense(2, activation='softmax'))"
   ]
  },
  {
   "cell_type": "code",
   "execution_count": 26,
   "metadata": {},
   "outputs": [],
   "source": [
    "# Compile model\n",
    "model.compile(optimizer=\"adam\", loss=\"sparse_categorical_crossentropy\", metrics=['accuracy'])"
   ]
  },
  {
   "cell_type": "markdown",
   "metadata": {},
   "source": [
    "## Train and predict on X1-Y1 data (recession 1 quarter out)"
   ]
  },
  {
   "cell_type": "code",
   "execution_count": 27,
   "metadata": {
    "scrolled": true
   },
   "outputs": [
    {
     "name": "stdout",
     "output_type": "stream",
     "text": [
      "Train on 108 samples, validate on 28 samples\n",
      "Epoch 1/100\n",
      "108/108 - 17s - loss: 0.1393 - acc: 0.9444 - val_loss: 1.4172 - val_acc: 0.3214\n",
      "Epoch 2/100\n",
      "108/108 - 2s - loss: 0.1656 - acc: 0.9259 - val_loss: 1.0444 - val_acc: 0.4286\n",
      "Epoch 3/100\n",
      "108/108 - 2s - loss: 0.2049 - acc: 0.8981 - val_loss: 1.1493 - val_acc: 0.3929\n",
      "Epoch 4/100\n",
      "108/108 - 2s - loss: 0.2271 - acc: 0.8704 - val_loss: 1.3686 - val_acc: 0.2857\n",
      "Epoch 5/100\n",
      "108/108 - 2s - loss: 0.1922 - acc: 0.9352 - val_loss: 1.6555 - val_acc: 0.1429\n",
      "Epoch 6/100\n",
      "108/108 - 2s - loss: 0.1256 - acc: 0.9352 - val_loss: 1.4434 - val_acc: 0.1786\n",
      "Epoch 7/100\n",
      "108/108 - 2s - loss: 0.1330 - acc: 0.9352 - val_loss: 1.1400 - val_acc: 0.3214\n",
      "Epoch 8/100\n",
      "108/108 - 2s - loss: 0.1897 - acc: 0.9352 - val_loss: 0.9792 - val_acc: 0.4643\n",
      "Epoch 9/100\n",
      "108/108 - 2s - loss: 0.1070 - acc: 0.9722 - val_loss: 0.9147 - val_acc: 0.5357\n",
      "Epoch 10/100\n",
      "108/108 - 2s - loss: 0.1287 - acc: 0.9537 - val_loss: 0.8869 - val_acc: 0.5714\n",
      "Epoch 11/100\n",
      "108/108 - 2s - loss: 0.1173 - acc: 0.9722 - val_loss: 0.9038 - val_acc: 0.6071\n",
      "Epoch 12/100\n",
      "108/108 - 2s - loss: 0.1529 - acc: 0.9352 - val_loss: 0.9060 - val_acc: 0.6071\n",
      "Epoch 13/100\n",
      "108/108 - 2s - loss: 0.1244 - acc: 0.9444 - val_loss: 0.9537 - val_acc: 0.6429\n",
      "Epoch 14/100\n",
      "108/108 - 2s - loss: 0.0982 - acc: 0.9537 - val_loss: 0.9155 - val_acc: 0.6071\n",
      "Epoch 15/100\n",
      "108/108 - 2s - loss: 0.0834 - acc: 0.9630 - val_loss: 0.9576 - val_acc: 0.5714\n",
      "Epoch 16/100\n",
      "108/108 - 2s - loss: 0.0873 - acc: 0.9722 - val_loss: 1.1206 - val_acc: 0.5714\n",
      "Epoch 17/100\n",
      "108/108 - 2s - loss: 0.0893 - acc: 0.9630 - val_loss: 1.1592 - val_acc: 0.5000\n",
      "Epoch 18/100\n",
      "108/108 - 2s - loss: 0.1042 - acc: 0.9537 - val_loss: 1.0501 - val_acc: 0.6071\n",
      "Epoch 19/100\n",
      "108/108 - 2s - loss: 0.0845 - acc: 0.9630 - val_loss: 0.9501 - val_acc: 0.6071\n",
      "Epoch 20/100\n",
      "108/108 - 2s - loss: 0.0465 - acc: 1.0000 - val_loss: 0.8958 - val_acc: 0.6429\n",
      "Epoch 21/100\n",
      "108/108 - 2s - loss: 0.0878 - acc: 0.9537 - val_loss: 0.8850 - val_acc: 0.6786\n",
      "Epoch 22/100\n",
      "108/108 - 2s - loss: 0.1014 - acc: 0.9537 - val_loss: 0.8655 - val_acc: 0.7143\n",
      "Epoch 23/100\n",
      "108/108 - 2s - loss: 0.0550 - acc: 0.9815 - val_loss: 0.8502 - val_acc: 0.7500\n",
      "Epoch 24/100\n",
      "108/108 - 2s - loss: 0.0971 - acc: 0.9722 - val_loss: 0.8667 - val_acc: 0.7143\n",
      "Epoch 25/100\n",
      "108/108 - 2s - loss: 0.1306 - acc: 0.9352 - val_loss: 0.9452 - val_acc: 0.6786\n",
      "Epoch 26/100\n",
      "108/108 - 2s - loss: 0.0857 - acc: 0.9722 - val_loss: 1.0522 - val_acc: 0.7143\n",
      "Epoch 27/100\n",
      "108/108 - 2s - loss: 0.0624 - acc: 0.9815 - val_loss: 1.0684 - val_acc: 0.7143\n",
      "Epoch 28/100\n",
      "108/108 - 2s - loss: 0.0838 - acc: 0.9630 - val_loss: 1.0613 - val_acc: 0.7143\n",
      "Epoch 29/100\n",
      "108/108 - 2s - loss: 0.0772 - acc: 0.9722 - val_loss: 1.1099 - val_acc: 0.7500\n",
      "Epoch 30/100\n",
      "108/108 - 2s - loss: 0.0950 - acc: 0.9722 - val_loss: 1.1907 - val_acc: 0.7500\n",
      "Epoch 31/100\n",
      "108/108 - 2s - loss: 0.0586 - acc: 0.9722 - val_loss: 1.2273 - val_acc: 0.7143\n",
      "Epoch 32/100\n",
      "108/108 - 2s - loss: 0.0813 - acc: 0.9630 - val_loss: 1.0992 - val_acc: 0.6786\n",
      "Epoch 33/100\n",
      "108/108 - 2s - loss: 0.0782 - acc: 0.9722 - val_loss: 1.0167 - val_acc: 0.7143\n",
      "Epoch 34/100\n",
      "108/108 - 2s - loss: 0.0701 - acc: 0.9722 - val_loss: 1.0276 - val_acc: 0.7857\n",
      "Epoch 35/100\n",
      "108/108 - 2s - loss: 0.0799 - acc: 0.9722 - val_loss: 1.1753 - val_acc: 0.7857\n",
      "Epoch 36/100\n",
      "108/108 - 2s - loss: 0.0999 - acc: 0.9722 - val_loss: 1.1450 - val_acc: 0.7857\n",
      "Epoch 37/100\n",
      "108/108 - 2s - loss: 0.0557 - acc: 0.9722 - val_loss: 1.0895 - val_acc: 0.7500\n",
      "Epoch 38/100\n",
      "108/108 - 1s - loss: 0.0938 - acc: 0.9722 - val_loss: 1.1319 - val_acc: 0.7857\n",
      "Epoch 39/100\n",
      "108/108 - 1s - loss: 0.0402 - acc: 1.0000 - val_loss: 1.2831 - val_acc: 0.7500\n",
      "Epoch 40/100\n",
      "108/108 - 2s - loss: 0.0417 - acc: 0.9907 - val_loss: 1.3848 - val_acc: 0.6786\n",
      "Epoch 41/100\n",
      "108/108 - 2s - loss: 0.0489 - acc: 0.9815 - val_loss: 1.4047 - val_acc: 0.6429\n",
      "Epoch 42/100\n",
      "108/108 - 2s - loss: 0.0900 - acc: 0.9630 - val_loss: 1.4444 - val_acc: 0.6786\n",
      "Epoch 43/100\n",
      "108/108 - 2s - loss: 0.0254 - acc: 0.9907 - val_loss: 1.4745 - val_acc: 0.7143\n",
      "Epoch 44/100\n",
      "108/108 - 2s - loss: 0.0702 - acc: 0.9722 - val_loss: 1.4791 - val_acc: 0.7143\n",
      "Epoch 45/100\n",
      "108/108 - 2s - loss: 0.0351 - acc: 0.9907 - val_loss: 1.4530 - val_acc: 0.6786\n",
      "Epoch 46/100\n",
      "108/108 - 2s - loss: 0.0366 - acc: 1.0000 - val_loss: 1.4053 - val_acc: 0.6786\n",
      "Epoch 47/100\n",
      "108/108 - 2s - loss: 0.0572 - acc: 0.9815 - val_loss: 1.4303 - val_acc: 0.7143\n",
      "Epoch 48/100\n",
      "108/108 - 2s - loss: 0.0266 - acc: 1.0000 - val_loss: 1.4498 - val_acc: 0.7857\n",
      "Epoch 49/100\n",
      "108/108 - 2s - loss: 0.0488 - acc: 0.9815 - val_loss: 1.2663 - val_acc: 0.7500\n",
      "Epoch 50/100\n",
      "108/108 - 2s - loss: 0.0765 - acc: 0.9815 - val_loss: 1.2224 - val_acc: 0.7143\n",
      "Epoch 51/100\n",
      "108/108 - 2s - loss: 0.0505 - acc: 0.9907 - val_loss: 1.3532 - val_acc: 0.7857\n",
      "Epoch 52/100\n",
      "108/108 - 2s - loss: 0.0279 - acc: 0.9907 - val_loss: 1.4696 - val_acc: 0.7857\n",
      "Epoch 53/100\n",
      "108/108 - 2s - loss: 0.0258 - acc: 1.0000 - val_loss: 1.3903 - val_acc: 0.7857\n",
      "Epoch 54/100\n",
      "108/108 - 2s - loss: 0.0271 - acc: 1.0000 - val_loss: 1.3676 - val_acc: 0.7857\n",
      "Epoch 55/100\n",
      "108/108 - 2s - loss: 0.0369 - acc: 0.9907 - val_loss: 1.3588 - val_acc: 0.7857\n",
      "Epoch 56/100\n",
      "108/108 - 2s - loss: 0.0386 - acc: 0.9815 - val_loss: 1.5130 - val_acc: 0.7857\n",
      "Epoch 57/100\n",
      "108/108 - 2s - loss: 0.0206 - acc: 1.0000 - val_loss: 1.6106 - val_acc: 0.7500\n",
      "Epoch 58/100\n",
      "108/108 - 1s - loss: 0.0277 - acc: 0.9907 - val_loss: 1.7468 - val_acc: 0.7500\n",
      "Epoch 59/100\n",
      "108/108 - 2s - loss: 0.0173 - acc: 1.0000 - val_loss: 1.8822 - val_acc: 0.7500\n",
      "Epoch 60/100\n",
      "108/108 - 2s - loss: 0.0420 - acc: 0.9815 - val_loss: 1.6763 - val_acc: 0.7857\n",
      "Epoch 61/100\n",
      "108/108 - 2s - loss: 0.0491 - acc: 0.9907 - val_loss: 1.5146 - val_acc: 0.7500\n",
      "Epoch 62/100\n",
      "108/108 - 2s - loss: 0.0518 - acc: 0.9815 - val_loss: 1.4307 - val_acc: 0.7857\n",
      "Epoch 63/100\n",
      "108/108 - 2s - loss: 0.1025 - acc: 0.9815 - val_loss: 1.5566 - val_acc: 0.7857\n",
      "Epoch 64/100\n",
      "108/108 - 2s - loss: 0.0406 - acc: 0.9815 - val_loss: 1.8020 - val_acc: 0.7500\n",
      "Epoch 65/100\n",
      "108/108 - 2s - loss: 0.0396 - acc: 0.9815 - val_loss: 1.6643 - val_acc: 0.7857\n",
      "Epoch 66/100\n",
      "108/108 - 2s - loss: 0.0196 - acc: 1.0000 - val_loss: 1.4517 - val_acc: 0.8214\n",
      "Epoch 67/100\n",
      "108/108 - 2s - loss: 0.0495 - acc: 0.9907 - val_loss: 1.6581 - val_acc: 0.7857\n",
      "Epoch 68/100\n",
      "108/108 - 2s - loss: 0.0072 - acc: 1.0000 - val_loss: 1.8319 - val_acc: 0.7857\n",
      "Epoch 69/100\n",
      "108/108 - 2s - loss: 0.0356 - acc: 0.9907 - val_loss: 2.0224 - val_acc: 0.7500\n",
      "Epoch 70/100\n",
      "108/108 - 2s - loss: 0.0439 - acc: 0.9815 - val_loss: 1.8285 - val_acc: 0.7857\n",
      "Epoch 71/100\n",
      "108/108 - 2s - loss: 0.0327 - acc: 0.9815 - val_loss: 1.7262 - val_acc: 0.7500\n",
      "Epoch 72/100\n",
      "108/108 - 2s - loss: 0.0178 - acc: 0.9907 - val_loss: 1.7241 - val_acc: 0.7500\n",
      "Epoch 73/100\n",
      "108/108 - 2s - loss: 0.0420 - acc: 0.9907 - val_loss: 1.7095 - val_acc: 0.7857\n",
      "Epoch 74/100\n",
      "108/108 - 2s - loss: 0.0099 - acc: 1.0000 - val_loss: 1.8049 - val_acc: 0.7857\n",
      "Epoch 75/100\n",
      "108/108 - 2s - loss: 0.0185 - acc: 0.9907 - val_loss: 1.8540 - val_acc: 0.7857\n",
      "Epoch 76/100\n",
      "108/108 - 2s - loss: 0.0249 - acc: 0.9907 - val_loss: 1.7083 - val_acc: 0.7500\n",
      "Epoch 77/100\n",
      "108/108 - 2s - loss: 0.0653 - acc: 0.9815 - val_loss: 1.9166 - val_acc: 0.7500\n",
      "Epoch 78/100\n",
      "108/108 - 2s - loss: 0.0295 - acc: 0.9907 - val_loss: 2.1261 - val_acc: 0.7143\n",
      "Epoch 79/100\n",
      "108/108 - 2s - loss: 0.0504 - acc: 0.9815 - val_loss: 2.0407 - val_acc: 0.7500\n",
      "Epoch 80/100\n",
      "108/108 - 2s - loss: 0.0353 - acc: 0.9907 - val_loss: 1.6915 - val_acc: 0.7857\n",
      "Epoch 81/100\n",
      "108/108 - 2s - loss: 0.0171 - acc: 0.9907 - val_loss: 1.5233 - val_acc: 0.7857\n",
      "Epoch 82/100\n",
      "108/108 - 2s - loss: 0.1012 - acc: 0.9907 - val_loss: 1.5019 - val_acc: 0.7857\n",
      "Epoch 83/100\n",
      "108/108 - 2s - loss: 0.0831 - acc: 0.9815 - val_loss: 1.7129 - val_acc: 0.7857\n",
      "Epoch 84/100\n",
      "108/108 - 2s - loss: 0.0095 - acc: 1.0000 - val_loss: 1.8671 - val_acc: 0.7500\n",
      "Epoch 85/100\n",
      "108/108 - 2s - loss: 0.0138 - acc: 1.0000 - val_loss: 1.9627 - val_acc: 0.7500\n",
      "Epoch 86/100\n",
      "108/108 - 2s - loss: 0.0614 - acc: 0.9815 - val_loss: 1.8745 - val_acc: 0.7143\n",
      "Epoch 87/100\n",
      "108/108 - 2s - loss: 0.0627 - acc: 0.9722 - val_loss: 1.7979 - val_acc: 0.6429\n",
      "Epoch 88/100\n",
      "108/108 - 2s - loss: 0.1095 - acc: 0.9815 - val_loss: 1.9378 - val_acc: 0.6429\n",
      "Epoch 89/100\n",
      "108/108 - 2s - loss: 0.0396 - acc: 0.9815 - val_loss: 1.9533 - val_acc: 0.6429\n"
     ]
    },
    {
     "name": "stdout",
     "output_type": "stream",
     "text": [
      "Epoch 90/100\n",
      "108/108 - 2s - loss: 0.0637 - acc: 0.9630 - val_loss: 1.9688 - val_acc: 0.6786\n",
      "Epoch 91/100\n",
      "108/108 - 2s - loss: 0.0585 - acc: 0.9815 - val_loss: 2.0406 - val_acc: 0.7143\n",
      "Epoch 92/100\n",
      "108/108 - 2s - loss: 0.0538 - acc: 0.9722 - val_loss: 2.6530 - val_acc: 0.7500\n",
      "Epoch 93/100\n",
      "108/108 - 2s - loss: 0.0288 - acc: 0.9815 - val_loss: 2.8731 - val_acc: 0.7500\n",
      "Epoch 94/100\n",
      "108/108 - 2s - loss: 0.0269 - acc: 0.9907 - val_loss: 2.9271 - val_acc: 0.7500\n",
      "Epoch 95/100\n",
      "108/108 - 2s - loss: 0.0299 - acc: 0.9907 - val_loss: 2.8262 - val_acc: 0.7500\n",
      "Epoch 96/100\n",
      "108/108 - 2s - loss: 0.0189 - acc: 1.0000 - val_loss: 2.5323 - val_acc: 0.7500\n",
      "Epoch 97/100\n",
      "108/108 - 2s - loss: 0.0278 - acc: 0.9815 - val_loss: 2.3519 - val_acc: 0.7500\n",
      "Epoch 98/100\n",
      "108/108 - 2s - loss: 0.0162 - acc: 1.0000 - val_loss: 2.3568 - val_acc: 0.7500\n",
      "Epoch 99/100\n",
      "108/108 - 2s - loss: 0.0065 - acc: 1.0000 - val_loss: 2.4368 - val_acc: 0.7500\n",
      "Epoch 100/100\n",
      "108/108 - 2s - loss: 0.0174 - acc: 0.9907 - val_loss: 2.6155 - val_acc: 0.7500\n"
     ]
    },
    {
     "data": {
      "text/plain": [
       "<tensorflow.python.keras.callbacks.History at 0x1a50e97668>"
      ]
     },
     "execution_count": 27,
     "metadata": {},
     "output_type": "execute_result"
    }
   ],
   "source": [
    "# Fit the model to the training data\n",
    "model.fit(reshaped_X1_train_scaled, y1_train, validation_split=0.2, epochs=100, shuffle=False, verbose=2)"
   ]
  },
  {
   "cell_type": "code",
   "execution_count": 28,
   "metadata": {
    "scrolled": true
   },
   "outputs": [
    {
     "name": "stdout",
     "output_type": "stream",
     "text": [
      "34/34 - 0s - loss: 0.0096 - acc: 1.0000\n"
     ]
    }
   ],
   "source": [
    "# Evaluate model using test data\n",
    "model_loss1, model_accuracy1 = model.evaluate(reshaped_X1_test_scaled, y1_test, verbose=2)"
   ]
  },
  {
   "cell_type": "code",
   "execution_count": 29,
   "metadata": {},
   "outputs": [],
   "source": [
    "# Make predictions using test data\n",
    "predictions1_prob = model.predict_proba(reshaped_X1_test_scaled)\n",
    "predictions1_class = model.predict_classes(reshaped_X1_test_scaled)"
   ]
  },
  {
   "cell_type": "code",
   "execution_count": 30,
   "metadata": {},
   "outputs": [
    {
     "data": {
      "text/html": [
       "<div>\n",
       "<style scoped>\n",
       "    .dataframe tbody tr th:only-of-type {\n",
       "        vertical-align: middle;\n",
       "    }\n",
       "\n",
       "    .dataframe tbody tr th {\n",
       "        vertical-align: top;\n",
       "    }\n",
       "\n",
       "    .dataframe thead th {\n",
       "        text-align: right;\n",
       "    }\n",
       "</style>\n",
       "<table border=\"1\" class=\"dataframe\">\n",
       "  <thead>\n",
       "    <tr style=\"text-align: right;\">\n",
       "      <th></th>\n",
       "      <th>Predicted Probability of No Recession</th>\n",
       "      <th>Predicted Probability of a Recession</th>\n",
       "      <th>Actual</th>\n",
       "    </tr>\n",
       "    <tr>\n",
       "      <th>quarter</th>\n",
       "      <th></th>\n",
       "      <th></th>\n",
       "      <th></th>\n",
       "    </tr>\n",
       "  </thead>\n",
       "  <tbody>\n",
       "    <tr>\n",
       "      <th>2010Q3</th>\n",
       "      <td>0.978857</td>\n",
       "      <td>0.021143</td>\n",
       "      <td>0.0</td>\n",
       "    </tr>\n",
       "    <tr>\n",
       "      <th>2010Q4</th>\n",
       "      <td>0.981558</td>\n",
       "      <td>0.018442</td>\n",
       "      <td>0.0</td>\n",
       "    </tr>\n",
       "    <tr>\n",
       "      <th>2011Q1</th>\n",
       "      <td>0.999493</td>\n",
       "      <td>0.000507</td>\n",
       "      <td>0.0</td>\n",
       "    </tr>\n",
       "    <tr>\n",
       "      <th>2011Q2</th>\n",
       "      <td>0.999990</td>\n",
       "      <td>0.000010</td>\n",
       "      <td>0.0</td>\n",
       "    </tr>\n",
       "    <tr>\n",
       "      <th>2011Q3</th>\n",
       "      <td>0.999988</td>\n",
       "      <td>0.000012</td>\n",
       "      <td>0.0</td>\n",
       "    </tr>\n",
       "  </tbody>\n",
       "</table>\n",
       "</div>"
      ],
      "text/plain": [
       "         Predicted Probability of No Recession  \\\n",
       "quarter                                          \n",
       "2010Q3                                0.978857   \n",
       "2010Q4                                0.981558   \n",
       "2011Q1                                0.999493   \n",
       "2011Q2                                0.999990   \n",
       "2011Q3                                0.999988   \n",
       "\n",
       "         Predicted Probability of a Recession  Actual  \n",
       "quarter                                                \n",
       "2010Q3                               0.021143     0.0  \n",
       "2010Q4                               0.018442     0.0  \n",
       "2011Q1                               0.000507     0.0  \n",
       "2011Q2                               0.000010     0.0  \n",
       "2011Q3                               0.000012     0.0  "
      ]
     },
     "execution_count": 30,
     "metadata": {},
     "output_type": "execute_result"
    }
   ],
   "source": [
    "# Compare results\n",
    "one_qtr_out = pd.DataFrame({\"Predicted Probability of No Recession\":predictions1_prob[:,0], \"Predicted Probability of a Recession\":predictions1_prob[:,1], \"Actual\":y1_test})\n",
    "one_qtr_out.head()"
   ]
  },
  {
   "cell_type": "markdown",
   "metadata": {},
   "source": [
    "#### Confusion Matrix on X1-Y1 data (recession 1 quarter out)"
   ]
  },
  {
   "cell_type": "code",
   "execution_count": 31,
   "metadata": {},
   "outputs": [
    {
     "name": "stdout",
     "output_type": "stream",
     "text": [
      "[[34]]\n"
     ]
    }
   ],
   "source": [
    "# Create confusion matrix on X1 model\n",
    "con_mat = confusion_matrix(y1_test, predictions1_class)\n",
    "print(con_mat)"
   ]
  },
  {
   "cell_type": "code",
   "execution_count": 32,
   "metadata": {},
   "outputs": [
    {
     "name": "stdout",
     "output_type": "stream",
     "text": [
      "              precision    recall  f1-score   support\n",
      "\n",
      "         0.0       1.00      1.00      1.00        34\n",
      "\n",
      "    accuracy                           1.00        34\n",
      "   macro avg       1.00      1.00      1.00        34\n",
      "weighted avg       1.00      1.00      1.00        34\n",
      "\n"
     ]
    }
   ],
   "source": [
    "# Score model\n",
    "print(classification_report(y1_test, predictions1_class))"
   ]
  },
  {
   "cell_type": "code",
   "execution_count": 33,
   "metadata": {},
   "outputs": [],
   "source": [
    "# Save model\n",
    "name1 = f\"unshuffled-1q-out-{dt.datetime.now()}\"\n",
    "model.save(f\"models/{name1}.h5\")"
   ]
  },
  {
   "cell_type": "markdown",
   "metadata": {},
   "source": [
    "### Predict on 2019"
   ]
  },
  {
   "cell_type": "code",
   "execution_count": 34,
   "metadata": {},
   "outputs": [
    {
     "name": "stdout",
     "output_type": "stream",
     "text": [
      "2019Q1 No Recession Probability: 99.9988317489624\n",
      "2019Q1 Recession Probability: 0.0011696683941408992\n",
      "2019Q2 No Recession Probability: 99.99895095825195\n",
      "2019Q2 Recession Probability: 0.0010549343642196618\n"
     ]
    }
   ],
   "source": [
    "# Scale 2019 data \n",
    "scaled_X1_2019 = X1_scaler.transform(df_2019)\n",
    "\n",
    "# Reshape 2019 data\n",
    "reshaped_X1_2019 = reshape_data(scaled_X1_2019)\n",
    "\n",
    "# Predict on 2019\n",
    "pred_X1_2019 = model.predict_proba(reshaped_X1_2019)\n",
    "print(f\"2019Q1 No Recession Probability: {pred_X1_2019[0][0]*100}\")\n",
    "print(f\"2019Q1 Recession Probability: {pred_X1_2019[0][1]*100}\")\n",
    "print(f\"2019Q2 No Recession Probability: {pred_X1_2019[1][0]*100}\")\n",
    "print(f\"2019Q2 Recession Probability: {pred_X1_2019[1][1]*100}\")"
   ]
  },
  {
   "cell_type": "markdown",
   "metadata": {},
   "source": [
    "#### Predict on full X1"
   ]
  },
  {
   "cell_type": "code",
   "execution_count": 35,
   "metadata": {},
   "outputs": [],
   "source": [
    "pred_X1_full = model.predict_classes(reshaped_X1_full)\n",
    "\n",
    "# Preview results\n",
    "X1_full_results = pd.DataFrame({\"Predicted\":pred_X1_full, \"Actual\":y1})\n",
    "# X1_full_results.loc[X1_full_results[\"Actual\"]==1]\n",
    "\n",
    "# Export results for graphing\n",
    "X1_full_results.to_csv(f\"resources/predictions/X1_NS_VS20_{dt.datetime.now()}.csv\")"
   ]
  },
  {
   "cell_type": "markdown",
   "metadata": {},
   "source": [
    "## Train and predict on X2-Y2 data (recession 2 quarters out)"
   ]
  },
  {
   "cell_type": "code",
   "execution_count": 36,
   "metadata": {},
   "outputs": [
    {
     "name": "stdout",
     "output_type": "stream",
     "text": [
      "Train on 108 samples, validate on 27 samples\n",
      "Epoch 1/100\n",
      "108/108 - 2s - loss: 0.5225 - acc: 0.9259 - val_loss: 2.3169 - val_acc: 0.7407\n",
      "Epoch 2/100\n",
      "108/108 - 2s - loss: 0.2264 - acc: 0.9352 - val_loss: 2.0404 - val_acc: 0.7407\n",
      "Epoch 3/100\n",
      "108/108 - 2s - loss: 0.1287 - acc: 0.9537 - val_loss: 1.5759 - val_acc: 0.7407\n",
      "Epoch 4/100\n",
      "108/108 - 2s - loss: 0.1187 - acc: 0.9444 - val_loss: 1.2327 - val_acc: 0.7407\n",
      "Epoch 5/100\n",
      "108/108 - 2s - loss: 0.0717 - acc: 0.9537 - val_loss: 0.9981 - val_acc: 0.7407\n",
      "Epoch 6/100\n",
      "108/108 - 2s - loss: 0.1995 - acc: 0.9259 - val_loss: 0.8269 - val_acc: 0.7037\n",
      "Epoch 7/100\n",
      "108/108 - 2s - loss: 0.0736 - acc: 0.9630 - val_loss: 1.0899 - val_acc: 0.5556\n",
      "Epoch 8/100\n",
      "108/108 - 2s - loss: 0.1013 - acc: 0.9537 - val_loss: 1.2113 - val_acc: 0.5556\n",
      "Epoch 9/100\n",
      "108/108 - 2s - loss: 0.0776 - acc: 0.9815 - val_loss: 1.2328 - val_acc: 0.6296\n",
      "Epoch 10/100\n",
      "108/108 - 2s - loss: 0.0512 - acc: 1.0000 - val_loss: 1.2354 - val_acc: 0.5926\n",
      "Epoch 11/100\n",
      "108/108 - 2s - loss: 0.0577 - acc: 0.9815 - val_loss: 1.2731 - val_acc: 0.6296\n",
      "Epoch 12/100\n",
      "108/108 - 2s - loss: 0.0469 - acc: 0.9815 - val_loss: 1.3146 - val_acc: 0.6296\n",
      "Epoch 13/100\n",
      "108/108 - 2s - loss: 0.0580 - acc: 0.9722 - val_loss: 1.3018 - val_acc: 0.7037\n",
      "Epoch 14/100\n",
      "108/108 - 2s - loss: 0.1007 - acc: 0.9630 - val_loss: 1.2381 - val_acc: 0.7037\n",
      "Epoch 15/100\n",
      "108/108 - 2s - loss: 0.0434 - acc: 0.9722 - val_loss: 1.2071 - val_acc: 0.7037\n",
      "Epoch 16/100\n",
      "108/108 - 2s - loss: 0.0449 - acc: 0.9815 - val_loss: 1.1696 - val_acc: 0.7037\n",
      "Epoch 17/100\n",
      "108/108 - 2s - loss: 0.0637 - acc: 0.9722 - val_loss: 1.1533 - val_acc: 0.7037\n",
      "Epoch 18/100\n",
      "108/108 - 2s - loss: 0.0401 - acc: 0.9815 - val_loss: 1.3198 - val_acc: 0.6296\n",
      "Epoch 19/100\n",
      "108/108 - 2s - loss: 0.0254 - acc: 0.9907 - val_loss: 1.3923 - val_acc: 0.5926\n",
      "Epoch 20/100\n",
      "108/108 - 2s - loss: 0.0403 - acc: 0.9907 - val_loss: 1.3359 - val_acc: 0.6667\n",
      "Epoch 21/100\n",
      "108/108 - 2s - loss: 0.0301 - acc: 0.9815 - val_loss: 1.2597 - val_acc: 0.6296\n",
      "Epoch 22/100\n",
      "108/108 - 2s - loss: 0.0438 - acc: 0.9907 - val_loss: 1.2538 - val_acc: 0.5926\n",
      "Epoch 23/100\n",
      "108/108 - 2s - loss: 0.0180 - acc: 0.9907 - val_loss: 1.2452 - val_acc: 0.5926\n",
      "Epoch 24/100\n",
      "108/108 - 2s - loss: 0.0292 - acc: 0.9907 - val_loss: 1.2572 - val_acc: 0.5926\n",
      "Epoch 25/100\n",
      "108/108 - 2s - loss: 0.0245 - acc: 1.0000 - val_loss: 1.2932 - val_acc: 0.6296\n",
      "Epoch 26/100\n",
      "108/108 - 2s - loss: 0.0275 - acc: 0.9907 - val_loss: 1.3324 - val_acc: 0.6296\n",
      "Epoch 27/100\n",
      "108/108 - 2s - loss: 0.0220 - acc: 0.9907 - val_loss: 1.2858 - val_acc: 0.5926\n",
      "Epoch 28/100\n",
      "108/108 - 2s - loss: 0.0318 - acc: 0.9907 - val_loss: 1.1657 - val_acc: 0.4815\n",
      "Epoch 29/100\n",
      "108/108 - 2s - loss: 0.0341 - acc: 0.9907 - val_loss: 1.2042 - val_acc: 0.4815\n",
      "Epoch 30/100\n",
      "108/108 - 2s - loss: 0.0387 - acc: 0.9907 - val_loss: 1.1885 - val_acc: 0.5185\n",
      "Epoch 31/100\n",
      "108/108 - 2s - loss: 0.0206 - acc: 0.9907 - val_loss: 1.1394 - val_acc: 0.5185\n",
      "Epoch 32/100\n",
      "108/108 - 2s - loss: 0.0134 - acc: 1.0000 - val_loss: 1.1347 - val_acc: 0.5185\n",
      "Epoch 33/100\n",
      "108/108 - 2s - loss: 0.0304 - acc: 0.9907 - val_loss: 1.2142 - val_acc: 0.4444\n",
      "Epoch 34/100\n",
      "108/108 - 2s - loss: 0.0197 - acc: 0.9907 - val_loss: 1.3106 - val_acc: 0.4444\n",
      "Epoch 35/100\n",
      "108/108 - 2s - loss: 0.0345 - acc: 0.9907 - val_loss: 1.3392 - val_acc: 0.4444\n",
      "Epoch 36/100\n",
      "108/108 - 2s - loss: 0.0168 - acc: 0.9907 - val_loss: 1.2814 - val_acc: 0.4444\n",
      "Epoch 37/100\n",
      "108/108 - 2s - loss: 0.0396 - acc: 0.9815 - val_loss: 1.0694 - val_acc: 0.5556\n",
      "Epoch 38/100\n",
      "108/108 - 2s - loss: 0.0116 - acc: 0.9907 - val_loss: 1.0412 - val_acc: 0.6296\n",
      "Epoch 39/100\n",
      "108/108 - 2s - loss: 0.0549 - acc: 0.9815 - val_loss: 1.2260 - val_acc: 0.4815\n",
      "Epoch 40/100\n",
      "108/108 - 2s - loss: 0.0074 - acc: 1.0000 - val_loss: 1.3945 - val_acc: 0.5185\n",
      "Epoch 41/100\n",
      "108/108 - 2s - loss: 0.0097 - acc: 1.0000 - val_loss: 1.4422 - val_acc: 0.5556\n",
      "Epoch 42/100\n",
      "108/108 - 2s - loss: 0.0738 - acc: 0.9815 - val_loss: 1.4341 - val_acc: 0.5556\n",
      "Epoch 43/100\n",
      "108/108 - 2s - loss: 0.0148 - acc: 1.0000 - val_loss: 1.4407 - val_acc: 0.5556\n",
      "Epoch 44/100\n",
      "108/108 - 2s - loss: 0.0137 - acc: 1.0000 - val_loss: 1.4676 - val_acc: 0.5556\n",
      "Epoch 45/100\n",
      "108/108 - 2s - loss: 0.0138 - acc: 1.0000 - val_loss: 1.5838 - val_acc: 0.4815\n",
      "Epoch 46/100\n",
      "108/108 - 1s - loss: 0.0176 - acc: 1.0000 - val_loss: 1.7164 - val_acc: 0.4444\n",
      "Epoch 47/100\n",
      "108/108 - 2s - loss: 0.0335 - acc: 0.9907 - val_loss: 1.8290 - val_acc: 0.4444\n",
      "Epoch 48/100\n",
      "108/108 - 2s - loss: 0.0315 - acc: 0.9907 - val_loss: 1.9747 - val_acc: 0.4444\n",
      "Epoch 49/100\n",
      "108/108 - 2s - loss: 0.0162 - acc: 0.9907 - val_loss: 2.0263 - val_acc: 0.4444\n",
      "Epoch 50/100\n",
      "108/108 - 2s - loss: 0.0153 - acc: 0.9907 - val_loss: 1.9846 - val_acc: 0.4444\n",
      "Epoch 51/100\n",
      "108/108 - 2s - loss: 0.0141 - acc: 1.0000 - val_loss: 1.9173 - val_acc: 0.4444\n",
      "Epoch 52/100\n",
      "108/108 - 2s - loss: 0.0122 - acc: 0.9907 - val_loss: 1.8331 - val_acc: 0.4815\n",
      "Epoch 53/100\n",
      "108/108 - 2s - loss: 0.0090 - acc: 1.0000 - val_loss: 1.7850 - val_acc: 0.4444\n",
      "Epoch 54/100\n",
      "108/108 - 2s - loss: 0.0036 - acc: 1.0000 - val_loss: 1.7355 - val_acc: 0.4815\n",
      "Epoch 55/100\n",
      "108/108 - 2s - loss: 0.0049 - acc: 1.0000 - val_loss: 1.7174 - val_acc: 0.5185\n",
      "Epoch 56/100\n",
      "108/108 - 2s - loss: 0.0062 - acc: 1.0000 - val_loss: 1.7146 - val_acc: 0.5185\n",
      "Epoch 57/100\n",
      "108/108 - 2s - loss: 0.0113 - acc: 1.0000 - val_loss: 1.7372 - val_acc: 0.5185\n",
      "Epoch 58/100\n",
      "108/108 - 2s - loss: 0.0144 - acc: 1.0000 - val_loss: 1.7457 - val_acc: 0.5185\n",
      "Epoch 59/100\n",
      "108/108 - 2s - loss: 0.0085 - acc: 1.0000 - val_loss: 1.6581 - val_acc: 0.4815\n",
      "Epoch 60/100\n",
      "108/108 - 2s - loss: 0.0159 - acc: 0.9907 - val_loss: 1.6851 - val_acc: 0.4815\n",
      "Epoch 61/100\n",
      "108/108 - 2s - loss: 0.0111 - acc: 0.9907 - val_loss: 1.7632 - val_acc: 0.4444\n",
      "Epoch 62/100\n",
      "108/108 - 2s - loss: 0.0106 - acc: 1.0000 - val_loss: 1.7907 - val_acc: 0.4815\n",
      "Epoch 63/100\n",
      "108/108 - 2s - loss: 0.0017 - acc: 1.0000 - val_loss: 1.8158 - val_acc: 0.4815\n",
      "Epoch 64/100\n",
      "108/108 - 2s - loss: 0.0180 - acc: 1.0000 - val_loss: 1.6674 - val_acc: 0.4815\n",
      "Epoch 65/100\n",
      "108/108 - 2s - loss: 0.0116 - acc: 0.9907 - val_loss: 1.4980 - val_acc: 0.4815\n",
      "Epoch 66/100\n",
      "108/108 - 2s - loss: 0.0070 - acc: 1.0000 - val_loss: 1.4305 - val_acc: 0.4815\n",
      "Epoch 67/100\n",
      "108/108 - 2s - loss: 0.0205 - acc: 0.9907 - val_loss: 1.5963 - val_acc: 0.4815\n",
      "Epoch 68/100\n",
      "108/108 - 2s - loss: 0.0041 - acc: 1.0000 - val_loss: 1.5855 - val_acc: 0.5556\n",
      "Epoch 69/100\n",
      "108/108 - 2s - loss: 0.0307 - acc: 0.9907 - val_loss: 1.3905 - val_acc: 0.5185\n",
      "Epoch 70/100\n",
      "108/108 - 2s - loss: 0.0225 - acc: 0.9907 - val_loss: 1.5749 - val_acc: 0.5556\n",
      "Epoch 71/100\n",
      "108/108 - 2s - loss: 0.0069 - acc: 1.0000 - val_loss: 1.6555 - val_acc: 0.5556\n",
      "Epoch 72/100\n",
      "108/108 - 2s - loss: 0.0159 - acc: 0.9907 - val_loss: 1.5941 - val_acc: 0.5185\n",
      "Epoch 73/100\n",
      "108/108 - 2s - loss: 0.0031 - acc: 1.0000 - val_loss: 1.5059 - val_acc: 0.4815\n",
      "Epoch 74/100\n",
      "108/108 - 2s - loss: 0.0050 - acc: 1.0000 - val_loss: 1.4962 - val_acc: 0.5185\n",
      "Epoch 75/100\n",
      "108/108 - 2s - loss: 0.0072 - acc: 1.0000 - val_loss: 1.4937 - val_acc: 0.5185\n",
      "Epoch 76/100\n",
      "108/108 - 2s - loss: 0.0046 - acc: 1.0000 - val_loss: 1.4713 - val_acc: 0.5185\n",
      "Epoch 77/100\n",
      "108/108 - 2s - loss: 0.0022 - acc: 1.0000 - val_loss: 1.4394 - val_acc: 0.5185\n",
      "Epoch 78/100\n",
      "108/108 - 2s - loss: 0.0017 - acc: 1.0000 - val_loss: 1.4197 - val_acc: 0.5185\n",
      "Epoch 79/100\n",
      "108/108 - 2s - loss: 0.0053 - acc: 1.0000 - val_loss: 1.3913 - val_acc: 0.5185\n",
      "Epoch 80/100\n",
      "108/108 - 2s - loss: 0.0051 - acc: 1.0000 - val_loss: 1.3817 - val_acc: 0.5185\n",
      "Epoch 81/100\n",
      "108/108 - 2s - loss: 0.0097 - acc: 1.0000 - val_loss: 1.6446 - val_acc: 0.5185\n",
      "Epoch 82/100\n",
      "108/108 - 2s - loss: 0.0019 - acc: 1.0000 - val_loss: 1.7679 - val_acc: 0.5185\n",
      "Epoch 83/100\n",
      "108/108 - 2s - loss: 0.0052 - acc: 1.0000 - val_loss: 1.7993 - val_acc: 0.4815\n",
      "Epoch 84/100\n",
      "108/108 - 2s - loss: 0.0052 - acc: 1.0000 - val_loss: 1.8065 - val_acc: 0.5185\n",
      "Epoch 85/100\n",
      "108/108 - 2s - loss: 0.0476 - acc: 0.9907 - val_loss: 1.4178 - val_acc: 0.5185\n",
      "Epoch 86/100\n",
      "108/108 - 2s - loss: 0.0068 - acc: 1.0000 - val_loss: 1.2655 - val_acc: 0.5926\n",
      "Epoch 87/100\n",
      "108/108 - 2s - loss: 0.0802 - acc: 0.9722 - val_loss: 1.3683 - val_acc: 0.5926\n",
      "Epoch 88/100\n",
      "108/108 - 2s - loss: 0.0326 - acc: 0.9815 - val_loss: 1.7142 - val_acc: 0.5185\n",
      "Epoch 89/100\n",
      "108/108 - 2s - loss: 0.0161 - acc: 0.9907 - val_loss: 1.8740 - val_acc: 0.5185\n"
     ]
    },
    {
     "name": "stdout",
     "output_type": "stream",
     "text": [
      "Epoch 90/100\n",
      "108/108 - 2s - loss: 0.0239 - acc: 0.9907 - val_loss: 1.9363 - val_acc: 0.5556\n",
      "Epoch 91/100\n",
      "108/108 - 2s - loss: 0.0368 - acc: 0.9815 - val_loss: 1.7896 - val_acc: 0.5185\n",
      "Epoch 92/100\n",
      "108/108 - 2s - loss: 0.0321 - acc: 0.9907 - val_loss: 1.6632 - val_acc: 0.4815\n",
      "Epoch 93/100\n",
      "108/108 - 2s - loss: 0.0061 - acc: 1.0000 - val_loss: 1.7152 - val_acc: 0.5185\n",
      "Epoch 94/100\n",
      "108/108 - 2s - loss: 0.0042 - acc: 1.0000 - val_loss: 1.6728 - val_acc: 0.4815\n",
      "Epoch 95/100\n",
      "108/108 - 2s - loss: 0.0303 - acc: 0.9907 - val_loss: 1.7040 - val_acc: 0.5556\n",
      "Epoch 96/100\n",
      "108/108 - 2s - loss: 0.0035 - acc: 1.0000 - val_loss: 1.6816 - val_acc: 0.5185\n",
      "Epoch 97/100\n",
      "108/108 - 2s - loss: 0.0031 - acc: 1.0000 - val_loss: 1.5449 - val_acc: 0.5556\n",
      "Epoch 98/100\n",
      "108/108 - 2s - loss: 0.0204 - acc: 0.9907 - val_loss: 1.3606 - val_acc: 0.5185\n",
      "Epoch 99/100\n",
      "108/108 - 2s - loss: 0.0167 - acc: 0.9907 - val_loss: 1.1582 - val_acc: 0.5185\n",
      "Epoch 100/100\n",
      "108/108 - 2s - loss: 0.0157 - acc: 0.9907 - val_loss: 1.0415 - val_acc: 0.5556\n"
     ]
    },
    {
     "data": {
      "text/plain": [
       "<tensorflow.python.keras.callbacks.History at 0x1a4a390ef0>"
      ]
     },
     "execution_count": 36,
     "metadata": {},
     "output_type": "execute_result"
    }
   ],
   "source": [
    "# Fit the model to the training data\n",
    "model.fit(reshaped_X2_train_scaled, y2_train, validation_split=0.2, epochs=100, shuffle=False, verbose=2)"
   ]
  },
  {
   "cell_type": "code",
   "execution_count": 37,
   "metadata": {},
   "outputs": [
    {
     "name": "stdout",
     "output_type": "stream",
     "text": [
      "34/34 - 0s - loss: 0.0532 - acc: 1.0000\n"
     ]
    }
   ],
   "source": [
    "# Evaluate model using test data\n",
    "model_loss2, model_accuracy2 = model.evaluate(reshaped_X2_test_scaled, y2_test, verbose=2)"
   ]
  },
  {
   "cell_type": "code",
   "execution_count": 38,
   "metadata": {},
   "outputs": [],
   "source": [
    "# Make predictions using test data\n",
    "predictions2_prob = model.predict_proba(reshaped_X2_test_scaled)\n",
    "predictions2_class = model.predict_classes(reshaped_X2_test_scaled)"
   ]
  },
  {
   "cell_type": "code",
   "execution_count": 39,
   "metadata": {},
   "outputs": [
    {
     "data": {
      "text/html": [
       "<div>\n",
       "<style scoped>\n",
       "    .dataframe tbody tr th:only-of-type {\n",
       "        vertical-align: middle;\n",
       "    }\n",
       "\n",
       "    .dataframe tbody tr th {\n",
       "        vertical-align: top;\n",
       "    }\n",
       "\n",
       "    .dataframe thead th {\n",
       "        text-align: right;\n",
       "    }\n",
       "</style>\n",
       "<table border=\"1\" class=\"dataframe\">\n",
       "  <thead>\n",
       "    <tr style=\"text-align: right;\">\n",
       "      <th></th>\n",
       "      <th>Predicted Probability of No Recession</th>\n",
       "      <th>Predicted Probability of a Recession</th>\n",
       "      <th>Actual</th>\n",
       "    </tr>\n",
       "    <tr>\n",
       "      <th>quarter</th>\n",
       "      <th></th>\n",
       "      <th></th>\n",
       "      <th></th>\n",
       "    </tr>\n",
       "  </thead>\n",
       "  <tbody>\n",
       "    <tr>\n",
       "      <th>2010Q2</th>\n",
       "      <td>0.999124</td>\n",
       "      <td>0.000876</td>\n",
       "      <td>0.0</td>\n",
       "    </tr>\n",
       "    <tr>\n",
       "      <th>2010Q3</th>\n",
       "      <td>0.999161</td>\n",
       "      <td>0.000839</td>\n",
       "      <td>0.0</td>\n",
       "    </tr>\n",
       "    <tr>\n",
       "      <th>2010Q4</th>\n",
       "      <td>0.999157</td>\n",
       "      <td>0.000843</td>\n",
       "      <td>0.0</td>\n",
       "    </tr>\n",
       "    <tr>\n",
       "      <th>2011Q1</th>\n",
       "      <td>0.999108</td>\n",
       "      <td>0.000892</td>\n",
       "      <td>0.0</td>\n",
       "    </tr>\n",
       "    <tr>\n",
       "      <th>2011Q2</th>\n",
       "      <td>0.991246</td>\n",
       "      <td>0.008754</td>\n",
       "      <td>0.0</td>\n",
       "    </tr>\n",
       "  </tbody>\n",
       "</table>\n",
       "</div>"
      ],
      "text/plain": [
       "         Predicted Probability of No Recession  \\\n",
       "quarter                                          \n",
       "2010Q2                                0.999124   \n",
       "2010Q3                                0.999161   \n",
       "2010Q4                                0.999157   \n",
       "2011Q1                                0.999108   \n",
       "2011Q2                                0.991246   \n",
       "\n",
       "         Predicted Probability of a Recession  Actual  \n",
       "quarter                                                \n",
       "2010Q2                               0.000876     0.0  \n",
       "2010Q3                               0.000839     0.0  \n",
       "2010Q4                               0.000843     0.0  \n",
       "2011Q1                               0.000892     0.0  \n",
       "2011Q2                               0.008754     0.0  "
      ]
     },
     "execution_count": 39,
     "metadata": {},
     "output_type": "execute_result"
    }
   ],
   "source": [
    "# Compare results\n",
    "two_qtrs_out = pd.DataFrame({\"Predicted Probability of No Recession\":predictions2_prob[:,0], \"Predicted Probability of a Recession\":predictions2_prob[:,1], \"Actual\":y2_test})\n",
    "two_qtrs_out.head()"
   ]
  },
  {
   "cell_type": "markdown",
   "metadata": {},
   "source": [
    "#### Confusion Matrix on X2-Y2 data (recession 2 quarters out)"
   ]
  },
  {
   "cell_type": "code",
   "execution_count": 40,
   "metadata": {},
   "outputs": [
    {
     "name": "stdout",
     "output_type": "stream",
     "text": [
      "[[34]]\n"
     ]
    }
   ],
   "source": [
    "# Create confusion matrix on X2 model\n",
    "con_mat = confusion_matrix(y2_test, predictions2_class)\n",
    "print(con_mat)"
   ]
  },
  {
   "cell_type": "code",
   "execution_count": 41,
   "metadata": {},
   "outputs": [
    {
     "name": "stdout",
     "output_type": "stream",
     "text": [
      "              precision    recall  f1-score   support\n",
      "\n",
      "         0.0       1.00      1.00      1.00        34\n",
      "\n",
      "    accuracy                           1.00        34\n",
      "   macro avg       1.00      1.00      1.00        34\n",
      "weighted avg       1.00      1.00      1.00        34\n",
      "\n"
     ]
    }
   ],
   "source": [
    "# Score model\n",
    "print(classification_report(y2_test, predictions2_class))"
   ]
  },
  {
   "cell_type": "code",
   "execution_count": 42,
   "metadata": {},
   "outputs": [],
   "source": [
    "# Save model\n",
    "name2 = f\"unshuffled-2q-out-{dt.datetime.now()}\"\n",
    "model.save(f\"models/{name2}.h5\")"
   ]
  },
  {
   "cell_type": "markdown",
   "metadata": {},
   "source": [
    "### Predict on 2019"
   ]
  },
  {
   "cell_type": "code",
   "execution_count": 43,
   "metadata": {},
   "outputs": [
    {
     "name": "stdout",
     "output_type": "stream",
     "text": [
      "2019Q1 No Recession Probability: 72.01816439628601\n",
      "2019Q1 Recession Probability: 27.98183262348175\n",
      "2019Q2 No Recession Probability: 89.47288393974304\n",
      "2019Q2 Recession Probability: 10.527120530605316\n"
     ]
    }
   ],
   "source": [
    "# Scale 2019 data \n",
    "scaled_X2_2019 = X2_scaler.transform(df_2019)\n",
    "\n",
    "# Reshape 2019 data\n",
    "reshaped_X2_2019 = reshape_data(scaled_X2_2019)\n",
    "\n",
    "# Predict on 2019\n",
    "pred_X2_2019 = model.predict_proba(reshaped_X2_2019)\n",
    "print(f\"2019Q1 No Recession Probability: {pred_X2_2019[0][0]*100}\")\n",
    "print(f\"2019Q1 Recession Probability: {pred_X2_2019[0][1]*100}\")\n",
    "print(f\"2019Q2 No Recession Probability: {pred_X2_2019[1][0]*100}\")\n",
    "print(f\"2019Q2 Recession Probability: {pred_X2_2019[1][1]*100}\")"
   ]
  },
  {
   "cell_type": "markdown",
   "metadata": {},
   "source": [
    "#### Predict on full X2"
   ]
  },
  {
   "cell_type": "code",
   "execution_count": 44,
   "metadata": {},
   "outputs": [],
   "source": [
    "pred_X2_full = model.predict_classes(reshaped_X2_full)\n",
    "\n",
    "# Preview results\n",
    "X2_full_results = pd.DataFrame({\"Predicted\":pred_X2_full, \"Actual\":y2})\n",
    "# X2_full_results.loc[X2_full_results[\"Actual\"]==1]\n",
    "\n",
    "# Export results for graphing\n",
    "X2_full_results.to_csv(f\"resources/predictions/X2_NS_VS20_{dt.datetime.now()}.csv\")"
   ]
  },
  {
   "cell_type": "markdown",
   "metadata": {},
   "source": [
    "### Train and predict on X3-Y3 data (recession 4 quarters out)"
   ]
  },
  {
   "cell_type": "code",
   "execution_count": 45,
   "metadata": {},
   "outputs": [
    {
     "name": "stdout",
     "output_type": "stream",
     "text": [
      "Train on 106 samples, validate on 27 samples\n",
      "Epoch 1/100\n",
      "106/106 - 2s - loss: 1.4917 - acc: 0.8396 - val_loss: 1.0848 - val_acc: 0.5926\n",
      "Epoch 2/100\n",
      "106/106 - 2s - loss: 0.6488 - acc: 0.8491 - val_loss: 1.0192 - val_acc: 0.7037\n",
      "Epoch 3/100\n",
      "106/106 - 2s - loss: 0.4657 - acc: 0.8679 - val_loss: 0.6691 - val_acc: 0.7778\n",
      "Epoch 4/100\n",
      "106/106 - 2s - loss: 0.3079 - acc: 0.8868 - val_loss: 0.7192 - val_acc: 0.8519\n",
      "Epoch 5/100\n",
      "106/106 - 2s - loss: 0.2174 - acc: 0.8962 - val_loss: 0.9689 - val_acc: 0.7407\n",
      "Epoch 6/100\n",
      "106/106 - 2s - loss: 0.1521 - acc: 0.9340 - val_loss: 1.1834 - val_acc: 0.6296\n",
      "Epoch 7/100\n",
      "106/106 - 2s - loss: 0.1920 - acc: 0.9057 - val_loss: 1.4789 - val_acc: 0.6667\n",
      "Epoch 8/100\n",
      "106/106 - 2s - loss: 0.1631 - acc: 0.9434 - val_loss: 1.3796 - val_acc: 0.5556\n",
      "Epoch 9/100\n",
      "106/106 - 2s - loss: 0.1565 - acc: 0.9245 - val_loss: 1.3144 - val_acc: 0.5185\n",
      "Epoch 10/100\n",
      "106/106 - 2s - loss: 0.1246 - acc: 0.9528 - val_loss: 1.3208 - val_acc: 0.4815\n",
      "Epoch 11/100\n",
      "106/106 - 2s - loss: 0.1145 - acc: 0.9717 - val_loss: 1.4833 - val_acc: 0.4074\n",
      "Epoch 12/100\n",
      "106/106 - 2s - loss: 0.0931 - acc: 0.9717 - val_loss: 1.7162 - val_acc: 0.4444\n",
      "Epoch 13/100\n",
      "106/106 - 2s - loss: 0.1046 - acc: 0.9623 - val_loss: 1.8026 - val_acc: 0.4815\n",
      "Epoch 14/100\n",
      "106/106 - 2s - loss: 0.1007 - acc: 0.9528 - val_loss: 1.8197 - val_acc: 0.4815\n",
      "Epoch 15/100\n",
      "106/106 - 2s - loss: 0.0842 - acc: 0.9623 - val_loss: 1.9201 - val_acc: 0.5556\n",
      "Epoch 16/100\n",
      "106/106 - 2s - loss: 0.1272 - acc: 0.9340 - val_loss: 2.0096 - val_acc: 0.5556\n",
      "Epoch 17/100\n",
      "106/106 - 2s - loss: 0.1029 - acc: 0.9528 - val_loss: 2.1295 - val_acc: 0.5185\n",
      "Epoch 18/100\n",
      "106/106 - 2s - loss: 0.1294 - acc: 0.9434 - val_loss: 2.4234 - val_acc: 0.4815\n",
      "Epoch 19/100\n",
      "106/106 - 2s - loss: 0.0658 - acc: 0.9811 - val_loss: 2.5612 - val_acc: 0.4444\n",
      "Epoch 20/100\n",
      "106/106 - 2s - loss: 0.1036 - acc: 0.9528 - val_loss: 2.6769 - val_acc: 0.4444\n",
      "Epoch 21/100\n",
      "106/106 - 2s - loss: 0.0852 - acc: 0.9811 - val_loss: 2.8809 - val_acc: 0.3704\n",
      "Epoch 22/100\n",
      "106/106 - 2s - loss: 0.0694 - acc: 0.9811 - val_loss: 2.9159 - val_acc: 0.3704\n",
      "Epoch 23/100\n",
      "106/106 - 2s - loss: 0.0619 - acc: 0.9811 - val_loss: 2.9156 - val_acc: 0.4074\n",
      "Epoch 24/100\n",
      "106/106 - 2s - loss: 0.0625 - acc: 0.9623 - val_loss: 2.8113 - val_acc: 0.4074\n",
      "Epoch 25/100\n",
      "106/106 - 2s - loss: 0.0609 - acc: 0.9811 - val_loss: 2.6693 - val_acc: 0.4815\n",
      "Epoch 26/100\n",
      "106/106 - 2s - loss: 0.0836 - acc: 0.9717 - val_loss: 2.6441 - val_acc: 0.4444\n",
      "Epoch 27/100\n",
      "106/106 - 2s - loss: 0.0532 - acc: 0.9811 - val_loss: 2.5969 - val_acc: 0.4074\n",
      "Epoch 28/100\n",
      "106/106 - 2s - loss: 0.0474 - acc: 0.9811 - val_loss: 2.6746 - val_acc: 0.4074\n",
      "Epoch 29/100\n",
      "106/106 - 2s - loss: 0.0402 - acc: 0.9811 - val_loss: 2.6273 - val_acc: 0.4444\n",
      "Epoch 30/100\n",
      "106/106 - 2s - loss: 0.0373 - acc: 0.9906 - val_loss: 2.6281 - val_acc: 0.4074\n",
      "Epoch 31/100\n",
      "106/106 - 1s - loss: 0.0233 - acc: 0.9906 - val_loss: 2.6866 - val_acc: 0.4074\n",
      "Epoch 32/100\n",
      "106/106 - 1s - loss: 0.0422 - acc: 0.9906 - val_loss: 2.7587 - val_acc: 0.3333\n",
      "Epoch 33/100\n",
      "106/106 - 1s - loss: 0.0272 - acc: 0.9906 - val_loss: 3.1048 - val_acc: 0.2963\n",
      "Epoch 34/100\n",
      "106/106 - 2s - loss: 0.0313 - acc: 1.0000 - val_loss: 3.5579 - val_acc: 0.2963\n",
      "Epoch 35/100\n",
      "106/106 - 2s - loss: 0.0452 - acc: 0.9811 - val_loss: 3.3624 - val_acc: 0.3333\n",
      "Epoch 36/100\n",
      "106/106 - 2s - loss: 0.0246 - acc: 1.0000 - val_loss: 2.7402 - val_acc: 0.3333\n",
      "Epoch 37/100\n",
      "106/106 - 2s - loss: 0.0195 - acc: 1.0000 - val_loss: 2.7789 - val_acc: 0.3704\n",
      "Epoch 38/100\n",
      "106/106 - 2s - loss: 0.0117 - acc: 1.0000 - val_loss: 3.1119 - val_acc: 0.3333\n",
      "Epoch 39/100\n",
      "106/106 - 1s - loss: 0.0324 - acc: 0.9811 - val_loss: 3.0283 - val_acc: 0.3333\n",
      "Epoch 40/100\n",
      "106/106 - 2s - loss: 0.0105 - acc: 1.0000 - val_loss: 2.7366 - val_acc: 0.3333\n",
      "Epoch 41/100\n",
      "106/106 - 2s - loss: 0.0315 - acc: 0.9906 - val_loss: 2.5854 - val_acc: 0.4074\n",
      "Epoch 42/100\n",
      "106/106 - 2s - loss: 0.0602 - acc: 0.9811 - val_loss: 3.0142 - val_acc: 0.3704\n",
      "Epoch 43/100\n",
      "106/106 - 2s - loss: 0.0815 - acc: 0.9811 - val_loss: 3.7558 - val_acc: 0.3704\n",
      "Epoch 44/100\n",
      "106/106 - 2s - loss: 0.1126 - acc: 0.9623 - val_loss: 3.8042 - val_acc: 0.3333\n",
      "Epoch 45/100\n",
      "106/106 - 2s - loss: 0.0737 - acc: 0.9434 - val_loss: 3.4654 - val_acc: 0.3333\n",
      "Epoch 46/100\n",
      "106/106 - 2s - loss: 0.0430 - acc: 0.9811 - val_loss: 2.8876 - val_acc: 0.5926\n",
      "Epoch 47/100\n",
      "106/106 - 2s - loss: 0.0587 - acc: 0.9906 - val_loss: 3.3642 - val_acc: 0.4444\n",
      "Epoch 48/100\n",
      "106/106 - 2s - loss: 0.0462 - acc: 0.9717 - val_loss: 3.7776 - val_acc: 0.3333\n",
      "Epoch 49/100\n",
      "106/106 - 2s - loss: 0.0649 - acc: 0.9717 - val_loss: 3.5317 - val_acc: 0.4074\n",
      "Epoch 50/100\n",
      "106/106 - 2s - loss: 0.0578 - acc: 0.9811 - val_loss: 3.3401 - val_acc: 0.3333\n",
      "Epoch 51/100\n",
      "106/106 - 2s - loss: 0.0348 - acc: 0.9906 - val_loss: 3.2997 - val_acc: 0.3704\n",
      "Epoch 52/100\n",
      "106/106 - 2s - loss: 0.0196 - acc: 0.9906 - val_loss: 3.5759 - val_acc: 0.3704\n",
      "Epoch 53/100\n",
      "106/106 - 2s - loss: 0.0111 - acc: 1.0000 - val_loss: 4.0470 - val_acc: 0.3333\n",
      "Epoch 54/100\n",
      "106/106 - 2s - loss: 0.0313 - acc: 0.9906 - val_loss: 4.6200 - val_acc: 0.2963\n",
      "Epoch 55/100\n",
      "106/106 - 2s - loss: 0.0178 - acc: 1.0000 - val_loss: 4.5780 - val_acc: 0.2963\n",
      "Epoch 56/100\n",
      "106/106 - 2s - loss: 0.0120 - acc: 0.9906 - val_loss: 3.4641 - val_acc: 0.4815\n",
      "Epoch 57/100\n",
      "106/106 - 3s - loss: 0.0142 - acc: 1.0000 - val_loss: 2.8824 - val_acc: 0.5926\n",
      "Epoch 58/100\n",
      "106/106 - 2s - loss: 0.0481 - acc: 0.9906 - val_loss: 2.8320 - val_acc: 0.5556\n",
      "Epoch 59/100\n",
      "106/106 - 2s - loss: 0.0158 - acc: 1.0000 - val_loss: 3.0092 - val_acc: 0.5185\n",
      "Epoch 60/100\n",
      "106/106 - 2s - loss: 0.0045 - acc: 1.0000 - val_loss: 3.1793 - val_acc: 0.5185\n",
      "Epoch 61/100\n",
      "106/106 - 2s - loss: 0.0112 - acc: 1.0000 - val_loss: 3.3227 - val_acc: 0.4815\n",
      "Epoch 62/100\n",
      "106/106 - 2s - loss: 0.0134 - acc: 1.0000 - val_loss: 3.1212 - val_acc: 0.5556\n",
      "Epoch 63/100\n",
      "106/106 - 2s - loss: 0.0072 - acc: 1.0000 - val_loss: 2.9277 - val_acc: 0.5185\n",
      "Epoch 64/100\n",
      "106/106 - 2s - loss: 0.0151 - acc: 0.9906 - val_loss: 2.8009 - val_acc: 0.5185\n",
      "Epoch 65/100\n",
      "106/106 - 2s - loss: 0.0100 - acc: 1.0000 - val_loss: 2.7764 - val_acc: 0.5185\n",
      "Epoch 66/100\n",
      "106/106 - 3s - loss: 0.0109 - acc: 1.0000 - val_loss: 2.9021 - val_acc: 0.5185\n",
      "Epoch 67/100\n",
      "106/106 - 2s - loss: 0.0043 - acc: 1.0000 - val_loss: 3.0066 - val_acc: 0.5185\n",
      "Epoch 68/100\n",
      "106/106 - 2s - loss: 0.0141 - acc: 1.0000 - val_loss: 3.0651 - val_acc: 0.5556\n",
      "Epoch 69/100\n",
      "106/106 - 2s - loss: 0.0046 - acc: 1.0000 - val_loss: 3.0376 - val_acc: 0.5556\n",
      "Epoch 70/100\n",
      "106/106 - 1s - loss: 0.0090 - acc: 1.0000 - val_loss: 2.9941 - val_acc: 0.5185\n",
      "Epoch 71/100\n",
      "106/106 - 1s - loss: 0.0076 - acc: 1.0000 - val_loss: 2.9120 - val_acc: 0.5185\n",
      "Epoch 72/100\n",
      "106/106 - 1s - loss: 0.0045 - acc: 1.0000 - val_loss: 2.9091 - val_acc: 0.4815\n",
      "Epoch 73/100\n",
      "106/106 - 1s - loss: 0.0095 - acc: 1.0000 - val_loss: 2.9413 - val_acc: 0.4815\n",
      "Epoch 74/100\n",
      "106/106 - 1s - loss: 0.0034 - acc: 1.0000 - val_loss: 2.9665 - val_acc: 0.4444\n",
      "Epoch 75/100\n",
      "106/106 - 1s - loss: 0.0052 - acc: 1.0000 - val_loss: 2.9846 - val_acc: 0.4444\n",
      "Epoch 76/100\n",
      "106/106 - 1s - loss: 0.0037 - acc: 1.0000 - val_loss: 3.0133 - val_acc: 0.4444\n",
      "Epoch 77/100\n",
      "106/106 - 2s - loss: 0.0035 - acc: 1.0000 - val_loss: 3.0572 - val_acc: 0.4444\n",
      "Epoch 78/100\n",
      "106/106 - 1s - loss: 0.0088 - acc: 1.0000 - val_loss: 3.0570 - val_acc: 0.4444\n",
      "Epoch 79/100\n",
      "106/106 - 2s - loss: 0.0115 - acc: 0.9906 - val_loss: 3.2729 - val_acc: 0.4444\n",
      "Epoch 80/100\n",
      "106/106 - 2s - loss: 0.0026 - acc: 1.0000 - val_loss: 3.3317 - val_acc: 0.4815\n",
      "Epoch 81/100\n",
      "106/106 - 2s - loss: 0.0418 - acc: 0.9811 - val_loss: 2.9367 - val_acc: 0.4815\n",
      "Epoch 82/100\n",
      "106/106 - 2s - loss: 0.0147 - acc: 1.0000 - val_loss: 2.8245 - val_acc: 0.4815\n",
      "Epoch 83/100\n",
      "106/106 - 1s - loss: 0.0227 - acc: 0.9906 - val_loss: 3.4920 - val_acc: 0.4074\n",
      "Epoch 84/100\n",
      "106/106 - 1s - loss: 0.0604 - acc: 0.9811 - val_loss: 3.7649 - val_acc: 0.4444\n",
      "Epoch 85/100\n",
      "106/106 - 1s - loss: 0.0051 - acc: 1.0000 - val_loss: 3.4222 - val_acc: 0.4444\n",
      "Epoch 86/100\n",
      "106/106 - 2s - loss: 0.0050 - acc: 1.0000 - val_loss: 3.1999 - val_acc: 0.4074\n",
      "Epoch 87/100\n",
      "106/106 - 2s - loss: 0.0100 - acc: 0.9906 - val_loss: 3.2726 - val_acc: 0.4815\n",
      "Epoch 88/100\n",
      "106/106 - 2s - loss: 0.0047 - acc: 1.0000 - val_loss: 3.1540 - val_acc: 0.4815\n",
      "Epoch 89/100\n",
      "106/106 - 2s - loss: 0.0037 - acc: 1.0000 - val_loss: 3.0057 - val_acc: 0.4815\n"
     ]
    },
    {
     "name": "stdout",
     "output_type": "stream",
     "text": [
      "Epoch 90/100\n",
      "106/106 - 1s - loss: 0.0151 - acc: 0.9906 - val_loss: 2.8885 - val_acc: 0.5556\n",
      "Epoch 91/100\n",
      "106/106 - 2s - loss: 0.0029 - acc: 1.0000 - val_loss: 2.8205 - val_acc: 0.5185\n",
      "Epoch 92/100\n",
      "106/106 - 2s - loss: 0.0088 - acc: 1.0000 - val_loss: 2.8509 - val_acc: 0.4815\n",
      "Epoch 93/100\n",
      "106/106 - 2s - loss: 0.0101 - acc: 1.0000 - val_loss: 3.0289 - val_acc: 0.4815\n",
      "Epoch 94/100\n",
      "106/106 - 2s - loss: 0.0038 - acc: 1.0000 - val_loss: 3.2717 - val_acc: 0.4074\n",
      "Epoch 95/100\n",
      "106/106 - 2s - loss: 0.0027 - acc: 1.0000 - val_loss: 3.4347 - val_acc: 0.4074\n",
      "Epoch 96/100\n",
      "106/106 - 2s - loss: 0.0061 - acc: 1.0000 - val_loss: 3.5212 - val_acc: 0.4074\n",
      "Epoch 97/100\n",
      "106/106 - 2s - loss: 0.0027 - acc: 1.0000 - val_loss: 3.5698 - val_acc: 0.4074\n",
      "Epoch 98/100\n",
      "106/106 - 2s - loss: 0.0051 - acc: 1.0000 - val_loss: 3.5970 - val_acc: 0.4074\n",
      "Epoch 99/100\n",
      "106/106 - 2s - loss: 0.0020 - acc: 1.0000 - val_loss: 3.6216 - val_acc: 0.4074\n",
      "Epoch 100/100\n",
      "106/106 - 2s - loss: 0.0021 - acc: 1.0000 - val_loss: 3.6031 - val_acc: 0.4074\n"
     ]
    },
    {
     "data": {
      "text/plain": [
       "<tensorflow.python.keras.callbacks.History at 0x1a51dec5c0>"
      ]
     },
     "execution_count": 45,
     "metadata": {},
     "output_type": "execute_result"
    }
   ],
   "source": [
    "# Fit the model to the training data\n",
    "model.fit(reshaped_X3_train_scaled, y3_train, validation_split=0.2, epochs=100, shuffle=False, verbose=2)"
   ]
  },
  {
   "cell_type": "code",
   "execution_count": 46,
   "metadata": {},
   "outputs": [
    {
     "name": "stdout",
     "output_type": "stream",
     "text": [
      "34/34 - 0s - loss: 3.9641 - acc: 0.2059\n"
     ]
    }
   ],
   "source": [
    "# Evaluate model using test data\n",
    "model_loss3, model_accuracy3 = model.evaluate(reshaped_X3_test_scaled, y3_test, verbose=2)"
   ]
  },
  {
   "cell_type": "code",
   "execution_count": 47,
   "metadata": {},
   "outputs": [],
   "source": [
    "# Make predictions using test data\n",
    "predictions3_prob = model.predict_proba(reshaped_X3_test_scaled)\n",
    "predictions3_class = model.predict_classes(reshaped_X3_test_scaled)"
   ]
  },
  {
   "cell_type": "code",
   "execution_count": 48,
   "metadata": {},
   "outputs": [
    {
     "data": {
      "text/html": [
       "<div>\n",
       "<style scoped>\n",
       "    .dataframe tbody tr th:only-of-type {\n",
       "        vertical-align: middle;\n",
       "    }\n",
       "\n",
       "    .dataframe tbody tr th {\n",
       "        vertical-align: top;\n",
       "    }\n",
       "\n",
       "    .dataframe thead th {\n",
       "        text-align: right;\n",
       "    }\n",
       "</style>\n",
       "<table border=\"1\" class=\"dataframe\">\n",
       "  <thead>\n",
       "    <tr style=\"text-align: right;\">\n",
       "      <th></th>\n",
       "      <th>Predicted Probability of No Recession</th>\n",
       "      <th>Predicted Probability of a Recession</th>\n",
       "      <th>Actual</th>\n",
       "    </tr>\n",
       "    <tr>\n",
       "      <th>quarter</th>\n",
       "      <th></th>\n",
       "      <th></th>\n",
       "      <th></th>\n",
       "    </tr>\n",
       "  </thead>\n",
       "  <tbody>\n",
       "    <tr>\n",
       "      <th>2009Q4</th>\n",
       "      <td>0.025571</td>\n",
       "      <td>0.974429</td>\n",
       "      <td>0.0</td>\n",
       "    </tr>\n",
       "    <tr>\n",
       "      <th>2010Q1</th>\n",
       "      <td>0.016125</td>\n",
       "      <td>0.983875</td>\n",
       "      <td>0.0</td>\n",
       "    </tr>\n",
       "    <tr>\n",
       "      <th>2010Q2</th>\n",
       "      <td>0.002172</td>\n",
       "      <td>0.997828</td>\n",
       "      <td>0.0</td>\n",
       "    </tr>\n",
       "    <tr>\n",
       "      <th>2010Q3</th>\n",
       "      <td>0.000269</td>\n",
       "      <td>0.999731</td>\n",
       "      <td>0.0</td>\n",
       "    </tr>\n",
       "    <tr>\n",
       "      <th>2010Q4</th>\n",
       "      <td>0.000537</td>\n",
       "      <td>0.999463</td>\n",
       "      <td>0.0</td>\n",
       "    </tr>\n",
       "  </tbody>\n",
       "</table>\n",
       "</div>"
      ],
      "text/plain": [
       "         Predicted Probability of No Recession  \\\n",
       "quarter                                          \n",
       "2009Q4                                0.025571   \n",
       "2010Q1                                0.016125   \n",
       "2010Q2                                0.002172   \n",
       "2010Q3                                0.000269   \n",
       "2010Q4                                0.000537   \n",
       "\n",
       "         Predicted Probability of a Recession  Actual  \n",
       "quarter                                                \n",
       "2009Q4                               0.974429     0.0  \n",
       "2010Q1                               0.983875     0.0  \n",
       "2010Q2                               0.997828     0.0  \n",
       "2010Q3                               0.999731     0.0  \n",
       "2010Q4                               0.999463     0.0  "
      ]
     },
     "execution_count": 48,
     "metadata": {},
     "output_type": "execute_result"
    }
   ],
   "source": [
    "# Compare results\n",
    "four_qtrs_out = pd.DataFrame({\"Predicted Probability of No Recession\":predictions3_prob[:,0], \"Predicted Probability of a Recession\":predictions3_prob[:,1], \"Actual\":y3_test})\n",
    "four_qtrs_out.head()"
   ]
  },
  {
   "cell_type": "markdown",
   "metadata": {},
   "source": [
    "#### Confusion Matrix on X3-Y3 data (recession 4 quarters out)"
   ]
  },
  {
   "cell_type": "code",
   "execution_count": 49,
   "metadata": {},
   "outputs": [
    {
     "name": "stdout",
     "output_type": "stream",
     "text": [
      "[[ 7 27]\n",
      " [ 0  0]]\n"
     ]
    }
   ],
   "source": [
    "# Create confusion matrix on X3 model\n",
    "con_mat = confusion_matrix(y3_test, predictions3_class)\n",
    "print(con_mat)"
   ]
  },
  {
   "cell_type": "code",
   "execution_count": 50,
   "metadata": {},
   "outputs": [
    {
     "name": "stdout",
     "output_type": "stream",
     "text": [
      "              precision    recall  f1-score   support\n",
      "\n",
      "         0.0       1.00      0.21      0.34        34\n",
      "         1.0       0.00      0.00      0.00         0\n",
      "\n",
      "    accuracy                           0.21        34\n",
      "   macro avg       0.50      0.10      0.17        34\n",
      "weighted avg       1.00      0.21      0.34        34\n",
      "\n"
     ]
    },
    {
     "name": "stderr",
     "output_type": "stream",
     "text": [
      "/anaconda3/lib/python3.7/site-packages/sklearn/metrics/classification.py:1439: UndefinedMetricWarning: Recall and F-score are ill-defined and being set to 0.0 in labels with no true samples.\n",
      "  'recall', 'true', average, warn_for)\n"
     ]
    }
   ],
   "source": [
    "# Score model\n",
    "print(classification_report(y3_test, predictions3_class))"
   ]
  },
  {
   "cell_type": "code",
   "execution_count": 51,
   "metadata": {},
   "outputs": [],
   "source": [
    "# Save model\n",
    "name3 = f\"unshuffled-4q-out-{dt.datetime.now()}\"\n",
    "model.save(f\"models/{name3}.h5\")"
   ]
  },
  {
   "cell_type": "markdown",
   "metadata": {},
   "source": [
    "### Predict on 2019"
   ]
  },
  {
   "cell_type": "code",
   "execution_count": 52,
   "metadata": {},
   "outputs": [
    {
     "name": "stdout",
     "output_type": "stream",
     "text": [
      "2019Q1 No Recession Probability: 9.106820821762085\n",
      "2019Q1 Recession Probability: 90.89317917823792\n",
      "2019Q2 No Recession Probability: 20.08049786090851\n",
      "2019Q2 Recession Probability: 79.91949915885925\n"
     ]
    }
   ],
   "source": [
    "# Scale 2019 data \n",
    "scaled_X3_2019 = X3_scaler.transform(df_2019)\n",
    "\n",
    "# Reshape 2019 data\n",
    "reshaped_X3_2019 = reshape_data(scaled_X3_2019)\n",
    "\n",
    "# Predict on 2019\n",
    "pred_X3_2019 = model.predict_proba(reshaped_X3_2019)\n",
    "print(f\"2019Q1 No Recession Probability: {pred_X3_2019[0][0]*100}\")\n",
    "print(f\"2019Q1 Recession Probability: {pred_X3_2019[0][1]*100}\")\n",
    "print(f\"2019Q2 No Recession Probability: {pred_X3_2019[1][0]*100}\")\n",
    "print(f\"2019Q2 Recession Probability: {pred_X3_2019[1][1]*100}\")"
   ]
  },
  {
   "cell_type": "markdown",
   "metadata": {},
   "source": [
    "#### Predict on full X3"
   ]
  },
  {
   "cell_type": "code",
   "execution_count": 53,
   "metadata": {},
   "outputs": [],
   "source": [
    "pred_X3_full = model.predict_classes(reshaped_X3_full)\n",
    "\n",
    "# Preview results\n",
    "X3_full_results = pd.DataFrame({\"Predicted\":pred_X3_full, \"Actual\":y3})\n",
    "# X3_full_results.loc[X3_full_results[\"Actual\"]==1]\n",
    "\n",
    "# Export results for graphing\n",
    "X3_full_results.to_csv(f\"resources/predictions/X3_NS_VS20_{dt.datetime.now()}.csv\")"
   ]
  },
  {
   "cell_type": "code",
   "execution_count": null,
   "metadata": {},
   "outputs": [],
   "source": []
  }
 ],
 "metadata": {
  "kernelspec": {
   "display_name": "Python 3",
   "language": "python",
   "name": "python3"
  },
  "language_info": {
   "codemirror_mode": {
    "name": "ipython",
    "version": 3
   },
   "file_extension": ".py",
   "mimetype": "text/x-python",
   "name": "python",
   "nbconvert_exporter": "python",
   "pygments_lexer": "ipython3",
   "version": "3.7.3"
  }
 },
 "nbformat": 4,
 "nbformat_minor": 2
}
