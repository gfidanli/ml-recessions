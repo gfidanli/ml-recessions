{
 "cells": [
  {
   "cell_type": "markdown",
   "metadata": {},
   "source": [
    "### Import dependencies"
   ]
  },
  {
   "cell_type": "code",
   "execution_count": 1,
   "metadata": {},
   "outputs": [],
   "source": [
    "import pandas as pd\n",
    "import numpy as np\n",
    "from functools import reduce\n",
    "from tensorflow.keras.models import Sequential\n",
    "from tensorflow.keras.layers import Dense, Dropout, LSTM, BatchNormalization\n",
    "from sklearn.model_selection import train_test_split\n",
    "from sklearn.preprocessing import StandardScaler\n",
    "import datetime as dt\n",
    "from sklearn.metrics import confusion_matrix, classification_report"
   ]
  },
  {
   "cell_type": "markdown",
   "metadata": {},
   "source": [
    "### Merge datasets"
   ]
  },
  {
   "cell_type": "code",
   "execution_count": 2,
   "metadata": {},
   "outputs": [],
   "source": [
    "# Read in data\n",
    "cpi = pd.read_csv(\"resources/cpi_final.csv\")\n",
    "gdp = pd.read_csv(\"resources/gdp_final.csv\")\n",
    "gdp_pct = pd.read_csv(\"resources/gdp_pct_chg_final.csv\")\n",
    "houst = pd.read_csv(\"resources/housing_starts_final.csv\")\n",
    "opg = pd.read_csv(\"resources/output_gap_final.csv\")\n",
    "rec_dt = pd.read_csv(\"resources/recession_dates_final.csv\")\n",
    "unrate = pd.read_csv(\"resources/unemployment_rate_final.csv\")\n",
    "fed_funds = pd.read_csv(\"resources/fed_funds_final.csv\")\n",
    "yield10_2 = pd.read_csv(\"resources/10YT_minus_2YT_final.csv\")\n",
    "fred = pd.read_csv(\"resources/FRED_data.csv\")"
   ]
  },
  {
   "cell_type": "code",
   "execution_count": 3,
   "metadata": {},
   "outputs": [],
   "source": [
    "# Combine all data sets into one data frame\n",
    "dfs = [cpi, gdp, gdp_pct, houst, opg, rec_dt, unrate, fed_funds, yield10_2, fred]\n",
    "df = reduce(lambda left,right: pd.merge(left,right,on=['quarter'],how='outer'), dfs)"
   ]
  },
  {
   "cell_type": "code",
   "execution_count": 4,
   "metadata": {},
   "outputs": [],
   "source": [
    "# Sort data frame by quarter\n",
    "df = df.sort_values(by=['quarter'])"
   ]
  },
  {
   "cell_type": "code",
   "execution_count": 5,
   "metadata": {},
   "outputs": [],
   "source": [
    "# Drop date columns\n",
    "df = df.drop(columns=['date_x','date_y'])\n",
    "\n",
    "# Rename target column\n",
    "df = df.rename(columns={'target':'recession_actual'})"
   ]
  },
  {
   "cell_type": "code",
   "execution_count": 6,
   "metadata": {},
   "outputs": [],
   "source": [
    "# Set index to quarter\n",
    "df = df.set_index('quarter')"
   ]
  },
  {
   "cell_type": "code",
   "execution_count": 7,
   "metadata": {},
   "outputs": [
    {
     "data": {
      "text/html": [
       "<div>\n",
       "<style scoped>\n",
       "    .dataframe tbody tr th:only-of-type {\n",
       "        vertical-align: middle;\n",
       "    }\n",
       "\n",
       "    .dataframe tbody tr th {\n",
       "        vertical-align: top;\n",
       "    }\n",
       "\n",
       "    .dataframe thead th {\n",
       "        text-align: right;\n",
       "    }\n",
       "</style>\n",
       "<table border=\"1\" class=\"dataframe\">\n",
       "  <thead>\n",
       "    <tr style=\"text-align: right;\">\n",
       "      <th></th>\n",
       "      <th>avg_consumer_price_index</th>\n",
       "      <th>gdp</th>\n",
       "      <th>gdp_pct_change</th>\n",
       "      <th>avg_housing_starts</th>\n",
       "      <th>output_gap</th>\n",
       "      <th>avg_unemployment_rate</th>\n",
       "      <th>fed_funds_avg_rate</th>\n",
       "      <th>fed_funds_percent_change_prev_quarter</th>\n",
       "      <th>fed_funds_st_dev_rate</th>\n",
       "      <th>10YT_minus_2YT_avg</th>\n",
       "      <th>10YT_minus_2YT_percent_change_prev_quarter</th>\n",
       "      <th>real_disp_pers_inc</th>\n",
       "      <th>personal_consumption_exp_excl_food_energy</th>\n",
       "      <th>cpi_US_total</th>\n",
       "      <th>tot_public_debt_as_pct_of_gdp</th>\n",
       "      <th>gross_private_domestic_invest</th>\n",
       "      <th>M2_velocity</th>\n",
       "      <th>median_sls_price_houses_sold_US</th>\n",
       "      <th>nat_rate_of_unemp_long_term</th>\n",
       "      <th>personal_consumption_expenditures</th>\n",
       "    </tr>\n",
       "    <tr>\n",
       "      <th>quarter</th>\n",
       "      <th></th>\n",
       "      <th></th>\n",
       "      <th></th>\n",
       "      <th></th>\n",
       "      <th></th>\n",
       "      <th></th>\n",
       "      <th></th>\n",
       "      <th></th>\n",
       "      <th></th>\n",
       "      <th></th>\n",
       "      <th></th>\n",
       "      <th></th>\n",
       "      <th></th>\n",
       "      <th></th>\n",
       "      <th></th>\n",
       "      <th></th>\n",
       "      <th></th>\n",
       "      <th></th>\n",
       "      <th></th>\n",
       "      <th></th>\n",
       "    </tr>\n",
       "  </thead>\n",
       "  <tbody>\n",
       "    <tr>\n",
       "      <th>2019Q1</th>\n",
       "      <td>253.311333</td>\n",
       "      <td>21098.827</td>\n",
       "      <td>3.9</td>\n",
       "      <td>1213.000000</td>\n",
       "      <td>0.848147</td>\n",
       "      <td>4.133333</td>\n",
       "      <td>2.401311</td>\n",
       "      <td>0.083088</td>\n",
       "      <td>0.004646</td>\n",
       "      <td>0.170000</td>\n",
       "      <td>-0.271429</td>\n",
       "      <td>4.5</td>\n",
       "      <td>1.6</td>\n",
       "      <td>1.644936</td>\n",
       "      <td>104.40334</td>\n",
       "      <td>3783.364</td>\n",
       "      <td>1.458</td>\n",
       "      <td>313000.0</td>\n",
       "      <td>4.577</td>\n",
       "      <td>14266.250</td>\n",
       "    </tr>\n",
       "    <tr>\n",
       "      <th>2019Q2</th>\n",
       "      <td>255.139333</td>\n",
       "      <td>21340.267</td>\n",
       "      <td>4.7</td>\n",
       "      <td>1255.666667</td>\n",
       "      <td>0.828815</td>\n",
       "      <td>3.500000</td>\n",
       "      <td>2.397813</td>\n",
       "      <td>-0.001457</td>\n",
       "      <td>0.024002</td>\n",
       "      <td>0.213333</td>\n",
       "      <td>0.254902</td>\n",
       "      <td>2.4</td>\n",
       "      <td>1.6</td>\n",
       "      <td>1.811376</td>\n",
       "      <td>103.20060</td>\n",
       "      <td>3749.471</td>\n",
       "      <td>1.457</td>\n",
       "      <td>322500.0</td>\n",
       "      <td>4.572</td>\n",
       "      <td>14511.176</td>\n",
       "    </tr>\n",
       "  </tbody>\n",
       "</table>\n",
       "</div>"
      ],
      "text/plain": [
       "         avg_consumer_price_index        gdp  gdp_pct_change  \\\n",
       "quarter                                                        \n",
       "2019Q1                 253.311333  21098.827             3.9   \n",
       "2019Q2                 255.139333  21340.267             4.7   \n",
       "\n",
       "         avg_housing_starts  output_gap  avg_unemployment_rate  \\\n",
       "quarter                                                          \n",
       "2019Q1          1213.000000    0.848147               4.133333   \n",
       "2019Q2          1255.666667    0.828815               3.500000   \n",
       "\n",
       "         fed_funds_avg_rate  fed_funds_percent_change_prev_quarter  \\\n",
       "quarter                                                              \n",
       "2019Q1             2.401311                               0.083088   \n",
       "2019Q2             2.397813                              -0.001457   \n",
       "\n",
       "         fed_funds_st_dev_rate  10YT_minus_2YT_avg  \\\n",
       "quarter                                              \n",
       "2019Q1                0.004646            0.170000   \n",
       "2019Q2                0.024002            0.213333   \n",
       "\n",
       "         10YT_minus_2YT_percent_change_prev_quarter  real_disp_pers_inc  \\\n",
       "quarter                                                                   \n",
       "2019Q1                                    -0.271429                 4.5   \n",
       "2019Q2                                     0.254902                 2.4   \n",
       "\n",
       "         personal_consumption_exp_excl_food_energy  cpi_US_total  \\\n",
       "quarter                                                            \n",
       "2019Q1                                         1.6      1.644936   \n",
       "2019Q2                                         1.6      1.811376   \n",
       "\n",
       "         tot_public_debt_as_pct_of_gdp  gross_private_domestic_invest  \\\n",
       "quarter                                                                 \n",
       "2019Q1                       104.40334                       3783.364   \n",
       "2019Q2                       103.20060                       3749.471   \n",
       "\n",
       "         M2_velocity  median_sls_price_houses_sold_US  \\\n",
       "quarter                                                 \n",
       "2019Q1         1.458                         313000.0   \n",
       "2019Q2         1.457                         322500.0   \n",
       "\n",
       "         nat_rate_of_unemp_long_term  personal_consumption_expenditures  \n",
       "quarter                                                                  \n",
       "2019Q1                         4.577                          14266.250  \n",
       "2019Q2                         4.572                          14511.176  "
      ]
     },
     "execution_count": 7,
     "metadata": {},
     "output_type": "execute_result"
    }
   ],
   "source": [
    "# Save 2019 Q1 & Q2\n",
    "df_2019 = df.iloc[[-4,-3],:]\n",
    "df_2019 = df_2019.drop(columns=['recession_actual'])\n",
    "df_2019"
   ]
  },
  {
   "cell_type": "code",
   "execution_count": 8,
   "metadata": {
    "scrolled": true
   },
   "outputs": [
    {
     "data": {
      "text/html": [
       "<div>\n",
       "<style scoped>\n",
       "    .dataframe tbody tr th:only-of-type {\n",
       "        vertical-align: middle;\n",
       "    }\n",
       "\n",
       "    .dataframe tbody tr th {\n",
       "        vertical-align: top;\n",
       "    }\n",
       "\n",
       "    .dataframe thead th {\n",
       "        text-align: right;\n",
       "    }\n",
       "</style>\n",
       "<table border=\"1\" class=\"dataframe\">\n",
       "  <thead>\n",
       "    <tr style=\"text-align: right;\">\n",
       "      <th></th>\n",
       "      <th>avg_consumer_price_index</th>\n",
       "      <th>gdp</th>\n",
       "      <th>gdp_pct_change</th>\n",
       "      <th>avg_housing_starts</th>\n",
       "      <th>output_gap</th>\n",
       "      <th>recession_actual</th>\n",
       "      <th>avg_unemployment_rate</th>\n",
       "      <th>fed_funds_avg_rate</th>\n",
       "      <th>fed_funds_percent_change_prev_quarter</th>\n",
       "      <th>fed_funds_st_dev_rate</th>\n",
       "      <th>...</th>\n",
       "      <th>10YT_minus_2YT_percent_change_prev_quarter</th>\n",
       "      <th>real_disp_pers_inc</th>\n",
       "      <th>personal_consumption_exp_excl_food_energy</th>\n",
       "      <th>cpi_US_total</th>\n",
       "      <th>tot_public_debt_as_pct_of_gdp</th>\n",
       "      <th>gross_private_domestic_invest</th>\n",
       "      <th>M2_velocity</th>\n",
       "      <th>median_sls_price_houses_sold_US</th>\n",
       "      <th>nat_rate_of_unemp_long_term</th>\n",
       "      <th>personal_consumption_expenditures</th>\n",
       "    </tr>\n",
       "    <tr>\n",
       "      <th>quarter</th>\n",
       "      <th></th>\n",
       "      <th></th>\n",
       "      <th></th>\n",
       "      <th></th>\n",
       "      <th></th>\n",
       "      <th></th>\n",
       "      <th></th>\n",
       "      <th></th>\n",
       "      <th></th>\n",
       "      <th></th>\n",
       "      <th></th>\n",
       "      <th></th>\n",
       "      <th></th>\n",
       "      <th></th>\n",
       "      <th></th>\n",
       "      <th></th>\n",
       "      <th></th>\n",
       "      <th></th>\n",
       "      <th></th>\n",
       "      <th></th>\n",
       "      <th></th>\n",
       "    </tr>\n",
       "  </thead>\n",
       "  <tbody>\n",
       "    <tr>\n",
       "      <th>2018Q1</th>\n",
       "      <td>249.250333</td>\n",
       "      <td>20163.159</td>\n",
       "      <td>5.0</td>\n",
       "      <td>1320.666667</td>\n",
       "      <td>0.202456</td>\n",
       "      <td>0.0</td>\n",
       "      <td>4.333333</td>\n",
       "      <td>1.448966</td>\n",
       "      <td>0.204683</td>\n",
       "      <td>0.083902</td>\n",
       "      <td>...</td>\n",
       "      <td>-0.113861</td>\n",
       "      <td>6.9</td>\n",
       "      <td>1.8</td>\n",
       "      <td>2.214194</td>\n",
       "      <td>104.59493</td>\n",
       "      <td>3542.412</td>\n",
       "      <td>1.451</td>\n",
       "      <td>331800.0</td>\n",
       "      <td>4.597</td>\n",
       "      <td>13728.357</td>\n",
       "    </tr>\n",
       "    <tr>\n",
       "      <th>2018Q2</th>\n",
       "      <td>250.578667</td>\n",
       "      <td>20510.177</td>\n",
       "      <td>7.1</td>\n",
       "      <td>1259.666667</td>\n",
       "      <td>0.589182</td>\n",
       "      <td>0.0</td>\n",
       "      <td>3.833333</td>\n",
       "      <td>1.727176</td>\n",
       "      <td>0.192007</td>\n",
       "      <td>0.075492</td>\n",
       "      <td>...</td>\n",
       "      <td>-0.251397</td>\n",
       "      <td>2.7</td>\n",
       "      <td>2.0</td>\n",
       "      <td>2.711887</td>\n",
       "      <td>103.33928</td>\n",
       "      <td>3561.592</td>\n",
       "      <td>1.461</td>\n",
       "      <td>315600.0</td>\n",
       "      <td>4.592</td>\n",
       "      <td>13939.828</td>\n",
       "    </tr>\n",
       "    <tr>\n",
       "      <th>2018Q3</th>\n",
       "      <td>251.828667</td>\n",
       "      <td>20749.752</td>\n",
       "      <td>4.8</td>\n",
       "      <td>1233.000000</td>\n",
       "      <td>0.821959</td>\n",
       "      <td>0.0</td>\n",
       "      <td>3.866667</td>\n",
       "      <td>1.923492</td>\n",
       "      <td>0.113663</td>\n",
       "      <td>0.047184</td>\n",
       "      <td>...</td>\n",
       "      <td>-0.432836</td>\n",
       "      <td>3.3</td>\n",
       "      <td>2.0</td>\n",
       "      <td>2.640940</td>\n",
       "      <td>103.69309</td>\n",
       "      <td>3683.981</td>\n",
       "      <td>1.462</td>\n",
       "      <td>330900.0</td>\n",
       "      <td>4.587</td>\n",
       "      <td>14114.559</td>\n",
       "    </tr>\n",
       "    <tr>\n",
       "      <th>2018Q4</th>\n",
       "      <td>252.759000</td>\n",
       "      <td>20897.804</td>\n",
       "      <td>2.9</td>\n",
       "      <td>1185.000000</td>\n",
       "      <td>0.592021</td>\n",
       "      <td>0.0</td>\n",
       "      <td>3.566667</td>\n",
       "      <td>2.217097</td>\n",
       "      <td>0.152641</td>\n",
       "      <td>0.066218</td>\n",
       "      <td>...</td>\n",
       "      <td>-0.078947</td>\n",
       "      <td>2.8</td>\n",
       "      <td>1.9</td>\n",
       "      <td>2.203131</td>\n",
       "      <td>105.15026</td>\n",
       "      <td>3725.234</td>\n",
       "      <td>1.462</td>\n",
       "      <td>322800.0</td>\n",
       "      <td>4.582</td>\n",
       "      <td>14211.920</td>\n",
       "    </tr>\n",
       "    <tr>\n",
       "      <th>2019Q1</th>\n",
       "      <td>253.311333</td>\n",
       "      <td>21098.827</td>\n",
       "      <td>3.9</td>\n",
       "      <td>1213.000000</td>\n",
       "      <td>0.848147</td>\n",
       "      <td>0.0</td>\n",
       "      <td>4.133333</td>\n",
       "      <td>2.401311</td>\n",
       "      <td>0.083088</td>\n",
       "      <td>0.004646</td>\n",
       "      <td>...</td>\n",
       "      <td>-0.271429</td>\n",
       "      <td>4.5</td>\n",
       "      <td>1.6</td>\n",
       "      <td>1.644936</td>\n",
       "      <td>104.40334</td>\n",
       "      <td>3783.364</td>\n",
       "      <td>1.458</td>\n",
       "      <td>313000.0</td>\n",
       "      <td>4.577</td>\n",
       "      <td>14266.250</td>\n",
       "    </tr>\n",
       "  </tbody>\n",
       "</table>\n",
       "<p>5 rows × 21 columns</p>\n",
       "</div>"
      ],
      "text/plain": [
       "         avg_consumer_price_index        gdp  gdp_pct_change  \\\n",
       "quarter                                                        \n",
       "2018Q1                 249.250333  20163.159             5.0   \n",
       "2018Q2                 250.578667  20510.177             7.1   \n",
       "2018Q3                 251.828667  20749.752             4.8   \n",
       "2018Q4                 252.759000  20897.804             2.9   \n",
       "2019Q1                 253.311333  21098.827             3.9   \n",
       "\n",
       "         avg_housing_starts  output_gap  recession_actual  \\\n",
       "quarter                                                     \n",
       "2018Q1          1320.666667    0.202456               0.0   \n",
       "2018Q2          1259.666667    0.589182               0.0   \n",
       "2018Q3          1233.000000    0.821959               0.0   \n",
       "2018Q4          1185.000000    0.592021               0.0   \n",
       "2019Q1          1213.000000    0.848147               0.0   \n",
       "\n",
       "         avg_unemployment_rate  fed_funds_avg_rate  \\\n",
       "quarter                                              \n",
       "2018Q1                4.333333            1.448966   \n",
       "2018Q2                3.833333            1.727176   \n",
       "2018Q3                3.866667            1.923492   \n",
       "2018Q4                3.566667            2.217097   \n",
       "2019Q1                4.133333            2.401311   \n",
       "\n",
       "         fed_funds_percent_change_prev_quarter  fed_funds_st_dev_rate  ...  \\\n",
       "quarter                                                                ...   \n",
       "2018Q1                                0.204683               0.083902  ...   \n",
       "2018Q2                                0.192007               0.075492  ...   \n",
       "2018Q3                                0.113663               0.047184  ...   \n",
       "2018Q4                                0.152641               0.066218  ...   \n",
       "2019Q1                                0.083088               0.004646  ...   \n",
       "\n",
       "         10YT_minus_2YT_percent_change_prev_quarter  real_disp_pers_inc  \\\n",
       "quarter                                                                   \n",
       "2018Q1                                    -0.113861                 6.9   \n",
       "2018Q2                                    -0.251397                 2.7   \n",
       "2018Q3                                    -0.432836                 3.3   \n",
       "2018Q4                                    -0.078947                 2.8   \n",
       "2019Q1                                    -0.271429                 4.5   \n",
       "\n",
       "         personal_consumption_exp_excl_food_energy  cpi_US_total  \\\n",
       "quarter                                                            \n",
       "2018Q1                                         1.8      2.214194   \n",
       "2018Q2                                         2.0      2.711887   \n",
       "2018Q3                                         2.0      2.640940   \n",
       "2018Q4                                         1.9      2.203131   \n",
       "2019Q1                                         1.6      1.644936   \n",
       "\n",
       "         tot_public_debt_as_pct_of_gdp  gross_private_domestic_invest  \\\n",
       "quarter                                                                 \n",
       "2018Q1                       104.59493                       3542.412   \n",
       "2018Q2                       103.33928                       3561.592   \n",
       "2018Q3                       103.69309                       3683.981   \n",
       "2018Q4                       105.15026                       3725.234   \n",
       "2019Q1                       104.40334                       3783.364   \n",
       "\n",
       "         M2_velocity  median_sls_price_houses_sold_US  \\\n",
       "quarter                                                 \n",
       "2018Q1         1.451                         331800.0   \n",
       "2018Q2         1.461                         315600.0   \n",
       "2018Q3         1.462                         330900.0   \n",
       "2018Q4         1.462                         322800.0   \n",
       "2019Q1         1.458                         313000.0   \n",
       "\n",
       "         nat_rate_of_unemp_long_term  personal_consumption_expenditures  \n",
       "quarter                                                                  \n",
       "2018Q1                         4.597                          13728.357  \n",
       "2018Q2                         4.592                          13939.828  \n",
       "2018Q3                         4.587                          14114.559  \n",
       "2018Q4                         4.582                          14211.920  \n",
       "2019Q1                         4.577                          14266.250  \n",
       "\n",
       "[5 rows x 21 columns]"
      ]
     },
     "execution_count": 8,
     "metadata": {},
     "output_type": "execute_result"
    }
   ],
   "source": [
    "# Drop rows with missing values\n",
    "df = df.dropna()\n",
    "df.tail()"
   ]
  },
  {
   "cell_type": "markdown",
   "metadata": {},
   "source": [
    "### Shift data with sliding window technique"
   ]
  },
  {
   "cell_type": "code",
   "execution_count": 9,
   "metadata": {},
   "outputs": [],
   "source": [
    "df['recession_1q_out'] = df['recession_actual'].shift(-1)\n",
    "df['recession_2q_out'] = df['recession_actual'].shift(-2)\n",
    "df['recession_4q_out'] = df['recession_actual'].shift(-4)"
   ]
  },
  {
   "cell_type": "code",
   "execution_count": 10,
   "metadata": {},
   "outputs": [],
   "source": [
    "# Create three datasets -- 1 for each model (recession 1Qtr out, 2Qtrs out, 4Qtrs out)\n",
    "df_q1 = df.drop(columns=['recession_2q_out','recession_4q_out','recession_actual'])\n",
    "df_q2 = df.drop(columns=['recession_4q_out','recession_1q_out','recession_actual'])\n",
    "df_q4 = df.drop(columns=['recession_1q_out','recession_2q_out','recession_actual'])"
   ]
  },
  {
   "cell_type": "code",
   "execution_count": 11,
   "metadata": {},
   "outputs": [],
   "source": [
    "# Delete missing values\n",
    "df_q1 = df_q1.dropna()\n",
    "df_q2 = df_q2.dropna()\n",
    "df_q4 = df_q4.dropna()"
   ]
  },
  {
   "cell_type": "code",
   "execution_count": 12,
   "metadata": {},
   "outputs": [],
   "source": [
    "# Define y variables\n",
    "y1 = df_q1['recession_1q_out']\n",
    "y2 = df_q2['recession_2q_out']\n",
    "y3 = df_q4['recession_4q_out']"
   ]
  },
  {
   "cell_type": "code",
   "execution_count": 13,
   "metadata": {},
   "outputs": [],
   "source": [
    "# Drop target\n",
    "df_q1 = df_q1.drop(columns=['recession_1q_out'])\n",
    "df_q2 = df_q2.drop(columns=['recession_2q_out'])\n",
    "df_q4 = df_q4.drop(columns=['recession_4q_out'])"
   ]
  },
  {
   "cell_type": "code",
   "execution_count": 14,
   "metadata": {},
   "outputs": [],
   "source": [
    "# Define X\n",
    "X_q1 = df_q1\n",
    "X_q2 = df_q2\n",
    "X_q4 = df_q4"
   ]
  },
  {
   "cell_type": "markdown",
   "metadata": {},
   "source": [
    "### Split and scale data"
   ]
  },
  {
   "cell_type": "code",
   "execution_count": 15,
   "metadata": {},
   "outputs": [],
   "source": [
    "# Split data into training and testing\n",
    "X1_train, X1_test, y1_train, y1_test=train_test_split(X_q1, y1, train_size=0.8, random_state=42, stratify=y1)\n",
    "X2_train, X2_test, y2_train, y2_test=train_test_split(X_q2, y2, train_size=0.8, random_state=42, stratify=y2)\n",
    "X3_train, X3_test, y3_train, y3_test=train_test_split(X_q4, y3, train_size=0.8, random_state=42, stratify=y3)"
   ]
  },
  {
   "cell_type": "code",
   "execution_count": 16,
   "metadata": {
    "scrolled": true
   },
   "outputs": [],
   "source": [
    "# Create scaler object\n",
    "X1_scaler = StandardScaler().fit(X1_train)\n",
    "X2_scaler = StandardScaler().fit(X2_train)\n",
    "X3_scaler = StandardScaler().fit(X3_train)\n",
    "\n",
    "# X full scaler object\n",
    "X1_full_scaler = StandardScaler().fit(X_q1)\n",
    "X2_full_scaler = StandardScaler().fit(X_q2)\n",
    "X3_full_scaler = StandardScaler().fit(X_q4)"
   ]
  },
  {
   "cell_type": "code",
   "execution_count": 17,
   "metadata": {},
   "outputs": [],
   "source": [
    "# Scale training data\n",
    "X1_train_scaled = X1_scaler.transform(X1_train)\n",
    "X2_train_scaled = X2_scaler.transform(X2_train)\n",
    "X3_train_scaled = X3_scaler.transform(X3_train)\n",
    "\n",
    "# Scale testing data\n",
    "X1_test_scaled = X1_scaler.transform(X1_test)\n",
    "X2_test_scaled = X2_scaler.transform(X2_test)\n",
    "X3_test_scaled = X3_scaler.transform(X3_test)\n",
    "\n",
    "# Scale full X data (no splits)\n",
    "X1_full_scaled = X1_full_scaler.transform(X_q1)\n",
    "X2_full_scaled = X2_full_scaler.transform(X_q2)\n",
    "X3_full_scaled = X3_full_scaler.transform(X_q4)"
   ]
  },
  {
   "cell_type": "markdown",
   "metadata": {},
   "source": [
    "### Reshape data to fit LSTM format"
   ]
  },
  {
   "cell_type": "code",
   "execution_count": 18,
   "metadata": {},
   "outputs": [],
   "source": [
    "# Method to reshape data\n",
    "def reshape_data(obj):\n",
    "    reshaped_obj = np.reshape(obj, (obj.shape[0], obj.shape[1], 1))\n",
    "    return reshaped_obj"
   ]
  },
  {
   "cell_type": "code",
   "execution_count": 19,
   "metadata": {},
   "outputs": [],
   "source": [
    "# Reshape training data\n",
    "reshaped_X1_train_scaled = reshape_data(X1_train_scaled)\n",
    "reshaped_X2_train_scaled = reshape_data(X2_train_scaled)\n",
    "reshaped_X3_train_scaled = reshape_data(X3_train_scaled)"
   ]
  },
  {
   "cell_type": "code",
   "execution_count": 20,
   "metadata": {},
   "outputs": [],
   "source": [
    "# Reshape testing data\n",
    "reshaped_X1_test_scaled = reshape_data(X1_test_scaled)\n",
    "reshaped_X2_test_scaled = reshape_data(X2_test_scaled)\n",
    "reshaped_X3_test_scaled = reshape_data(X3_test_scaled)"
   ]
  },
  {
   "cell_type": "code",
   "execution_count": 21,
   "metadata": {},
   "outputs": [],
   "source": [
    "# Reshape X_full\n",
    "reshaped_X1_full = reshape_data(X1_full_scaled)\n",
    "reshaped_X2_full = reshape_data(X2_full_scaled)\n",
    "reshaped_X3_full = reshape_data(X3_full_scaled)"
   ]
  },
  {
   "cell_type": "markdown",
   "metadata": {},
   "source": [
    "# Build Model"
   ]
  },
  {
   "cell_type": "code",
   "execution_count": 22,
   "metadata": {},
   "outputs": [],
   "source": [
    "# Initialize model\n",
    "model = Sequential()"
   ]
  },
  {
   "cell_type": "code",
   "execution_count": 23,
   "metadata": {},
   "outputs": [
    {
     "name": "stdout",
     "output_type": "stream",
     "text": [
      "WARNING:tensorflow:From /anaconda3/lib/python3.7/site-packages/tensorflow/python/ops/init_ops.py:1251: calling VarianceScaling.__init__ (from tensorflow.python.ops.init_ops) with dtype is deprecated and will be removed in a future version.\n",
      "Instructions for updating:\n",
      "Call initializer instance with the dtype argument instead of passing it to the constructor\n"
     ]
    }
   ],
   "source": [
    "# Add layers\n",
    "model.add(LSTM(128, input_shape=(reshaped_X1_train_scaled.shape[1],1), return_sequences=True))\n",
    "model.add(Dropout(0.4))\n",
    "model.add(BatchNormalization())  # Normalize activation outputs\n",
    "\n",
    "model.add(LSTM(128, return_sequences=True))\n",
    "model.add(Dropout(0.4))\n",
    "model.add(BatchNormalization())\n",
    "\n",
    "model.add(LSTM(128))\n",
    "model.add(Dropout(0.4))\n",
    "model.add(BatchNormalization())\n",
    "\n",
    "model.add(Dense(32, activation='relu'))\n",
    "model.add(Dropout(0.4))\n",
    "\n",
    "model.add(Dense(2, activation='softmax'))"
   ]
  },
  {
   "cell_type": "code",
   "execution_count": 24,
   "metadata": {},
   "outputs": [],
   "source": [
    "# Compile model\n",
    "model.compile(optimizer=\"adam\", loss=\"sparse_categorical_crossentropy\", metrics=['accuracy'])"
   ]
  },
  {
   "cell_type": "markdown",
   "metadata": {},
   "source": [
    "## Train and predict on X1-Y1 data (recession 1 quarter out)"
   ]
  },
  {
   "cell_type": "code",
   "execution_count": 25,
   "metadata": {
    "scrolled": true
   },
   "outputs": [
    {
     "name": "stdout",
     "output_type": "stream",
     "text": [
      "Train on 108 samples, validate on 28 samples\n",
      "WARNING:tensorflow:From /anaconda3/lib/python3.7/site-packages/tensorflow/python/ops/math_grad.py:1250: add_dispatch_support.<locals>.wrapper (from tensorflow.python.ops.array_ops) is deprecated and will be removed in a future version.\n",
      "Instructions for updating:\n",
      "Use tf.where in 2.0, which has the same broadcast rule as np.where\n",
      "Epoch 1/100\n",
      "108/108 - 19s - loss: 1.2016 - acc: 0.5093 - val_loss: 0.6860 - val_acc: 0.6429\n",
      "Epoch 2/100\n",
      "108/108 - 2s - loss: 1.0185 - acc: 0.5093 - val_loss: 0.6783 - val_acc: 0.6429\n",
      "Epoch 3/100\n",
      "108/108 - 2s - loss: 0.5950 - acc: 0.6944 - val_loss: 0.6722 - val_acc: 0.6429\n",
      "Epoch 4/100\n",
      "108/108 - 2s - loss: 0.5807 - acc: 0.7407 - val_loss: 0.6706 - val_acc: 0.6429\n",
      "Epoch 5/100\n",
      "108/108 - 2s - loss: 0.5296 - acc: 0.7685 - val_loss: 0.6693 - val_acc: 0.6429\n",
      "Epoch 6/100\n",
      "108/108 - 2s - loss: 0.6572 - acc: 0.7593 - val_loss: 0.6673 - val_acc: 0.6429\n",
      "Epoch 7/100\n",
      "108/108 - 2s - loss: 0.4575 - acc: 0.8148 - val_loss: 0.6695 - val_acc: 0.6429\n",
      "Epoch 8/100\n",
      "108/108 - 2s - loss: 0.5285 - acc: 0.8056 - val_loss: 0.6764 - val_acc: 0.6429\n",
      "Epoch 9/100\n",
      "108/108 - 2s - loss: 0.3439 - acc: 0.8611 - val_loss: 0.6808 - val_acc: 0.6429\n",
      "Epoch 10/100\n",
      "108/108 - 1s - loss: 0.4909 - acc: 0.8148 - val_loss: 0.6851 - val_acc: 0.6429\n",
      "Epoch 11/100\n",
      "108/108 - 2s - loss: 0.3843 - acc: 0.8611 - val_loss: 0.6906 - val_acc: 0.6429\n",
      "Epoch 12/100\n",
      "108/108 - 2s - loss: 0.4043 - acc: 0.8704 - val_loss: 0.6966 - val_acc: 0.6429\n",
      "Epoch 13/100\n",
      "108/108 - 2s - loss: 0.4814 - acc: 0.8241 - val_loss: 0.7025 - val_acc: 0.6429\n",
      "Epoch 14/100\n",
      "108/108 - 2s - loss: 0.2941 - acc: 0.8981 - val_loss: 0.7129 - val_acc: 0.6429\n",
      "Epoch 15/100\n",
      "108/108 - 2s - loss: 0.3686 - acc: 0.8241 - val_loss: 0.7247 - val_acc: 0.6429\n",
      "Epoch 16/100\n",
      "108/108 - 2s - loss: 0.3926 - acc: 0.8426 - val_loss: 0.7388 - val_acc: 0.6429\n",
      "Epoch 17/100\n",
      "108/108 - 2s - loss: 0.3482 - acc: 0.8704 - val_loss: 0.7490 - val_acc: 0.6429\n",
      "Epoch 18/100\n",
      "108/108 - 2s - loss: 0.3997 - acc: 0.8333 - val_loss: 0.7654 - val_acc: 0.6429\n",
      "Epoch 19/100\n",
      "108/108 - 2s - loss: 0.4540 - acc: 0.8333 - val_loss: 0.7847 - val_acc: 0.6429\n",
      "Epoch 20/100\n",
      "108/108 - 2s - loss: 0.3535 - acc: 0.8426 - val_loss: 0.8030 - val_acc: 0.6429\n",
      "Epoch 21/100\n",
      "108/108 - 2s - loss: 0.3564 - acc: 0.8796 - val_loss: 0.8203 - val_acc: 0.6429\n",
      "Epoch 22/100\n",
      "108/108 - 2s - loss: 0.2529 - acc: 0.9259 - val_loss: 0.8410 - val_acc: 0.6429\n",
      "Epoch 23/100\n",
      "108/108 - 2s - loss: 0.3269 - acc: 0.8796 - val_loss: 0.8608 - val_acc: 0.6429\n",
      "Epoch 24/100\n",
      "108/108 - 2s - loss: 0.3649 - acc: 0.8796 - val_loss: 0.8844 - val_acc: 0.6429\n",
      "Epoch 25/100\n",
      "108/108 - 2s - loss: 0.3400 - acc: 0.8519 - val_loss: 0.9006 - val_acc: 0.6429\n",
      "Epoch 26/100\n",
      "108/108 - 2s - loss: 0.3498 - acc: 0.8611 - val_loss: 0.9215 - val_acc: 0.6429\n",
      "Epoch 27/100\n",
      "108/108 - 2s - loss: 0.2867 - acc: 0.8704 - val_loss: 0.9413 - val_acc: 0.6429\n",
      "Epoch 28/100\n",
      "108/108 - 2s - loss: 0.2804 - acc: 0.8889 - val_loss: 0.9674 - val_acc: 0.6429\n",
      "Epoch 29/100\n",
      "108/108 - 2s - loss: 0.3376 - acc: 0.8796 - val_loss: 0.9948 - val_acc: 0.6429\n",
      "Epoch 30/100\n",
      "108/108 - 2s - loss: 0.3383 - acc: 0.8426 - val_loss: 1.0106 - val_acc: 0.6429\n",
      "Epoch 31/100\n",
      "108/108 - 2s - loss: 0.3643 - acc: 0.8426 - val_loss: 1.0301 - val_acc: 0.6429\n",
      "Epoch 32/100\n",
      "108/108 - 2s - loss: 0.2444 - acc: 0.8981 - val_loss: 1.0413 - val_acc: 0.6429\n",
      "Epoch 33/100\n",
      "108/108 - 2s - loss: 0.1866 - acc: 0.9167 - val_loss: 1.0628 - val_acc: 0.6429\n",
      "Epoch 34/100\n",
      "108/108 - 2s - loss: 0.2780 - acc: 0.8796 - val_loss: 1.0720 - val_acc: 0.6429\n",
      "Epoch 35/100\n",
      "108/108 - 2s - loss: 0.2866 - acc: 0.8704 - val_loss: 1.0851 - val_acc: 0.6429\n",
      "Epoch 36/100\n",
      "108/108 - 2s - loss: 0.2945 - acc: 0.8796 - val_loss: 1.1027 - val_acc: 0.6429\n",
      "Epoch 37/100\n",
      "108/108 - 2s - loss: 0.2444 - acc: 0.8981 - val_loss: 1.1204 - val_acc: 0.6429\n",
      "Epoch 38/100\n",
      "108/108 - 2s - loss: 0.2348 - acc: 0.9352 - val_loss: 1.1442 - val_acc: 0.6429\n",
      "Epoch 39/100\n",
      "108/108 - 2s - loss: 0.2478 - acc: 0.8889 - val_loss: 1.1598 - val_acc: 0.6429\n",
      "Epoch 40/100\n",
      "108/108 - 2s - loss: 0.2733 - acc: 0.8981 - val_loss: 1.1797 - val_acc: 0.6429\n",
      "Epoch 41/100\n",
      "108/108 - 2s - loss: 0.3103 - acc: 0.8611 - val_loss: 1.1890 - val_acc: 0.6429\n",
      "Epoch 42/100\n",
      "108/108 - 2s - loss: 0.2989 - acc: 0.8981 - val_loss: 1.1952 - val_acc: 0.6429\n",
      "Epoch 43/100\n",
      "108/108 - 2s - loss: 0.2734 - acc: 0.9352 - val_loss: 1.2039 - val_acc: 0.6429\n",
      "Epoch 44/100\n",
      "108/108 - 2s - loss: 0.1950 - acc: 0.9444 - val_loss: 1.1588 - val_acc: 0.6429\n",
      "Epoch 45/100\n",
      "108/108 - 1s - loss: 0.2966 - acc: 0.8519 - val_loss: 1.0893 - val_acc: 0.6429\n",
      "Epoch 46/100\n",
      "108/108 - 1s - loss: 0.2590 - acc: 0.8611 - val_loss: 1.0720 - val_acc: 0.6429\n",
      "Epoch 47/100\n",
      "108/108 - 1s - loss: 0.2135 - acc: 0.9259 - val_loss: 1.0895 - val_acc: 0.6429\n",
      "Epoch 48/100\n",
      "108/108 - 1s - loss: 0.2534 - acc: 0.8889 - val_loss: 1.1114 - val_acc: 0.6429\n",
      "Epoch 49/100\n",
      "108/108 - 1s - loss: 0.2302 - acc: 0.9259 - val_loss: 1.1452 - val_acc: 0.6429\n",
      "Epoch 50/100\n",
      "108/108 - 1s - loss: 0.2105 - acc: 0.9167 - val_loss: 1.2042 - val_acc: 0.6429\n",
      "Epoch 51/100\n",
      "108/108 - 1s - loss: 0.2083 - acc: 0.9074 - val_loss: 1.2605 - val_acc: 0.6429\n",
      "Epoch 52/100\n",
      "108/108 - 1s - loss: 0.2265 - acc: 0.8981 - val_loss: 1.3229 - val_acc: 0.6429\n",
      "Epoch 53/100\n",
      "108/108 - 2s - loss: 0.2896 - acc: 0.9074 - val_loss: 1.3917 - val_acc: 0.6429\n",
      "Epoch 54/100\n",
      "108/108 - 1s - loss: 0.2126 - acc: 0.9352 - val_loss: 1.5050 - val_acc: 0.6429\n",
      "Epoch 55/100\n",
      "108/108 - 2s - loss: 0.2739 - acc: 0.9074 - val_loss: 1.5610 - val_acc: 0.6429\n",
      "Epoch 56/100\n",
      "108/108 - 2s - loss: 0.2522 - acc: 0.9074 - val_loss: 1.6055 - val_acc: 0.6429\n",
      "Epoch 57/100\n",
      "108/108 - 2s - loss: 0.2565 - acc: 0.9352 - val_loss: 1.6202 - val_acc: 0.6429\n",
      "Epoch 58/100\n",
      "108/108 - 2s - loss: 0.2053 - acc: 0.9259 - val_loss: 1.5993 - val_acc: 0.6429\n",
      "Epoch 59/100\n",
      "108/108 - 2s - loss: 0.1979 - acc: 0.9444 - val_loss: 1.5775 - val_acc: 0.6429\n",
      "Epoch 60/100\n",
      "108/108 - 2s - loss: 0.2521 - acc: 0.9074 - val_loss: 1.5770 - val_acc: 0.6429\n",
      "Epoch 61/100\n",
      "108/108 - 1s - loss: 0.2003 - acc: 0.9167 - val_loss: 1.5748 - val_acc: 0.6429\n",
      "Epoch 62/100\n",
      "108/108 - 1s - loss: 0.2142 - acc: 0.8981 - val_loss: 1.6054 - val_acc: 0.6429\n",
      "Epoch 63/100\n",
      "108/108 - 1s - loss: 0.2278 - acc: 0.9167 - val_loss: 1.6296 - val_acc: 0.6429\n",
      "Epoch 64/100\n",
      "108/108 - 2s - loss: 0.1710 - acc: 0.9259 - val_loss: 1.6715 - val_acc: 0.6429\n",
      "Epoch 65/100\n",
      "108/108 - 1s - loss: 0.1657 - acc: 0.9167 - val_loss: 1.6793 - val_acc: 0.6429\n",
      "Epoch 66/100\n",
      "108/108 - 2s - loss: 0.1644 - acc: 0.9167 - val_loss: 1.7044 - val_acc: 0.6429\n",
      "Epoch 67/100\n",
      "108/108 - 2s - loss: 0.2309 - acc: 0.9167 - val_loss: 1.7492 - val_acc: 0.6429\n",
      "Epoch 68/100\n",
      "108/108 - 2s - loss: 0.1633 - acc: 0.9259 - val_loss: 1.7753 - val_acc: 0.6429\n",
      "Epoch 69/100\n",
      "108/108 - 2s - loss: 0.1535 - acc: 0.9167 - val_loss: 1.7668 - val_acc: 0.6429\n",
      "Epoch 70/100\n",
      "108/108 - 2s - loss: 0.2588 - acc: 0.9074 - val_loss: 1.7936 - val_acc: 0.6429\n",
      "Epoch 71/100\n",
      "108/108 - 2s - loss: 0.1980 - acc: 0.9167 - val_loss: 1.7660 - val_acc: 0.6429\n",
      "Epoch 72/100\n",
      "108/108 - 2s - loss: 0.1879 - acc: 0.9259 - val_loss: 1.7277 - val_acc: 0.6429\n",
      "Epoch 73/100\n",
      "108/108 - 1s - loss: 0.2522 - acc: 0.8889 - val_loss: 1.7339 - val_acc: 0.6429\n",
      "Epoch 74/100\n",
      "108/108 - 2s - loss: 0.2095 - acc: 0.9352 - val_loss: 1.8276 - val_acc: 0.6429\n",
      "Epoch 75/100\n",
      "108/108 - 2s - loss: 0.1875 - acc: 0.9352 - val_loss: 1.8948 - val_acc: 0.6429\n",
      "Epoch 76/100\n",
      "108/108 - 2s - loss: 0.1472 - acc: 0.9259 - val_loss: 1.9258 - val_acc: 0.6429\n",
      "Epoch 77/100\n",
      "108/108 - 2s - loss: 0.2780 - acc: 0.8704 - val_loss: 1.9000 - val_acc: 0.6429\n",
      "Epoch 78/100\n",
      "108/108 - 2s - loss: 0.1721 - acc: 0.9352 - val_loss: 1.8590 - val_acc: 0.6429\n",
      "Epoch 79/100\n",
      "108/108 - 2s - loss: 0.1503 - acc: 0.9352 - val_loss: 1.8186 - val_acc: 0.6429\n",
      "Epoch 80/100\n",
      "108/108 - 2s - loss: 0.1492 - acc: 0.9352 - val_loss: 1.7665 - val_acc: 0.6429\n",
      "Epoch 81/100\n",
      "108/108 - 2s - loss: 0.1805 - acc: 0.9167 - val_loss: 1.8162 - val_acc: 0.6429\n",
      "Epoch 82/100\n",
      "108/108 - 2s - loss: 0.1745 - acc: 0.9259 - val_loss: 1.8555 - val_acc: 0.6429\n",
      "Epoch 83/100\n",
      "108/108 - 3s - loss: 0.2340 - acc: 0.9259 - val_loss: 1.8514 - val_acc: 0.6786\n",
      "Epoch 84/100\n",
      "108/108 - 2s - loss: 0.1715 - acc: 0.9444 - val_loss: 1.8980 - val_acc: 0.6429\n",
      "Epoch 85/100\n",
      "108/108 - 2s - loss: 0.1768 - acc: 0.8981 - val_loss: 1.9653 - val_acc: 0.6429\n",
      "Epoch 86/100\n"
     ]
    },
    {
     "name": "stdout",
     "output_type": "stream",
     "text": [
      "108/108 - 2s - loss: 0.1928 - acc: 0.9259 - val_loss: 1.9647 - val_acc: 0.6429\n",
      "Epoch 87/100\n",
      "108/108 - 2s - loss: 0.1348 - acc: 0.9444 - val_loss: 1.9396 - val_acc: 0.6429\n",
      "Epoch 88/100\n",
      "108/108 - 2s - loss: 0.1894 - acc: 0.9167 - val_loss: 1.9081 - val_acc: 0.6429\n",
      "Epoch 89/100\n",
      "108/108 - 2s - loss: 0.1622 - acc: 0.9352 - val_loss: 1.8279 - val_acc: 0.6429\n",
      "Epoch 90/100\n",
      "108/108 - 2s - loss: 0.1454 - acc: 0.9444 - val_loss: 1.6671 - val_acc: 0.6429\n",
      "Epoch 91/100\n",
      "108/108 - 2s - loss: 0.1595 - acc: 0.9352 - val_loss: 1.5894 - val_acc: 0.6429\n",
      "Epoch 92/100\n",
      "108/108 - 2s - loss: 0.2095 - acc: 0.9074 - val_loss: 1.6930 - val_acc: 0.6429\n",
      "Epoch 93/100\n",
      "108/108 - 2s - loss: 0.2240 - acc: 0.9074 - val_loss: 1.7732 - val_acc: 0.6786\n",
      "Epoch 94/100\n",
      "108/108 - 2s - loss: 0.1821 - acc: 0.9352 - val_loss: 1.9055 - val_acc: 0.6786\n",
      "Epoch 95/100\n",
      "108/108 - 2s - loss: 0.1595 - acc: 0.9167 - val_loss: 2.0367 - val_acc: 0.6429\n",
      "Epoch 96/100\n",
      "108/108 - 2s - loss: 0.1617 - acc: 0.9259 - val_loss: 2.1202 - val_acc: 0.6786\n",
      "Epoch 97/100\n",
      "108/108 - 2s - loss: 0.1393 - acc: 0.9630 - val_loss: 2.1377 - val_acc: 0.6786\n",
      "Epoch 98/100\n",
      "108/108 - 2s - loss: 0.1962 - acc: 0.9167 - val_loss: 2.0685 - val_acc: 0.6786\n",
      "Epoch 99/100\n",
      "108/108 - 2s - loss: 0.1861 - acc: 0.9259 - val_loss: 1.9579 - val_acc: 0.6786\n",
      "Epoch 100/100\n",
      "108/108 - 2s - loss: 0.1939 - acc: 0.9259 - val_loss: 1.7211 - val_acc: 0.6786\n"
     ]
    },
    {
     "data": {
      "text/plain": [
       "<tensorflow.python.keras.callbacks.History at 0x1a439deba8>"
      ]
     },
     "execution_count": 25,
     "metadata": {},
     "output_type": "execute_result"
    }
   ],
   "source": [
    "# Fit the model to the training data\n",
    "model.fit(reshaped_X1_train_scaled, y1_train, validation_split=0.2, epochs=100, shuffle=True, verbose=2)"
   ]
  },
  {
   "cell_type": "code",
   "execution_count": null,
   "metadata": {
    "scrolled": true
   },
   "outputs": [],
   "source": [
    "# Evaluate model using test data\n",
    "model_loss1, model_accuracy1 = model.evaluate(reshaped_X1_test_scaled, y1_test, verbose=2)"
   ]
  },
  {
   "cell_type": "code",
   "execution_count": null,
   "metadata": {},
   "outputs": [],
   "source": [
    "# Make predictions using test data\n",
    "predictions1_prob = model.predict_proba(reshaped_X1_test_scaled)\n",
    "predictions1_class = model.predict_classes(reshaped_X1_test_scaled)"
   ]
  },
  {
   "cell_type": "code",
   "execution_count": null,
   "metadata": {},
   "outputs": [],
   "source": [
    "# Compare results\n",
    "one_qtr_out = pd.DataFrame({\"Predicted Probability of No Recession\":predictions1_prob[:,0], \"Predicted Probability of a Recession\":predictions1_prob[:,1], \"Actual\":y1_test})\n",
    "one_qtr_out.head()"
   ]
  },
  {
   "cell_type": "markdown",
   "metadata": {},
   "source": [
    "#### Confusion Matrix on X1-Y1 data (recession 1 quarter out)"
   ]
  },
  {
   "cell_type": "code",
   "execution_count": null,
   "metadata": {},
   "outputs": [],
   "source": [
    "# Create confusion matrix on X1 model\n",
    "con_mat = confusion_matrix(y1_test, predictions1_class)\n",
    "print(con_mat)"
   ]
  },
  {
   "cell_type": "code",
   "execution_count": null,
   "metadata": {},
   "outputs": [],
   "source": [
    "# Score model\n",
    "print(classification_report(y1_test, predictions1_class))"
   ]
  },
  {
   "cell_type": "code",
   "execution_count": null,
   "metadata": {},
   "outputs": [],
   "source": [
    "# Save model\n",
    "name1 = f\"shuffled-1q-out-{dt.datetime.now()}\"\n",
    "model.save(f\"models/{name1}.h5\")"
   ]
  },
  {
   "cell_type": "markdown",
   "metadata": {},
   "source": [
    "### Predict on 2019"
   ]
  },
  {
   "cell_type": "code",
   "execution_count": null,
   "metadata": {},
   "outputs": [],
   "source": [
    "# Scale 2019 data \n",
    "scaled_X1_2019 = X1_scaler.transform(df_2019)\n",
    "\n",
    "# Reshape 2019 data\n",
    "reshaped_X1_2019 = reshape_data(scaled_X1_2019)\n",
    "\n",
    "# Predict on 2019\n",
    "pred_X1_2019 = model.predict_proba(reshaped_X1_2019)\n",
    "print(f\"2019Q1 No Recession Probability: {pred_X1_2019[0][0]*100}\")\n",
    "print(f\"2019Q1 Recession Probability: {pred_X1_2019[0][1]*100}\")\n",
    "print(f\"2019Q2 No Recession Probability: {pred_X1_2019[1][0]*100}\")\n",
    "print(f\"2019Q2 Recession Probability: {pred_X1_2019[1][1]*100}\")"
   ]
  },
  {
   "cell_type": "markdown",
   "metadata": {},
   "source": [
    "#### Predict on full X1"
   ]
  },
  {
   "cell_type": "code",
   "execution_count": null,
   "metadata": {},
   "outputs": [],
   "source": [
    "pred_X1_full = model.predict_classes(reshaped_X1_full)\n",
    "\n",
    "# Preview results\n",
    "X1_full_results = pd.DataFrame({\"Predicted\":pred_X1_full, \"Actual\":y1})\n",
    "# X1_full_results.loc[X1_full_results[\"Actual\"]==1]\n",
    "\n",
    "# Export results for graphing\n",
    "X1_full_results.to_csv(f\"resources/predictions/X1_S_VS20_{dt.datetime.now()}.csv\")"
   ]
  },
  {
   "cell_type": "markdown",
   "metadata": {},
   "source": [
    "### Train and predict on X2-Y2 data (recession 2 quarters out)"
   ]
  },
  {
   "cell_type": "code",
   "execution_count": null,
   "metadata": {},
   "outputs": [],
   "source": [
    "# Fit the model to the training data\n",
    "model.fit(reshaped_X2_train_scaled, y2_train, validation_split=0.2, epochs=100, shuffle=True, verbose=2)"
   ]
  },
  {
   "cell_type": "code",
   "execution_count": null,
   "metadata": {},
   "outputs": [],
   "source": [
    "# Evaluate model using test data\n",
    "model_loss2, model_accuracy2 = model.evaluate(reshaped_X2_test_scaled, y2_test, verbose=2)"
   ]
  },
  {
   "cell_type": "code",
   "execution_count": null,
   "metadata": {},
   "outputs": [],
   "source": [
    "# Make predictions using test data\n",
    "predictions2_prob = model.predict_proba(reshaped_X2_test_scaled)\n",
    "predictions2_class = model.predict_classes(reshaped_X2_test_scaled)"
   ]
  },
  {
   "cell_type": "code",
   "execution_count": null,
   "metadata": {},
   "outputs": [],
   "source": [
    "# Compare results\n",
    "two_qtrs_out = pd.DataFrame({\"Predicted Probability of No Recession\":predictions2_prob[:,0], \"Predicted Probability of a Recession\":predictions2_prob[:,1], \"Actual\":y2_test})\n",
    "two_qtrs_out.head()"
   ]
  },
  {
   "cell_type": "markdown",
   "metadata": {},
   "source": [
    "#### Confusion Matrix on X2-Y2 data (recession 2 quarters out)"
   ]
  },
  {
   "cell_type": "code",
   "execution_count": null,
   "metadata": {},
   "outputs": [],
   "source": [
    "# Create confusion matrix on X2 model\n",
    "con_mat = confusion_matrix(y2_test, predictions2_class)\n",
    "print(con_mat)"
   ]
  },
  {
   "cell_type": "code",
   "execution_count": null,
   "metadata": {},
   "outputs": [],
   "source": [
    "# Score model\n",
    "print(classification_report(y2_test, predictions2_class))"
   ]
  },
  {
   "cell_type": "code",
   "execution_count": null,
   "metadata": {},
   "outputs": [],
   "source": [
    "# Save model\n",
    "name2 = f\"shuffled-2q-out-{dt.datetime.now()}\"\n",
    "model.save(f\"models/{name2}.h5\")"
   ]
  },
  {
   "cell_type": "markdown",
   "metadata": {},
   "source": [
    "### Predict on 2019"
   ]
  },
  {
   "cell_type": "code",
   "execution_count": null,
   "metadata": {},
   "outputs": [],
   "source": [
    "# Scale 2019 data \n",
    "scaled_X2_2019 = X2_scaler.transform(df_2019)\n",
    "\n",
    "# Reshape 2019 data\n",
    "reshaped_X2_2019 = reshape_data(scaled_X2_2019)\n",
    "\n",
    "# Predict on 2019\n",
    "pred_X2_2019 = model.predict_proba(reshaped_X2_2019)\n",
    "print(f\"2019Q1 No Recession Probability: {pred_X2_2019[0][0]*100}\")\n",
    "print(f\"2019Q1 Recession Probability: {pred_X2_2019[0][1]*100}\")\n",
    "print(f\"2019Q2 No Recession Probability: {pred_X2_2019[1][0]*100}\")\n",
    "print(f\"2019Q2 Recession Probability: {pred_X2_2019[1][1]*100}\")"
   ]
  },
  {
   "cell_type": "markdown",
   "metadata": {},
   "source": [
    "#### Predict on full X2"
   ]
  },
  {
   "cell_type": "code",
   "execution_count": null,
   "metadata": {},
   "outputs": [],
   "source": [
    "pred_X2_full = model.predict_classes(reshaped_X2_full)\n",
    "X2_full_results = pd.DataFrame({\"Predicted\":pred_X2_full, \"Actual\":y2})\n",
    "X2_full_results.to_csv(f\"resources/predictions/X2_S_VS20_{dt.datetime.now()}.csv\")\n",
    "# X2_full_results.loc[X2_full_results[\"Actual\"]==1]"
   ]
  },
  {
   "cell_type": "markdown",
   "metadata": {},
   "source": [
    "### Train and predict on X3-Y3 data (recession 4 quarters out)"
   ]
  },
  {
   "cell_type": "code",
   "execution_count": null,
   "metadata": {},
   "outputs": [],
   "source": [
    "# Fit the model to the training data\n",
    "model.fit(reshaped_X3_train_scaled, y3_train, validation_split=0.2, epochs=100, shuffle=True, verbose=2)"
   ]
  },
  {
   "cell_type": "code",
   "execution_count": null,
   "metadata": {},
   "outputs": [],
   "source": [
    "# Validate model using test data\n",
    "model_loss3, model_accuracy3 = model.evaluate(reshaped_X3_test_scaled, y3_test, verbose=2)"
   ]
  },
  {
   "cell_type": "code",
   "execution_count": null,
   "metadata": {},
   "outputs": [],
   "source": [
    "# Make predictions using test data\n",
    "predictions3_prob = model.predict_proba(reshaped_X3_test_scaled)\n",
    "predictions3_class = model.predict_classes(reshaped_X3_test_scaled)"
   ]
  },
  {
   "cell_type": "code",
   "execution_count": null,
   "metadata": {},
   "outputs": [],
   "source": [
    "# Compare results\n",
    "four_qtrs_out = pd.DataFrame({\"Predicted Probability of No Recession\":predictions3_prob[:,0], \"Predicted Probability of a Recession\":predictions3_prob[:,1], \"Actual\":y3_test})\n",
    "four_qtrs_out.head()"
   ]
  },
  {
   "cell_type": "markdown",
   "metadata": {},
   "source": [
    "#### Confusion Matrix on X3-Y3 data (recession 4 quarters out)"
   ]
  },
  {
   "cell_type": "code",
   "execution_count": null,
   "metadata": {},
   "outputs": [],
   "source": [
    "# Create confusion matrix on X3 model\n",
    "con_mat = confusion_matrix(y3_test, predictions3_class)\n",
    "print(con_mat)"
   ]
  },
  {
   "cell_type": "code",
   "execution_count": null,
   "metadata": {},
   "outputs": [],
   "source": [
    "# Score model\n",
    "print(classification_report(y3_test, predictions3_class))"
   ]
  },
  {
   "cell_type": "code",
   "execution_count": null,
   "metadata": {},
   "outputs": [],
   "source": [
    "# Save model\n",
    "name3 = f\"shuffled-4q-out-{dt.datetime.now()}\"\n",
    "model.save(f\"models/{name3}.h5\")"
   ]
  },
  {
   "cell_type": "markdown",
   "metadata": {},
   "source": [
    "### Predict on 2019"
   ]
  },
  {
   "cell_type": "code",
   "execution_count": null,
   "metadata": {},
   "outputs": [],
   "source": [
    "# Scale 2019 data \n",
    "scaled_X3_2019 = X3_scaler.transform(df_2019)\n",
    "\n",
    "# Reshape 2019 data\n",
    "reshaped_X3_2019 = reshape_data(scaled_X3_2019)\n",
    "\n",
    "# Predict on 2019\n",
    "pred_X3_2019 = model.predict_proba(reshaped_X3_2019)\n",
    "print(f\"2019Q1 No Recession Probability: {pred_X3_2019[0][0]*100}\")\n",
    "print(f\"2019Q1 Recession Probability: {pred_X3_2019[0][1]*100}\")\n",
    "print(f\"2019Q2 No Recession Probability: {pred_X3_2019[1][0]*100}\")\n",
    "print(f\"2019Q2 Recession Probability: {pred_X3_2019[1][1]*100}\")"
   ]
  },
  {
   "cell_type": "markdown",
   "metadata": {},
   "source": [
    "#### Predict on full X3"
   ]
  },
  {
   "cell_type": "code",
   "execution_count": null,
   "metadata": {},
   "outputs": [],
   "source": [
    "pred_X3_full = model.predict_classes(reshaped_X3_full)\n",
    "\n",
    "# Preview results\n",
    "X3_full_results = pd.DataFrame({\"Predicted\":pred_X3_full, \"Actual\":y3})\n",
    "# X3_full_results.loc[X3_full_results[\"Actual\"]==1]\n",
    "\n",
    "# Export results for graphing\n",
    "X3_full_results.to_csv(f\"resources/predictions/X3_S_VS20_{dt.datetime.now()}.csv\")"
   ]
  },
  {
   "cell_type": "code",
   "execution_count": null,
   "metadata": {},
   "outputs": [],
   "source": []
  }
 ],
 "metadata": {
  "kernelspec": {
   "display_name": "Python 3",
   "language": "python",
   "name": "python3"
  },
  "language_info": {
   "codemirror_mode": {
    "name": "ipython",
    "version": 3
   },
   "file_extension": ".py",
   "mimetype": "text/x-python",
   "name": "python",
   "nbconvert_exporter": "python",
   "pygments_lexer": "ipython3",
   "version": "3.7.3"
  }
 },
 "nbformat": 4,
 "nbformat_minor": 2
}
