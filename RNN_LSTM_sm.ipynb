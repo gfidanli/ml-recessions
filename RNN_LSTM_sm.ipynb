{
 "cells": [
  {
   "cell_type": "markdown",
   "metadata": {},
   "source": [
    "### Import dependencies"
   ]
  },
  {
   "cell_type": "code",
   "execution_count": 1,
   "metadata": {},
   "outputs": [],
   "source": [
    "import pandas as pd\n",
    "import numpy as np\n",
    "from tensorflow.keras.models import Sequential\n",
    "from tensorflow.keras.layers import Dense, Dropout, LSTM, BatchNormalization\n",
    "from tensorflow.keras.callbacks import ModelCheckpoint\n",
    "from sklearn.model_selection import train_test_split\n",
    "from sklearn.preprocessing import StandardScaler"
   ]
  },
  {
   "cell_type": "markdown",
   "metadata": {},
   "source": [
    "### Merge datasets"
   ]
  },
  {
   "cell_type": "code",
   "execution_count": 2,
   "metadata": {},
   "outputs": [],
   "source": [
    "# Read in data\n",
    "df = pd.read_csv(\"resources/all.csv\")"
   ]
  },
  {
   "cell_type": "code",
   "execution_count": 3,
   "metadata": {},
   "outputs": [],
   "source": [
    "# Sort data frame by quarter\n",
    "df = df.sort_values(by=['quarter'])"
   ]
  },
  {
   "cell_type": "code",
   "execution_count": 4,
   "metadata": {},
   "outputs": [],
   "source": [
    "# Set index to quarter\n",
    "df = df.set_index('quarter')"
   ]
  },
  {
   "cell_type": "code",
   "execution_count": 5,
   "metadata": {
    "scrolled": false
   },
   "outputs": [
    {
     "data": {
      "text/plain": [
       "(171, 10)"
      ]
     },
     "execution_count": 5,
     "metadata": {},
     "output_type": "execute_result"
    }
   ],
   "source": [
    "# Rename target column\n",
    "df = df.rename(columns={'target':'recession_actual'})\n",
    "df.shape"
   ]
  },
  {
   "cell_type": "markdown",
   "metadata": {},
   "source": [
    "### Shift data with sliding window technique"
   ]
  },
  {
   "cell_type": "code",
   "execution_count": 6,
   "metadata": {},
   "outputs": [],
   "source": [
    "df['recession_1q_out'] = df['recession_actual'].shift(-1)\n",
    "df['recession_2q_out'] = df['recession_actual'].shift(-2)\n",
    "df['recession_4q_out'] = df['recession_actual'].shift(-4)"
   ]
  },
  {
   "cell_type": "code",
   "execution_count": 7,
   "metadata": {},
   "outputs": [],
   "source": [
    "# Create three datasets -- 1 for each model (recession 1Qtr out, 2Qtrs out, 4Qtrs out)\n",
    "df_q1 = df.drop(columns=['recession_2q_out','recession_4q_out','recession_actual'])\n",
    "df_q2 = df.drop(columns=['recession_4q_out','recession_1q_out','recession_actual'])\n",
    "df_q4 = df.drop(columns=['recession_1q_out','recession_2q_out','recession_actual'])"
   ]
  },
  {
   "cell_type": "code",
   "execution_count": 8,
   "metadata": {},
   "outputs": [],
   "source": [
    "# Delete missing values\n",
    "df_q1 = df_q1.dropna()\n",
    "df_q2 = df_q2.dropna()\n",
    "df_q4 = df_q4.dropna()"
   ]
  },
  {
   "cell_type": "code",
   "execution_count": 10,
   "metadata": {},
   "outputs": [],
   "source": [
    "# Define y variables\n",
    "y1 = df_q1['recession_1q_out']\n",
    "y2 = df_q2['recession_2q_out']\n",
    "y3 = df_q4['recession_4q_out']"
   ]
  },
  {
   "cell_type": "code",
   "execution_count": 11,
   "metadata": {},
   "outputs": [],
   "source": [
    "# Drop target\n",
    "df_q1 = df_q1.drop(columns=['recession_1q_out'])\n",
    "df_q2 = df_q2.drop(columns=['recession_2q_out'])\n",
    "df_q4 = df_q4.drop(columns=['recession_4q_out'])"
   ]
  },
  {
   "cell_type": "code",
   "execution_count": 12,
   "metadata": {},
   "outputs": [],
   "source": [
    "# Define X\n",
    "X_q1 = df_q1\n",
    "X_q2 = df_q2\n",
    "X_q4 = df_q4"
   ]
  },
  {
   "cell_type": "markdown",
   "metadata": {},
   "source": [
    "### Split and scale data"
   ]
  },
  {
   "cell_type": "code",
   "execution_count": 13,
   "metadata": {},
   "outputs": [],
   "source": [
    "# Split data into training and testing\n",
    "X1_train, X1_test, y1_train, y1_test=train_test_split(X_q1, y1, train_size=0.8, random_state=42, stratify=y1)\n",
    "X2_train, X2_test, y2_train, y2_test=train_test_split(X_q2, y2, train_size=0.8, random_state=42, stratify=y2)\n",
    "X3_train, X3_test, y3_train, y3_test=train_test_split(X_q4, y3, train_size=0.8, random_state=42, stratify=y3)"
   ]
  },
  {
   "cell_type": "code",
   "execution_count": 14,
   "metadata": {
    "scrolled": true
   },
   "outputs": [],
   "source": [
    "# Create scaler object\n",
    "X1_scaler = StandardScaler().fit(X1_train)\n",
    "X2_scaler = StandardScaler().fit(X2_train)\n",
    "X3_scaler = StandardScaler().fit(X3_train)"
   ]
  },
  {
   "cell_type": "code",
   "execution_count": 15,
   "metadata": {},
   "outputs": [],
   "source": [
    "# Scale training data\n",
    "X1_train_scaled = X1_scaler.transform(X1_train)\n",
    "X2_train_scaled = X2_scaler.transform(X2_train)\n",
    "X3_train_scaled = X3_scaler.transform(X3_train)\n",
    "\n",
    "# Scale testing data\n",
    "X1_test_scaled = X1_scaler.transform(X1_test)\n",
    "X2_test_scaled = X2_scaler.transform(X2_test)\n",
    "X3_test_scaled = X3_scaler.transform(X3_test)"
   ]
  },
  {
   "cell_type": "markdown",
   "metadata": {},
   "source": [
    "### Reshape data to fit LSTM format"
   ]
  },
  {
   "cell_type": "code",
   "execution_count": 16,
   "metadata": {},
   "outputs": [],
   "source": [
    "# Method to reshape data\n",
    "def reshape_data(obj):\n",
    "    reshaped_obj = np.reshape(obj, (obj.shape[0], obj.shape[1], 1))\n",
    "    return reshaped_obj"
   ]
  },
  {
   "cell_type": "code",
   "execution_count": 17,
   "metadata": {},
   "outputs": [],
   "source": [
    "# Reshape training data\n",
    "reshaped_X1_train_scaled = reshape_data(X1_train_scaled)\n",
    "reshaped_X2_train_scaled = reshape_data(X2_train_scaled)\n",
    "reshaped_X3_train_scaled = reshape_data(X3_train_scaled)"
   ]
  },
  {
   "cell_type": "code",
   "execution_count": 18,
   "metadata": {},
   "outputs": [],
   "source": [
    "# Reshape testing data\n",
    "reshaped_X1_test_scaled = reshape_data(X1_test_scaled)\n",
    "reshaped_X2_test_scaled = reshape_data(X2_test_scaled)\n",
    "reshaped_X3_test_scaled = reshape_data(X3_test_scaled)"
   ]
  },
  {
   "cell_type": "markdown",
   "metadata": {},
   "source": [
    "## Build Model"
   ]
  },
  {
   "cell_type": "code",
   "execution_count": 19,
   "metadata": {},
   "outputs": [],
   "source": [
    "# Initialize model\n",
    "model = Sequential()"
   ]
  },
  {
   "cell_type": "code",
   "execution_count": 20,
   "metadata": {},
   "outputs": [
    {
     "name": "stdout",
     "output_type": "stream",
     "text": [
      "WARNING:tensorflow:From /anaconda3/lib/python3.7/site-packages/tensorflow/python/ops/init_ops.py:1251: calling VarianceScaling.__init__ (from tensorflow.python.ops.init_ops) with dtype is deprecated and will be removed in a future version.\n",
      "Instructions for updating:\n",
      "Call initializer instance with the dtype argument instead of passing it to the constructor\n"
     ]
    }
   ],
   "source": [
    "# Add layers\n",
    "model.add(LSTM(128, input_shape=(reshaped_X1_train_scaled.shape[1],1), return_sequences=True, recurrent_dropout=0.1))\n",
    "model.add(Dropout(0.4))\n",
    "model.add(BatchNormalization())  # Normalize activation outputs\n",
    "\n",
    "model.add(LSTM(128, return_sequences=True, recurrent_dropout=0.1))\n",
    "model.add(Dropout(0.4))\n",
    "model.add(BatchNormalization())\n",
    "\n",
    "model.add(LSTM(128))\n",
    "model.add(Dropout(0.4))\n",
    "model.add(BatchNormalization())\n",
    "\n",
    "model.add(Dense(32, activation='relu'))\n",
    "model.add(Dropout(0.4))\n",
    "\n",
    "model.add(Dense(2, activation='softmax'))"
   ]
  },
  {
   "cell_type": "code",
   "execution_count": 21,
   "metadata": {},
   "outputs": [],
   "source": [
    "# Compile model\n",
    "model.compile(optimizer=\"adam\", loss=\"sparse_categorical_crossentropy\", metrics=['accuracy'])"
   ]
  },
  {
   "cell_type": "markdown",
   "metadata": {},
   "source": [
    "**Train and predict on X1-Y1 data (recession 1 quarter out)**"
   ]
  },
  {
   "cell_type": "code",
   "execution_count": 22,
   "metadata": {},
   "outputs": [
    {
     "name": "stdout",
     "output_type": "stream",
     "text": [
      "WARNING:tensorflow:From /anaconda3/lib/python3.7/site-packages/tensorflow/python/ops/math_grad.py:1250: add_dispatch_support.<locals>.wrapper (from tensorflow.python.ops.array_ops) is deprecated and will be removed in a future version.\n",
      "Instructions for updating:\n",
      "Use tf.where in 2.0, which has the same broadcast rule as np.where\n",
      "Epoch 1/100\n",
      "136/136 - 9s - loss: 0.9697 - acc: 0.5074\n",
      "Epoch 2/100\n",
      "136/136 - 1s - loss: 0.7019 - acc: 0.5809\n",
      "Epoch 3/100\n",
      "136/136 - 1s - loss: 0.4255 - acc: 0.7794\n",
      "Epoch 4/100\n",
      "136/136 - 1s - loss: 0.5220 - acc: 0.7500\n",
      "Epoch 5/100\n",
      "136/136 - 1s - loss: 0.5222 - acc: 0.7868\n",
      "Epoch 6/100\n",
      "136/136 - 1s - loss: 0.4838 - acc: 0.8235\n",
      "Epoch 7/100\n",
      "136/136 - 1s - loss: 0.4483 - acc: 0.8235\n",
      "Epoch 8/100\n",
      "136/136 - 1s - loss: 0.4337 - acc: 0.8162\n",
      "Epoch 9/100\n",
      "136/136 - 1s - loss: 0.3927 - acc: 0.8456\n",
      "Epoch 10/100\n",
      "136/136 - 1s - loss: 0.4039 - acc: 0.8162\n",
      "Epoch 11/100\n",
      "136/136 - 1s - loss: 0.3026 - acc: 0.8162\n",
      "Epoch 12/100\n",
      "136/136 - 1s - loss: 0.3824 - acc: 0.8382\n",
      "Epoch 13/100\n",
      "136/136 - 1s - loss: 0.4277 - acc: 0.7868\n",
      "Epoch 14/100\n",
      "136/136 - 1s - loss: 0.4227 - acc: 0.8088\n",
      "Epoch 15/100\n",
      "136/136 - 1s - loss: 0.3977 - acc: 0.8309\n",
      "Epoch 16/100\n",
      "136/136 - 1s - loss: 0.4017 - acc: 0.7941\n",
      "Epoch 17/100\n",
      "136/136 - 1s - loss: 0.3899 - acc: 0.8529\n",
      "Epoch 18/100\n",
      "136/136 - 1s - loss: 0.3680 - acc: 0.8603\n",
      "Epoch 19/100\n",
      "136/136 - 1s - loss: 0.2824 - acc: 0.8750\n",
      "Epoch 20/100\n",
      "136/136 - 1s - loss: 0.4828 - acc: 0.8088\n",
      "Epoch 21/100\n",
      "136/136 - 1s - loss: 0.4019 - acc: 0.8603\n",
      "Epoch 22/100\n",
      "136/136 - 1s - loss: 0.4401 - acc: 0.8456\n",
      "Epoch 23/100\n",
      "136/136 - 1s - loss: 0.3213 - acc: 0.8309\n",
      "Epoch 24/100\n",
      "136/136 - 1s - loss: 0.3913 - acc: 0.8456\n",
      "Epoch 25/100\n",
      "136/136 - 1s - loss: 0.2951 - acc: 0.8603\n",
      "Epoch 26/100\n",
      "136/136 - 1s - loss: 0.3537 - acc: 0.8529\n",
      "Epoch 27/100\n",
      "136/136 - 1s - loss: 0.3038 - acc: 0.8676\n",
      "Epoch 28/100\n",
      "136/136 - 1s - loss: 0.3523 - acc: 0.8456\n",
      "Epoch 29/100\n",
      "136/136 - 1s - loss: 0.3325 - acc: 0.8603\n",
      "Epoch 30/100\n",
      "136/136 - 1s - loss: 0.3954 - acc: 0.8750\n",
      "Epoch 31/100\n",
      "136/136 - 1s - loss: 0.3223 - acc: 0.8529\n",
      "Epoch 32/100\n",
      "136/136 - 1s - loss: 0.3469 - acc: 0.8456\n",
      "Epoch 33/100\n",
      "136/136 - 1s - loss: 0.3158 - acc: 0.8603\n",
      "Epoch 34/100\n",
      "136/136 - 1s - loss: 0.3293 - acc: 0.8456\n",
      "Epoch 35/100\n",
      "136/136 - 1s - loss: 0.4002 - acc: 0.8309\n",
      "Epoch 36/100\n",
      "136/136 - 1s - loss: 0.2868 - acc: 0.8676\n",
      "Epoch 37/100\n",
      "136/136 - 1s - loss: 0.2729 - acc: 0.8529\n",
      "Epoch 38/100\n",
      "136/136 - 1s - loss: 0.3470 - acc: 0.8162\n",
      "Epoch 39/100\n",
      "136/136 - 1s - loss: 0.3582 - acc: 0.8162\n",
      "Epoch 40/100\n",
      "136/136 - 1s - loss: 0.2923 - acc: 0.8750\n",
      "Epoch 41/100\n",
      "136/136 - 1s - loss: 0.2763 - acc: 0.8897\n",
      "Epoch 42/100\n",
      "136/136 - 1s - loss: 0.3936 - acc: 0.8603\n",
      "Epoch 43/100\n",
      "136/136 - 1s - loss: 0.2627 - acc: 0.8676\n",
      "Epoch 44/100\n",
      "136/136 - 1s - loss: 0.3351 - acc: 0.8529\n",
      "Epoch 45/100\n",
      "136/136 - 1s - loss: 0.2990 - acc: 0.8529\n",
      "Epoch 46/100\n",
      "136/136 - 1s - loss: 0.3006 - acc: 0.8824\n",
      "Epoch 47/100\n",
      "136/136 - 1s - loss: 0.3375 - acc: 0.8456\n",
      "Epoch 48/100\n",
      "136/136 - 1s - loss: 0.2557 - acc: 0.8824\n",
      "Epoch 49/100\n",
      "136/136 - 1s - loss: 0.3079 - acc: 0.8676\n",
      "Epoch 50/100\n",
      "136/136 - 1s - loss: 0.3041 - acc: 0.8382\n",
      "Epoch 51/100\n",
      "136/136 - 1s - loss: 0.2334 - acc: 0.8897\n",
      "Epoch 52/100\n",
      "136/136 - 1s - loss: 0.3172 - acc: 0.8529\n",
      "Epoch 53/100\n",
      "136/136 - 1s - loss: 0.2328 - acc: 0.9044\n",
      "Epoch 54/100\n",
      "136/136 - 1s - loss: 0.3058 - acc: 0.8382\n",
      "Epoch 55/100\n",
      "136/136 - 1s - loss: 0.3065 - acc: 0.8750\n",
      "Epoch 56/100\n",
      "136/136 - 1s - loss: 0.2588 - acc: 0.8456\n",
      "Epoch 57/100\n",
      "136/136 - 1s - loss: 0.2812 - acc: 0.8750\n",
      "Epoch 58/100\n",
      "136/136 - 1s - loss: 0.3025 - acc: 0.8676\n",
      "Epoch 59/100\n",
      "136/136 - 1s - loss: 0.2404 - acc: 0.8529\n",
      "Epoch 60/100\n",
      "136/136 - 1s - loss: 0.2415 - acc: 0.8750\n",
      "Epoch 61/100\n",
      "136/136 - 1s - loss: 0.2789 - acc: 0.8529\n",
      "Epoch 62/100\n",
      "136/136 - 1s - loss: 0.2718 - acc: 0.8456\n",
      "Epoch 63/100\n",
      "136/136 - 1s - loss: 0.2543 - acc: 0.8676\n",
      "Epoch 64/100\n",
      "136/136 - 1s - loss: 0.2388 - acc: 0.8750\n",
      "Epoch 65/100\n",
      "136/136 - 1s - loss: 0.2686 - acc: 0.8750\n",
      "Epoch 66/100\n",
      "136/136 - 1s - loss: 0.3168 - acc: 0.8309\n",
      "Epoch 67/100\n",
      "136/136 - 1s - loss: 0.2455 - acc: 0.8824\n",
      "Epoch 68/100\n",
      "136/136 - 1s - loss: 0.2093 - acc: 0.9191\n",
      "Epoch 69/100\n",
      "136/136 - 1s - loss: 0.1932 - acc: 0.8971\n",
      "Epoch 70/100\n",
      "136/136 - 1s - loss: 0.2557 - acc: 0.9118\n",
      "Epoch 71/100\n",
      "136/136 - 1s - loss: 0.2212 - acc: 0.8824\n",
      "Epoch 72/100\n",
      "136/136 - 1s - loss: 0.2760 - acc: 0.8897\n",
      "Epoch 73/100\n",
      "136/136 - 1s - loss: 0.2439 - acc: 0.9044\n",
      "Epoch 74/100\n",
      "136/136 - 1s - loss: 0.2213 - acc: 0.9044\n",
      "Epoch 75/100\n",
      "136/136 - 2s - loss: 0.2298 - acc: 0.9338\n",
      "Epoch 76/100\n",
      "136/136 - 1s - loss: 0.2142 - acc: 0.9191\n",
      "Epoch 77/100\n",
      "136/136 - 1s - loss: 0.2374 - acc: 0.8897\n",
      "Epoch 78/100\n",
      "136/136 - 1s - loss: 0.2270 - acc: 0.8824\n",
      "Epoch 79/100\n",
      "136/136 - 1s - loss: 0.1876 - acc: 0.9044\n",
      "Epoch 80/100\n",
      "136/136 - 1s - loss: 0.2414 - acc: 0.8971\n",
      "Epoch 81/100\n",
      "136/136 - 1s - loss: 0.2450 - acc: 0.9118\n",
      "Epoch 82/100\n",
      "136/136 - 1s - loss: 0.2280 - acc: 0.8676\n",
      "Epoch 83/100\n",
      "136/136 - 1s - loss: 0.2202 - acc: 0.8824\n",
      "Epoch 84/100\n",
      "136/136 - 1s - loss: 0.2121 - acc: 0.9044\n",
      "Epoch 85/100\n",
      "136/136 - 1s - loss: 0.2074 - acc: 0.8897\n",
      "Epoch 86/100\n",
      "136/136 - 1s - loss: 0.2046 - acc: 0.8824\n",
      "Epoch 87/100\n",
      "136/136 - 1s - loss: 0.2244 - acc: 0.8971\n",
      "Epoch 88/100\n",
      "136/136 - 1s - loss: 0.2401 - acc: 0.8971\n",
      "Epoch 89/100\n",
      "136/136 - 1s - loss: 0.2290 - acc: 0.9118\n",
      "Epoch 90/100\n",
      "136/136 - 1s - loss: 0.2491 - acc: 0.9118\n",
      "Epoch 91/100\n",
      "136/136 - 1s - loss: 0.2241 - acc: 0.9044\n",
      "Epoch 92/100\n",
      "136/136 - 1s - loss: 0.2692 - acc: 0.8676\n",
      "Epoch 93/100\n",
      "136/136 - 1s - loss: 0.2608 - acc: 0.8750\n",
      "Epoch 94/100\n",
      "136/136 - 1s - loss: 0.2119 - acc: 0.9044\n",
      "Epoch 95/100\n",
      "136/136 - 1s - loss: 0.2571 - acc: 0.8824\n",
      "Epoch 96/100\n",
      "136/136 - 1s - loss: 0.2150 - acc: 0.9191\n",
      "Epoch 97/100\n",
      "136/136 - 1s - loss: 0.2806 - acc: 0.8824\n",
      "Epoch 98/100\n",
      "136/136 - 1s - loss: 0.2162 - acc: 0.8971\n",
      "Epoch 99/100\n",
      "136/136 - 1s - loss: 0.1855 - acc: 0.9338\n",
      "Epoch 100/100\n",
      "136/136 - 1s - loss: 0.2762 - acc: 0.8676\n"
     ]
    },
    {
     "data": {
      "text/plain": [
       "<tensorflow.python.keras.callbacks.History at 0x1a42cb1f60>"
      ]
     },
     "execution_count": 22,
     "metadata": {},
     "output_type": "execute_result"
    }
   ],
   "source": [
    "# Fit the model to the training data\n",
    "# Shuffle True/False to randomize the training data rows being fed into the model\n",
    "model.fit(reshaped_X1_train_scaled, y1_train, epochs=100, shuffle=True, verbose=2)"
   ]
  },
  {
   "cell_type": "code",
   "execution_count": 23,
   "metadata": {
    "scrolled": true
   },
   "outputs": [
    {
     "name": "stdout",
     "output_type": "stream",
     "text": [
      "34/34 - 2s - loss: 0.5015 - acc: 0.7353\n"
     ]
    }
   ],
   "source": [
    "# Validate model using test data\n",
    "model_loss1, model_accuracy1 = model.evaluate(reshaped_X1_test_scaled, y1_test, verbose=2)"
   ]
  },
  {
   "cell_type": "code",
   "execution_count": 29,
   "metadata": {},
   "outputs": [
    {
     "data": {
      "text/plain": [
       "array([0, 0, 1, 0, 1, 1, 0, 0, 0, 1, 0, 0, 0, 0, 0, 1, 0, 0, 1, 0, 1, 0,\n",
       "       0, 0, 0, 1, 1, 1, 0, 0, 0, 0, 0, 0])"
      ]
     },
     "execution_count": 29,
     "metadata": {},
     "output_type": "execute_result"
    }
   ],
   "source": [
    "# Make predictions using test data\n",
    "predictions1 = model.predict_classes(reshaped_X1_test_scaled)\n",
    "predictions1"
   ]
  },
  {
   "cell_type": "markdown",
   "metadata": {},
   "source": [
    "**Train and predict on X2-Y2 data (recession 2 quarters out)**"
   ]
  },
  {
   "cell_type": "code",
   "execution_count": 25,
   "metadata": {},
   "outputs": [
    {
     "name": "stdout",
     "output_type": "stream",
     "text": [
      "Epoch 1/100\n",
      "135/135 - 1s - loss: 0.2934 - acc: 0.8593\n",
      "Epoch 2/100\n",
      "135/135 - 1s - loss: 0.2631 - acc: 0.8889\n",
      "Epoch 3/100\n",
      "135/135 - 1s - loss: 0.2202 - acc: 0.8963\n",
      "Epoch 4/100\n",
      "135/135 - 1s - loss: 0.2378 - acc: 0.8963\n",
      "Epoch 5/100\n",
      "135/135 - 1s - loss: 0.2344 - acc: 0.9111\n",
      "Epoch 6/100\n",
      "135/135 - 1s - loss: 0.2368 - acc: 0.8889\n",
      "Epoch 7/100\n",
      "135/135 - 1s - loss: 0.2429 - acc: 0.8741\n",
      "Epoch 8/100\n",
      "135/135 - 1s - loss: 0.2030 - acc: 0.8815\n",
      "Epoch 9/100\n",
      "135/135 - 1s - loss: 0.2130 - acc: 0.8963\n",
      "Epoch 10/100\n",
      "135/135 - 1s - loss: 0.2328 - acc: 0.8889\n",
      "Epoch 11/100\n",
      "135/135 - 1s - loss: 0.2068 - acc: 0.9037\n",
      "Epoch 12/100\n",
      "135/135 - 1s - loss: 0.1773 - acc: 0.9259\n",
      "Epoch 13/100\n",
      "135/135 - 1s - loss: 0.1970 - acc: 0.9185\n",
      "Epoch 14/100\n",
      "135/135 - 1s - loss: 0.1857 - acc: 0.9111\n",
      "Epoch 15/100\n",
      "135/135 - 1s - loss: 0.1887 - acc: 0.9185\n",
      "Epoch 16/100\n",
      "135/135 - 1s - loss: 0.1948 - acc: 0.9037\n",
      "Epoch 17/100\n",
      "135/135 - 1s - loss: 0.2254 - acc: 0.8963\n",
      "Epoch 18/100\n",
      "135/135 - 1s - loss: 0.2013 - acc: 0.8741\n",
      "Epoch 19/100\n",
      "135/135 - 1s - loss: 0.2012 - acc: 0.8815\n",
      "Epoch 20/100\n",
      "135/135 - 1s - loss: 0.2198 - acc: 0.9111\n",
      "Epoch 21/100\n",
      "135/135 - 1s - loss: 0.1581 - acc: 0.9259\n",
      "Epoch 22/100\n",
      "135/135 - 1s - loss: 0.1813 - acc: 0.8963\n",
      "Epoch 23/100\n",
      "135/135 - 1s - loss: 0.1929 - acc: 0.9185\n",
      "Epoch 24/100\n",
      "135/135 - 1s - loss: 0.1576 - acc: 0.9111\n",
      "Epoch 25/100\n",
      "135/135 - 1s - loss: 0.1325 - acc: 0.9556\n",
      "Epoch 26/100\n",
      "135/135 - 1s - loss: 0.1851 - acc: 0.8889\n",
      "Epoch 27/100\n",
      "135/135 - 1s - loss: 0.1866 - acc: 0.8815\n",
      "Epoch 28/100\n",
      "135/135 - 1s - loss: 0.1624 - acc: 0.9407\n",
      "Epoch 29/100\n",
      "135/135 - 1s - loss: 0.2197 - acc: 0.8963\n",
      "Epoch 30/100\n",
      "135/135 - 1s - loss: 0.1852 - acc: 0.9185\n",
      "Epoch 31/100\n",
      "135/135 - 1s - loss: 0.1962 - acc: 0.9185\n",
      "Epoch 32/100\n",
      "135/135 - 1s - loss: 0.2149 - acc: 0.9111\n",
      "Epoch 33/100\n",
      "135/135 - 1s - loss: 0.1763 - acc: 0.9111\n",
      "Epoch 34/100\n",
      "135/135 - 1s - loss: 0.1618 - acc: 0.9185\n",
      "Epoch 35/100\n",
      "135/135 - 1s - loss: 0.3518 - acc: 0.9037\n",
      "Epoch 36/100\n",
      "135/135 - 1s - loss: 0.1964 - acc: 0.9111\n",
      "Epoch 37/100\n",
      "135/135 - 1s - loss: 0.1738 - acc: 0.9185\n",
      "Epoch 38/100\n",
      "135/135 - 1s - loss: 0.1379 - acc: 0.9333\n",
      "Epoch 39/100\n",
      "135/135 - 1s - loss: 0.1969 - acc: 0.8963\n",
      "Epoch 40/100\n",
      "135/135 - 1s - loss: 0.2185 - acc: 0.9111\n",
      "Epoch 41/100\n",
      "135/135 - 1s - loss: 0.1966 - acc: 0.9111\n",
      "Epoch 42/100\n",
      "135/135 - 1s - loss: 0.1851 - acc: 0.9185\n",
      "Epoch 43/100\n",
      "135/135 - 1s - loss: 0.2485 - acc: 0.8889\n",
      "Epoch 44/100\n",
      "135/135 - 1s - loss: 0.2170 - acc: 0.9037\n",
      "Epoch 45/100\n",
      "135/135 - 1s - loss: 0.1846 - acc: 0.9185\n",
      "Epoch 46/100\n",
      "135/135 - 1s - loss: 0.1892 - acc: 0.9333\n",
      "Epoch 47/100\n",
      "135/135 - 1s - loss: 0.2207 - acc: 0.9185\n",
      "Epoch 48/100\n",
      "135/135 - 1s - loss: 0.1717 - acc: 0.9037\n",
      "Epoch 49/100\n",
      "135/135 - 1s - loss: 0.1376 - acc: 0.9556\n",
      "Epoch 50/100\n",
      "135/135 - 1s - loss: 0.1659 - acc: 0.9037\n",
      "Epoch 51/100\n",
      "135/135 - 1s - loss: 0.2244 - acc: 0.9111\n",
      "Epoch 52/100\n",
      "135/135 - 1s - loss: 0.2225 - acc: 0.9037\n",
      "Epoch 53/100\n",
      "135/135 - 1s - loss: 0.1600 - acc: 0.9259\n",
      "Epoch 54/100\n",
      "135/135 - 1s - loss: 0.1883 - acc: 0.9037\n",
      "Epoch 55/100\n",
      "135/135 - 1s - loss: 0.1922 - acc: 0.9037\n",
      "Epoch 56/100\n",
      "135/135 - 1s - loss: 0.1671 - acc: 0.9037\n",
      "Epoch 57/100\n",
      "135/135 - 1s - loss: 0.1907 - acc: 0.9259\n",
      "Epoch 58/100\n",
      "135/135 - 1s - loss: 0.2179 - acc: 0.9259\n",
      "Epoch 59/100\n",
      "135/135 - 1s - loss: 0.2209 - acc: 0.9037\n",
      "Epoch 60/100\n",
      "135/135 - 1s - loss: 0.1674 - acc: 0.9037\n",
      "Epoch 61/100\n",
      "135/135 - 1s - loss: 0.1873 - acc: 0.9333\n",
      "Epoch 62/100\n",
      "135/135 - 1s - loss: 0.2033 - acc: 0.8963\n",
      "Epoch 63/100\n",
      "135/135 - 1s - loss: 0.1702 - acc: 0.9259\n",
      "Epoch 64/100\n",
      "135/135 - 1s - loss: 0.1886 - acc: 0.9333\n",
      "Epoch 65/100\n",
      "135/135 - 1s - loss: 0.1426 - acc: 0.9556\n",
      "Epoch 66/100\n",
      "135/135 - 1s - loss: 0.2092 - acc: 0.9037\n",
      "Epoch 67/100\n",
      "135/135 - 1s - loss: 0.1776 - acc: 0.9037\n",
      "Epoch 68/100\n",
      "135/135 - 1s - loss: 0.1435 - acc: 0.9407\n",
      "Epoch 69/100\n",
      "135/135 - 1s - loss: 0.1666 - acc: 0.9185\n",
      "Epoch 70/100\n",
      "135/135 - 1s - loss: 0.1572 - acc: 0.9333\n",
      "Epoch 71/100\n",
      "135/135 - 1s - loss: 0.1437 - acc: 0.9333\n",
      "Epoch 72/100\n",
      "135/135 - 1s - loss: 0.1522 - acc: 0.9185\n",
      "Epoch 73/100\n",
      "135/135 - 1s - loss: 0.1431 - acc: 0.9556\n",
      "Epoch 74/100\n",
      "135/135 - 1s - loss: 0.1479 - acc: 0.9556\n",
      "Epoch 75/100\n",
      "135/135 - 1s - loss: 0.1463 - acc: 0.9259\n",
      "Epoch 76/100\n",
      "135/135 - 1s - loss: 0.1792 - acc: 0.8963\n",
      "Epoch 77/100\n",
      "135/135 - 1s - loss: 0.1906 - acc: 0.9259\n",
      "Epoch 78/100\n",
      "135/135 - 1s - loss: 0.1293 - acc: 0.9407\n",
      "Epoch 79/100\n",
      "135/135 - 1s - loss: 0.1428 - acc: 0.9333\n",
      "Epoch 80/100\n",
      "135/135 - 1s - loss: 0.1338 - acc: 0.9037\n",
      "Epoch 81/100\n",
      "135/135 - 1s - loss: 0.1205 - acc: 0.9778\n",
      "Epoch 82/100\n",
      "135/135 - 1s - loss: 0.1618 - acc: 0.9259\n",
      "Epoch 83/100\n",
      "135/135 - 1s - loss: 0.1588 - acc: 0.9185\n",
      "Epoch 84/100\n",
      "135/135 - 1s - loss: 0.1718 - acc: 0.9111\n",
      "Epoch 85/100\n",
      "135/135 - 1s - loss: 0.1071 - acc: 0.9630\n",
      "Epoch 86/100\n",
      "135/135 - 1s - loss: 0.1421 - acc: 0.9407\n",
      "Epoch 87/100\n",
      "135/135 - 1s - loss: 0.1232 - acc: 0.9704\n",
      "Epoch 88/100\n",
      "135/135 - 1s - loss: 0.1172 - acc: 0.9481\n",
      "Epoch 89/100\n",
      "135/135 - 1s - loss: 0.1238 - acc: 0.9407\n",
      "Epoch 90/100\n",
      "135/135 - 1s - loss: 0.1506 - acc: 0.9556\n",
      "Epoch 91/100\n",
      "135/135 - 1s - loss: 0.1273 - acc: 0.9481\n",
      "Epoch 92/100\n",
      "135/135 - 1s - loss: 0.1114 - acc: 0.9481\n",
      "Epoch 93/100\n",
      "135/135 - 1s - loss: 0.1584 - acc: 0.9185\n",
      "Epoch 94/100\n",
      "135/135 - 1s - loss: 0.1153 - acc: 0.9481\n",
      "Epoch 95/100\n",
      "135/135 - 1s - loss: 0.1881 - acc: 0.9111\n",
      "Epoch 96/100\n",
      "135/135 - 1s - loss: 0.1373 - acc: 0.9407\n",
      "Epoch 97/100\n",
      "135/135 - 1s - loss: 0.1854 - acc: 0.9259\n",
      "Epoch 98/100\n",
      "135/135 - 1s - loss: 0.1375 - acc: 0.9481\n",
      "Epoch 99/100\n",
      "135/135 - 1s - loss: 0.1038 - acc: 0.9704\n",
      "Epoch 100/100\n",
      "135/135 - 1s - loss: 0.1538 - acc: 0.9259\n"
     ]
    },
    {
     "data": {
      "text/plain": [
       "<tensorflow.python.keras.callbacks.History at 0x1a42d760f0>"
      ]
     },
     "execution_count": 25,
     "metadata": {},
     "output_type": "execute_result"
    }
   ],
   "source": [
    "# Fit the model to the training data\n",
    "model.fit(reshaped_X2_train_scaled, y2_train, epochs=100, shuffle=True, verbose=2)"
   ]
  },
  {
   "cell_type": "code",
   "execution_count": 27,
   "metadata": {},
   "outputs": [
    {
     "name": "stdout",
     "output_type": "stream",
     "text": [
      "34/34 - 0s - loss: 0.1907 - acc: 0.9412\n"
     ]
    }
   ],
   "source": [
    "# Validate model using test data\n",
    "model_loss2, model_accuracy2 = model.evaluate(reshaped_X2_test_scaled, y2_test, verbose=2)"
   ]
  },
  {
   "cell_type": "code",
   "execution_count": 30,
   "metadata": {},
   "outputs": [
    {
     "data": {
      "text/plain": [
       "array([0, 0, 0, 0, 0, 1, 1, 0, 0, 0, 0, 0, 0, 0, 0, 0, 0, 1, 0, 0, 1, 1,\n",
       "       0, 0, 0, 0, 0, 1, 0, 0, 0, 0, 1, 0])"
      ]
     },
     "execution_count": 30,
     "metadata": {},
     "output_type": "execute_result"
    }
   ],
   "source": [
    "# Make predictions using test data\n",
    "predictions2 = model.predict_classes(reshaped_X2_test_scaled)\n",
    "predictions2"
   ]
  },
  {
   "cell_type": "markdown",
   "metadata": {},
   "source": [
    "**Train and predict on X3-Y3 data (recession 4 quarters out)**"
   ]
  },
  {
   "cell_type": "code",
   "execution_count": 31,
   "metadata": {},
   "outputs": [
    {
     "name": "stdout",
     "output_type": "stream",
     "text": [
      "Epoch 1/100\n",
      "133/133 - 1s - loss: 0.3635 - acc: 0.8722\n",
      "Epoch 2/100\n",
      "133/133 - 1s - loss: 0.2961 - acc: 0.8722\n",
      "Epoch 3/100\n",
      "133/133 - 1s - loss: 0.2129 - acc: 0.9023\n",
      "Epoch 4/100\n",
      "133/133 - 1s - loss: 0.2130 - acc: 0.9173\n",
      "Epoch 5/100\n",
      "133/133 - 1s - loss: 0.2176 - acc: 0.8872\n",
      "Epoch 6/100\n",
      "133/133 - 1s - loss: 0.1838 - acc: 0.9173\n",
      "Epoch 7/100\n",
      "133/133 - 1s - loss: 0.1620 - acc: 0.9173\n",
      "Epoch 8/100\n",
      "133/133 - 1s - loss: 0.1634 - acc: 0.9098\n",
      "Epoch 9/100\n",
      "133/133 - 1s - loss: 0.2026 - acc: 0.8947\n",
      "Epoch 10/100\n",
      "133/133 - 1s - loss: 0.2221 - acc: 0.8647\n",
      "Epoch 11/100\n",
      "133/133 - 1s - loss: 0.1815 - acc: 0.9098\n",
      "Epoch 12/100\n",
      "133/133 - 1s - loss: 0.1689 - acc: 0.9098\n",
      "Epoch 13/100\n",
      "133/133 - 1s - loss: 0.2610 - acc: 0.8872\n",
      "Epoch 14/100\n",
      "133/133 - 1s - loss: 0.1876 - acc: 0.9173\n",
      "Epoch 15/100\n",
      "133/133 - 1s - loss: 0.2291 - acc: 0.9098\n",
      "Epoch 16/100\n",
      "133/133 - 1s - loss: 0.1523 - acc: 0.9248\n",
      "Epoch 17/100\n",
      "133/133 - 1s - loss: 0.1813 - acc: 0.9098\n",
      "Epoch 18/100\n",
      "133/133 - 1s - loss: 0.1656 - acc: 0.9023\n",
      "Epoch 19/100\n",
      "133/133 - 1s - loss: 0.1530 - acc: 0.9323\n",
      "Epoch 20/100\n",
      "133/133 - 1s - loss: 0.1263 - acc: 0.9624\n",
      "Epoch 21/100\n",
      "133/133 - 1s - loss: 0.1438 - acc: 0.9248\n",
      "Epoch 22/100\n",
      "133/133 - 1s - loss: 0.1561 - acc: 0.9173\n",
      "Epoch 23/100\n",
      "133/133 - 1s - loss: 0.1690 - acc: 0.9323\n",
      "Epoch 24/100\n",
      "133/133 - 1s - loss: 0.1919 - acc: 0.9023\n",
      "Epoch 25/100\n",
      "133/133 - 1s - loss: 0.1402 - acc: 0.9023\n",
      "Epoch 26/100\n",
      "133/133 - 1s - loss: 0.1565 - acc: 0.9023\n",
      "Epoch 27/100\n",
      "133/133 - 1s - loss: 0.1885 - acc: 0.9173\n",
      "Epoch 28/100\n",
      "133/133 - 1s - loss: 0.1446 - acc: 0.9549\n",
      "Epoch 29/100\n",
      "133/133 - 1s - loss: 0.1488 - acc: 0.9173\n",
      "Epoch 30/100\n",
      "133/133 - 1s - loss: 0.1491 - acc: 0.9248\n",
      "Epoch 31/100\n",
      "133/133 - 1s - loss: 0.1560 - acc: 0.9098\n",
      "Epoch 32/100\n",
      "133/133 - 1s - loss: 0.1489 - acc: 0.9474\n",
      "Epoch 33/100\n",
      "133/133 - 1s - loss: 0.1512 - acc: 0.9474\n",
      "Epoch 34/100\n",
      "133/133 - 1s - loss: 0.1199 - acc: 0.9398\n",
      "Epoch 35/100\n",
      "133/133 - 1s - loss: 0.1305 - acc: 0.9474\n",
      "Epoch 36/100\n",
      "133/133 - 1s - loss: 0.1486 - acc: 0.9248\n",
      "Epoch 37/100\n",
      "133/133 - 1s - loss: 0.1727 - acc: 0.9398\n",
      "Epoch 38/100\n",
      "133/133 - 1s - loss: 0.1577 - acc: 0.9248\n",
      "Epoch 39/100\n",
      "133/133 - 1s - loss: 0.1915 - acc: 0.9173\n",
      "Epoch 40/100\n",
      "133/133 - 1s - loss: 0.1659 - acc: 0.8872\n",
      "Epoch 41/100\n",
      "133/133 - 1s - loss: 0.2311 - acc: 0.9173\n",
      "Epoch 42/100\n",
      "133/133 - 1s - loss: 0.2014 - acc: 0.9023\n",
      "Epoch 43/100\n",
      "133/133 - 1s - loss: 0.1460 - acc: 0.9323\n",
      "Epoch 44/100\n",
      "133/133 - 1s - loss: 0.1394 - acc: 0.9474\n",
      "Epoch 45/100\n",
      "133/133 - 1s - loss: 0.1590 - acc: 0.9173\n",
      "Epoch 46/100\n",
      "133/133 - 1s - loss: 0.1979 - acc: 0.9023\n",
      "Epoch 47/100\n",
      "133/133 - 1s - loss: 0.1355 - acc: 0.9474\n",
      "Epoch 48/100\n",
      "133/133 - 1s - loss: 0.1230 - acc: 0.9398\n",
      "Epoch 49/100\n",
      "133/133 - 1s - loss: 0.1475 - acc: 0.9323\n",
      "Epoch 50/100\n",
      "133/133 - 1s - loss: 0.1323 - acc: 0.9474\n",
      "Epoch 51/100\n",
      "133/133 - 1s - loss: 0.1532 - acc: 0.9398\n",
      "Epoch 52/100\n",
      "133/133 - 1s - loss: 0.1052 - acc: 0.9699\n",
      "Epoch 53/100\n",
      "133/133 - 1s - loss: 0.1486 - acc: 0.9173\n",
      "Epoch 54/100\n",
      "133/133 - 1s - loss: 0.1395 - acc: 0.9549\n",
      "Epoch 55/100\n",
      "133/133 - 1s - loss: 0.1413 - acc: 0.9398\n",
      "Epoch 56/100\n",
      "133/133 - 1s - loss: 0.1287 - acc: 0.9323\n",
      "Epoch 57/100\n",
      "133/133 - 1s - loss: 0.1116 - acc: 0.9474\n",
      "Epoch 58/100\n",
      "133/133 - 1s - loss: 0.1250 - acc: 0.9398\n",
      "Epoch 59/100\n",
      "133/133 - 1s - loss: 0.1238 - acc: 0.9173\n",
      "Epoch 60/100\n",
      "133/133 - 1s - loss: 0.1150 - acc: 0.9699\n",
      "Epoch 61/100\n",
      "133/133 - 1s - loss: 0.1152 - acc: 0.9323\n",
      "Epoch 62/100\n",
      "133/133 - 1s - loss: 0.1561 - acc: 0.9323\n",
      "Epoch 63/100\n",
      "133/133 - 1s - loss: 0.1314 - acc: 0.9248\n",
      "Epoch 64/100\n",
      "133/133 - 1s - loss: 0.1610 - acc: 0.9098\n",
      "Epoch 65/100\n",
      "133/133 - 1s - loss: 0.2623 - acc: 0.9023\n",
      "Epoch 66/100\n",
      "133/133 - 1s - loss: 0.4867 - acc: 0.8271\n",
      "Epoch 67/100\n",
      "133/133 - 1s - loss: 0.2775 - acc: 0.8797\n",
      "Epoch 68/100\n",
      "133/133 - 1s - loss: 0.2540 - acc: 0.8722\n",
      "Epoch 69/100\n",
      "133/133 - 1s - loss: 0.2026 - acc: 0.9023\n",
      "Epoch 70/100\n",
      "133/133 - 1s - loss: 0.2543 - acc: 0.8722\n",
      "Epoch 71/100\n",
      "133/133 - 1s - loss: 0.2240 - acc: 0.8872\n",
      "Epoch 72/100\n",
      "133/133 - 1s - loss: 0.1757 - acc: 0.9323\n",
      "Epoch 73/100\n",
      "133/133 - 1s - loss: 0.2260 - acc: 0.9023\n",
      "Epoch 74/100\n",
      "133/133 - 1s - loss: 0.1594 - acc: 0.9173\n",
      "Epoch 75/100\n",
      "133/133 - 1s - loss: 0.2246 - acc: 0.8947\n",
      "Epoch 76/100\n",
      "133/133 - 1s - loss: 0.1496 - acc: 0.9173\n",
      "Epoch 77/100\n",
      "133/133 - 1s - loss: 0.1624 - acc: 0.9248\n",
      "Epoch 78/100\n",
      "133/133 - 1s - loss: 0.1172 - acc: 0.9474\n",
      "Epoch 79/100\n",
      "133/133 - 1s - loss: 0.1668 - acc: 0.9173\n",
      "Epoch 80/100\n",
      "133/133 - 1s - loss: 0.1677 - acc: 0.9248\n",
      "Epoch 81/100\n",
      "133/133 - 1s - loss: 0.1796 - acc: 0.9474\n",
      "Epoch 82/100\n",
      "133/133 - 1s - loss: 0.1663 - acc: 0.9248\n",
      "Epoch 83/100\n",
      "133/133 - 1s - loss: 0.1629 - acc: 0.9323\n",
      "Epoch 84/100\n",
      "133/133 - 1s - loss: 0.2102 - acc: 0.9023\n",
      "Epoch 85/100\n",
      "133/133 - 1s - loss: 0.1193 - acc: 0.9549\n",
      "Epoch 86/100\n",
      "133/133 - 1s - loss: 0.1437 - acc: 0.9173\n",
      "Epoch 87/100\n",
      "133/133 - 1s - loss: 0.1336 - acc: 0.9323\n",
      "Epoch 88/100\n",
      "133/133 - 1s - loss: 0.1575 - acc: 0.9323\n",
      "Epoch 89/100\n",
      "133/133 - 1s - loss: 0.1402 - acc: 0.9323\n",
      "Epoch 90/100\n",
      "133/133 - 1s - loss: 0.1596 - acc: 0.9098\n",
      "Epoch 91/100\n",
      "133/133 - 1s - loss: 0.1201 - acc: 0.9398\n",
      "Epoch 92/100\n",
      "133/133 - 1s - loss: 0.1315 - acc: 0.9624\n",
      "Epoch 93/100\n",
      "133/133 - 1s - loss: 0.1347 - acc: 0.9398\n",
      "Epoch 94/100\n",
      "133/133 - 1s - loss: 0.1221 - acc: 0.9549\n",
      "Epoch 95/100\n",
      "133/133 - 1s - loss: 0.1587 - acc: 0.9323\n",
      "Epoch 96/100\n",
      "133/133 - 1s - loss: 0.1467 - acc: 0.9323\n",
      "Epoch 97/100\n",
      "133/133 - 1s - loss: 0.1561 - acc: 0.9248\n",
      "Epoch 98/100\n",
      "133/133 - 1s - loss: 0.1241 - acc: 0.9248\n",
      "Epoch 99/100\n",
      "133/133 - 1s - loss: 0.1638 - acc: 0.9173\n",
      "Epoch 100/100\n",
      "133/133 - 1s - loss: 0.2122 - acc: 0.8797\n"
     ]
    },
    {
     "data": {
      "text/plain": [
       "<tensorflow.python.keras.callbacks.History at 0x1a42dfc3c8>"
      ]
     },
     "execution_count": 31,
     "metadata": {},
     "output_type": "execute_result"
    }
   ],
   "source": [
    "# Fit the model to the training data\n",
    "model.fit(reshaped_X3_train_scaled, y3_train, epochs=100, shuffle=True, verbose=2)"
   ]
  },
  {
   "cell_type": "code",
   "execution_count": 32,
   "metadata": {},
   "outputs": [
    {
     "name": "stdout",
     "output_type": "stream",
     "text": [
      "34/34 - 0s - loss: 0.1540 - acc: 0.9706\n"
     ]
    }
   ],
   "source": [
    "# Validate model using test data\n",
    "model_loss3, model_accuracy3 = model.evaluate(reshaped_X3_test_scaled, y3_test, verbose=2)"
   ]
  },
  {
   "cell_type": "code",
   "execution_count": 33,
   "metadata": {},
   "outputs": [
    {
     "data": {
      "text/plain": [
       "array([1, 0, 0, 0, 0, 0, 0, 0, 0, 0, 0, 0, 0, 0, 0, 0, 0, 1, 0, 0, 0, 0,\n",
       "       0, 0, 0, 0, 1, 0, 0, 0, 1, 0, 0, 0])"
      ]
     },
     "execution_count": 33,
     "metadata": {},
     "output_type": "execute_result"
    }
   ],
   "source": [
    "# Make predictions using test data\n",
    "predictions3 = model.predict_classes(reshaped_X3_test_scaled)\n",
    "predictions3"
   ]
  },
  {
   "cell_type": "code",
   "execution_count": null,
   "metadata": {},
   "outputs": [],
   "source": []
  }
 ],
 "metadata": {
  "kernelspec": {
   "display_name": "Python 3",
   "language": "python",
   "name": "python3"
  },
  "language_info": {
   "codemirror_mode": {
    "name": "ipython",
    "version": 3
   },
   "file_extension": ".py",
   "mimetype": "text/x-python",
   "name": "python",
   "nbconvert_exporter": "python",
   "pygments_lexer": "ipython3",
   "version": "3.7.3"
  }
 },
 "nbformat": 4,
 "nbformat_minor": 2
}
